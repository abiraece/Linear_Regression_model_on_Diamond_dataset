{
 "cells": [
  {
   "cell_type": "markdown",
   "metadata": {},
   "source": [
    "# Diamond Dataset"
   ]
  },
  {
   "cell_type": "markdown",
   "metadata": {},
   "source": [
    "Our objective is to predict the price of the diamond.\n",
    "\n",
    "**The data definition is as follows:** <br>\n",
    "\n",
    "**carat**: Weight of the diamond\n",
    "\n",
    "**cut**: Quality of the cut (Fair, Good, Very Good, Premium, Ideal)\n",
    "\n",
    "**color**: Diamond color\n",
    "\n",
    "**depth**: Total depth percentage (it is calculated as: 2 * z / (x + y))\n",
    "\n",
    "**table**: Width of top of the diamond relative to the widest point \n",
    "\n",
    "**price**: Price of a diamond in US dollars (target/dependent variable)\n",
    "\n",
    "**x**: Length of a diamond in mm\n",
    "\n",
    "**y**: Width of a diamond in mm\n",
    "\n",
    "**z**: Depth of a diamond in mm"
   ]
  },
  {
   "cell_type": "code",
   "execution_count": 1,
   "metadata": {},
   "outputs": [],
   "source": [
    "# Loading Library:\n",
    "import numpy as np\n",
    "import pandas as pd\n",
    "import matplotlib.pyplot as plt\n",
    "import seaborn as sns"
   ]
  },
  {
   "cell_type": "code",
   "execution_count": 2,
   "metadata": {},
   "outputs": [
    {
     "data": {
      "text/html": [
       "<div>\n",
       "<style scoped>\n",
       "    .dataframe tbody tr th:only-of-type {\n",
       "        vertical-align: middle;\n",
       "    }\n",
       "\n",
       "    .dataframe tbody tr th {\n",
       "        vertical-align: top;\n",
       "    }\n",
       "\n",
       "    .dataframe thead th {\n",
       "        text-align: right;\n",
       "    }\n",
       "</style>\n",
       "<table border=\"1\" class=\"dataframe\">\n",
       "  <thead>\n",
       "    <tr style=\"text-align: right;\">\n",
       "      <th></th>\n",
       "      <th>carat</th>\n",
       "      <th>cut</th>\n",
       "      <th>color</th>\n",
       "      <th>depth</th>\n",
       "      <th>table</th>\n",
       "      <th>price</th>\n",
       "      <th>x</th>\n",
       "      <th>y</th>\n",
       "      <th>z</th>\n",
       "    </tr>\n",
       "  </thead>\n",
       "  <tbody>\n",
       "    <tr>\n",
       "      <th>0</th>\n",
       "      <td>0.30</td>\n",
       "      <td>Good</td>\n",
       "      <td>F</td>\n",
       "      <td>61.1</td>\n",
       "      <td>61.0</td>\n",
       "      <td>682</td>\n",
       "      <td>4.29</td>\n",
       "      <td>4.32</td>\n",
       "      <td>2.63</td>\n",
       "    </tr>\n",
       "    <tr>\n",
       "      <th>1</th>\n",
       "      <td>0.72</td>\n",
       "      <td>Ideal</td>\n",
       "      <td>H</td>\n",
       "      <td>62.0</td>\n",
       "      <td>56.0</td>\n",
       "      <td>2443</td>\n",
       "      <td>5.80</td>\n",
       "      <td>5.74</td>\n",
       "      <td>3.58</td>\n",
       "    </tr>\n",
       "    <tr>\n",
       "      <th>2</th>\n",
       "      <td>1.71</td>\n",
       "      <td>Premium</td>\n",
       "      <td>J</td>\n",
       "      <td>62.9</td>\n",
       "      <td>58.0</td>\n",
       "      <td>8848</td>\n",
       "      <td>7.64</td>\n",
       "      <td>7.58</td>\n",
       "      <td>4.79</td>\n",
       "    </tr>\n",
       "    <tr>\n",
       "      <th>3</th>\n",
       "      <td>1.01</td>\n",
       "      <td>Premium</td>\n",
       "      <td>E</td>\n",
       "      <td>59.2</td>\n",
       "      <td>59.0</td>\n",
       "      <td>7287</td>\n",
       "      <td>6.67</td>\n",
       "      <td>6.60</td>\n",
       "      <td>3.93</td>\n",
       "    </tr>\n",
       "    <tr>\n",
       "      <th>4</th>\n",
       "      <td>0.52</td>\n",
       "      <td>Ideal</td>\n",
       "      <td>D</td>\n",
       "      <td>62.7</td>\n",
       "      <td>56.0</td>\n",
       "      <td>1720</td>\n",
       "      <td>5.17</td>\n",
       "      <td>5.14</td>\n",
       "      <td>3.23</td>\n",
       "    </tr>\n",
       "  </tbody>\n",
       "</table>\n",
       "</div>"
      ],
      "text/plain": [
       "   carat      cut color  depth  table  price     x     y     z\n",
       "0   0.30     Good     F   61.1   61.0    682  4.29  4.32  2.63\n",
       "1   0.72    Ideal     H   62.0   56.0   2443  5.80  5.74  3.58\n",
       "2   1.71  Premium     J   62.9   58.0   8848  7.64  7.58  4.79\n",
       "3   1.01  Premium     E   59.2   59.0   7287  6.67  6.60  3.93\n",
       "4   0.52    Ideal     D   62.7   56.0   1720  5.17  5.14  3.23"
      ]
     },
     "execution_count": 2,
     "metadata": {},
     "output_type": "execute_result"
    }
   ],
   "source": [
    "# Load Dataset:\n",
    "\n",
    "data = pd.read_csv('diamond_data.csv')\n",
    "data.head()"
   ]
  },
  {
   "cell_type": "markdown",
   "metadata": {},
   "source": [
    "# Preprocessing"
   ]
  },
  {
   "cell_type": "code",
   "execution_count": 8,
   "metadata": {},
   "outputs": [
    {
     "data": {
      "text/html": [
       "<div>\n",
       "<style scoped>\n",
       "    .dataframe tbody tr th:only-of-type {\n",
       "        vertical-align: middle;\n",
       "    }\n",
       "\n",
       "    .dataframe tbody tr th {\n",
       "        vertical-align: top;\n",
       "    }\n",
       "\n",
       "    .dataframe thead th {\n",
       "        text-align: right;\n",
       "    }\n",
       "</style>\n",
       "<table border=\"1\" class=\"dataframe\">\n",
       "  <thead>\n",
       "    <tr style=\"text-align: right;\">\n",
       "      <th></th>\n",
       "      <th>carat</th>\n",
       "      <th>depth</th>\n",
       "      <th>table</th>\n",
       "      <th>price</th>\n",
       "      <th>x</th>\n",
       "      <th>y</th>\n",
       "      <th>z</th>\n",
       "    </tr>\n",
       "  </thead>\n",
       "  <tbody>\n",
       "    <tr>\n",
       "      <th>count</th>\n",
       "      <td>1547.000000</td>\n",
       "      <td>1547.000000</td>\n",
       "      <td>1547.000000</td>\n",
       "      <td>1547.000000</td>\n",
       "      <td>1547.000000</td>\n",
       "      <td>1547.000000</td>\n",
       "      <td>1547.000000</td>\n",
       "    </tr>\n",
       "    <tr>\n",
       "      <th>mean</th>\n",
       "      <td>0.791325</td>\n",
       "      <td>61.762185</td>\n",
       "      <td>57.445184</td>\n",
       "      <td>3938.685844</td>\n",
       "      <td>5.713594</td>\n",
       "      <td>5.714460</td>\n",
       "      <td>3.528203</td>\n",
       "    </tr>\n",
       "    <tr>\n",
       "      <th>std</th>\n",
       "      <td>0.475814</td>\n",
       "      <td>1.439904</td>\n",
       "      <td>2.235772</td>\n",
       "      <td>4117.039798</td>\n",
       "      <td>1.126730</td>\n",
       "      <td>1.116477</td>\n",
       "      <td>0.693149</td>\n",
       "    </tr>\n",
       "    <tr>\n",
       "      <th>min</th>\n",
       "      <td>0.230000</td>\n",
       "      <td>54.600000</td>\n",
       "      <td>52.000000</td>\n",
       "      <td>327.000000</td>\n",
       "      <td>3.860000</td>\n",
       "      <td>3.880000</td>\n",
       "      <td>2.310000</td>\n",
       "    </tr>\n",
       "    <tr>\n",
       "      <th>25%</th>\n",
       "      <td>0.400000</td>\n",
       "      <td>61.100000</td>\n",
       "      <td>56.000000</td>\n",
       "      <td>918.000000</td>\n",
       "      <td>4.705000</td>\n",
       "      <td>4.720000</td>\n",
       "      <td>2.910000</td>\n",
       "    </tr>\n",
       "    <tr>\n",
       "      <th>50%</th>\n",
       "      <td>0.700000</td>\n",
       "      <td>61.900000</td>\n",
       "      <td>57.000000</td>\n",
       "      <td>2301.000000</td>\n",
       "      <td>5.640000</td>\n",
       "      <td>5.660000</td>\n",
       "      <td>3.500000</td>\n",
       "    </tr>\n",
       "    <tr>\n",
       "      <th>75%</th>\n",
       "      <td>1.035000</td>\n",
       "      <td>62.500000</td>\n",
       "      <td>59.000000</td>\n",
       "      <td>5188.000000</td>\n",
       "      <td>6.535000</td>\n",
       "      <td>6.520000</td>\n",
       "      <td>4.030000</td>\n",
       "    </tr>\n",
       "    <tr>\n",
       "      <th>max</th>\n",
       "      <td>2.660000</td>\n",
       "      <td>71.800000</td>\n",
       "      <td>70.000000</td>\n",
       "      <td>18803.000000</td>\n",
       "      <td>9.080000</td>\n",
       "      <td>9.010000</td>\n",
       "      <td>5.540000</td>\n",
       "    </tr>\n",
       "  </tbody>\n",
       "</table>\n",
       "</div>"
      ],
      "text/plain": [
       "             carat        depth        table         price            x  \\\n",
       "count  1547.000000  1547.000000  1547.000000   1547.000000  1547.000000   \n",
       "mean      0.791325    61.762185    57.445184   3938.685844     5.713594   \n",
       "std       0.475814     1.439904     2.235772   4117.039798     1.126730   \n",
       "min       0.230000    54.600000    52.000000    327.000000     3.860000   \n",
       "25%       0.400000    61.100000    56.000000    918.000000     4.705000   \n",
       "50%       0.700000    61.900000    57.000000   2301.000000     5.640000   \n",
       "75%       1.035000    62.500000    59.000000   5188.000000     6.535000   \n",
       "max       2.660000    71.800000    70.000000  18803.000000     9.080000   \n",
       "\n",
       "                 y            z  \n",
       "count  1547.000000  1547.000000  \n",
       "mean      5.714460     3.528203  \n",
       "std       1.116477     0.693149  \n",
       "min       3.880000     2.310000  \n",
       "25%       4.720000     2.910000  \n",
       "50%       5.660000     3.500000  \n",
       "75%       6.520000     4.030000  \n",
       "max       9.010000     5.540000  "
      ]
     },
     "execution_count": 8,
     "metadata": {},
     "output_type": "execute_result"
    }
   ],
   "source": [
    "num_data = data.select_dtypes(include = np.number)\n",
    "num_data.describe()"
   ]
  },
  {
   "cell_type": "code",
   "execution_count": 9,
   "metadata": {},
   "outputs": [
    {
     "data": {
      "text/html": [
       "<div>\n",
       "<style scoped>\n",
       "    .dataframe tbody tr th:only-of-type {\n",
       "        vertical-align: middle;\n",
       "    }\n",
       "\n",
       "    .dataframe tbody tr th {\n",
       "        vertical-align: top;\n",
       "    }\n",
       "\n",
       "    .dataframe thead th {\n",
       "        text-align: right;\n",
       "    }\n",
       "</style>\n",
       "<table border=\"1\" class=\"dataframe\">\n",
       "  <thead>\n",
       "    <tr style=\"text-align: right;\">\n",
       "      <th></th>\n",
       "      <th>cut</th>\n",
       "      <th>color</th>\n",
       "    </tr>\n",
       "  </thead>\n",
       "  <tbody>\n",
       "    <tr>\n",
       "      <th>count</th>\n",
       "      <td>1547</td>\n",
       "      <td>1547</td>\n",
       "    </tr>\n",
       "    <tr>\n",
       "      <th>unique</th>\n",
       "      <td>5</td>\n",
       "      <td>7</td>\n",
       "    </tr>\n",
       "    <tr>\n",
       "      <th>top</th>\n",
       "      <td>Ideal</td>\n",
       "      <td>G</td>\n",
       "    </tr>\n",
       "    <tr>\n",
       "      <th>freq</th>\n",
       "      <td>611</td>\n",
       "      <td>317</td>\n",
       "    </tr>\n",
       "  </tbody>\n",
       "</table>\n",
       "</div>"
      ],
      "text/plain": [
       "          cut color\n",
       "count    1547  1547\n",
       "unique      5     7\n",
       "top     Ideal     G\n",
       "freq      611   317"
      ]
     },
     "execution_count": 9,
     "metadata": {},
     "output_type": "execute_result"
    }
   ],
   "source": [
    "cat_data = data.select_dtypes(exclude = np.number)\n",
    "cat_data.describe()"
   ]
  },
  {
   "cell_type": "code",
   "execution_count": 3,
   "metadata": {},
   "outputs": [
    {
     "data": {
      "text/plain": [
       "carat    float64\n",
       "cut       object\n",
       "color     object\n",
       "depth    float64\n",
       "table    float64\n",
       "price      int64\n",
       "x        float64\n",
       "y        float64\n",
       "z        float64\n",
       "dtype: object"
      ]
     },
     "execution_count": 3,
     "metadata": {},
     "output_type": "execute_result"
    }
   ],
   "source": [
    "# to check the datatype of diamond dataset:\n",
    "\n",
    "data.dtypes"
   ]
  },
  {
   "cell_type": "code",
   "execution_count": 4,
   "metadata": {},
   "outputs": [
    {
     "data": {
      "text/plain": [
       "carat    0.0\n",
       "cut      0.0\n",
       "color    0.0\n",
       "depth    0.0\n",
       "table    0.0\n",
       "price    0.0\n",
       "x        0.0\n",
       "y        0.0\n",
       "z        0.0\n",
       "dtype: float64"
      ]
     },
     "execution_count": 4,
     "metadata": {},
     "output_type": "execute_result"
    }
   ],
   "source": [
    "data.isnull().sum() / len(data)"
   ]
  },
  {
   "cell_type": "code",
   "execution_count": 5,
   "metadata": {},
   "outputs": [
    {
     "name": "stdout",
     "output_type": "stream",
     "text": [
      "0.30    80\n",
      "1.01    68\n",
      "0.31    62\n",
      "0.70    59\n",
      "0.32    56\n",
      "        ..\n",
      "0.84     1\n",
      "2.40     1\n",
      "2.26     1\n",
      "2.55     1\n",
      "0.66     1\n",
      "Name: carat, Length: 168, dtype: int64\n",
      "Ideal        611\n",
      "Premium      389\n",
      "Very Good    358\n",
      "Good         148\n",
      "Fair          41\n",
      "Name: cut, dtype: int64\n",
      "G    317\n",
      "E    281\n",
      "F    274\n",
      "H    244\n",
      "D    206\n",
      "I    141\n",
      "J     84\n",
      "Name: color, dtype: int64\n",
      "61.6    74\n",
      "62.1    62\n",
      "62.0    61\n",
      "61.9    59\n",
      "62.3    57\n",
      "        ..\n",
      "56.9     1\n",
      "54.6     1\n",
      "64.9     1\n",
      "66.9     1\n",
      "64.7     1\n",
      "Name: depth, Length: 94, dtype: int64\n",
      "57.0    281\n",
      "56.0    275\n",
      "58.0    236\n",
      "55.0    189\n",
      "59.0    188\n",
      "60.0    125\n",
      "54.0     68\n",
      "61.0     64\n",
      "62.0     36\n",
      "53.0     18\n",
      "63.0     17\n",
      "64.0      8\n",
      "65.0      5\n",
      "52.0      4\n",
      "55.6      2\n",
      "66.0      2\n",
      "55.9      2\n",
      "54.1      2\n",
      "54.2      2\n",
      "60.3      1\n",
      "62.5      1\n",
      "54.7      1\n",
      "60.2      1\n",
      "55.3      1\n",
      "58.9      1\n",
      "56.4      1\n",
      "54.3      1\n",
      "53.6      1\n",
      "57.5      1\n",
      "55.4      1\n",
      "57.8      1\n",
      "60.1      1\n",
      "70.0      1\n",
      "68.0      1\n",
      "54.4      1\n",
      "53.8      1\n",
      "53.2      1\n",
      "53.9      1\n",
      "56.7      1\n",
      "59.4      1\n",
      "55.1      1\n",
      "54.6      1\n",
      "Name: table, dtype: int64\n",
      "891     7\n",
      "552     5\n",
      "720     5\n",
      "1577    5\n",
      "698     5\n",
      "       ..\n",
      "1237    1\n",
      "1238    1\n",
      "1239    1\n",
      "1240    1\n",
      "2048    1\n",
      "Name: price, Length: 1276, dtype: int64\n",
      "4.33    16\n",
      "4.32    16\n",
      "4.28    15\n",
      "4.37    15\n",
      "4.36    15\n",
      "        ..\n",
      "4.02     1\n",
      "8.19     1\n",
      "7.61     1\n",
      "8.35     1\n",
      "4.51     1\n",
      "Name: x, Length: 399, dtype: int64\n",
      "4.32    17\n",
      "4.40    15\n",
      "4.36    14\n",
      "4.31    14\n",
      "6.41    14\n",
      "        ..\n",
      "8.18     1\n",
      "4.90     1\n",
      "5.89     1\n",
      "4.89     1\n",
      "8.58     1\n",
      "Name: y, Length: 393, dtype: int64\n",
      "2.72    23\n",
      "2.70    23\n",
      "2.73    22\n",
      "4.03    22\n",
      "2.71    21\n",
      "        ..\n",
      "5.17     1\n",
      "5.28     1\n",
      "2.49     1\n",
      "4.88     1\n",
      "4.99     1\n",
      "Name: z, Length: 268, dtype: int64\n"
     ]
    }
   ],
   "source": [
    "for i in data.columns:\n",
    "    print(data[i].value_counts())"
   ]
  },
  {
   "cell_type": "code",
   "execution_count": 6,
   "metadata": {},
   "outputs": [],
   "source": [
    "# Infernce: there is no null values or anyother special characters in the dataset."
   ]
  },
  {
   "cell_type": "code",
   "execution_count": 12,
   "metadata": {},
   "outputs": [
    {
     "data": {
      "text/plain": [
       "Ideal        611\n",
       "Premium      389\n",
       "Very Good    358\n",
       "Good         148\n",
       "Fair          41\n",
       "Name: cut, dtype: int64"
      ]
     },
     "execution_count": 12,
     "metadata": {},
     "output_type": "execute_result"
    }
   ],
   "source": [
    "# To Process the dataset in machine learning model encode categorical column:\n",
    "data['cut'].value_counts()"
   ]
  },
  {
   "cell_type": "code",
   "execution_count": 13,
   "metadata": {},
   "outputs": [
    {
     "data": {
      "text/plain": [
       "G    317\n",
       "E    281\n",
       "F    274\n",
       "H    244\n",
       "D    206\n",
       "I    141\n",
       "J     84\n",
       "Name: color, dtype: int64"
      ]
     },
     "execution_count": 13,
     "metadata": {},
     "output_type": "execute_result"
    }
   ],
   "source": [
    "data['color'].value_counts()"
   ]
  },
  {
   "cell_type": "code",
   "execution_count": null,
   "metadata": {},
   "outputs": [],
   "source": [
    "# Cut is the ordinal categorical data, color is the nominal catgeorical data\n",
    "\n",
    "# ordinal categorical data can be encoded using label encoder or ordinal encoder or using replace\n",
    "\n",
    "# nominal categorical data can be encoded using one-hot encoding or frequency encoding or target encoding"
   ]
  },
  {
   "cell_type": "code",
   "execution_count": 14,
   "metadata": {},
   "outputs": [],
   "source": [
    "from sklearn.preprocessing import LabelEncoder"
   ]
  },
  {
   "cell_type": "code",
   "execution_count": 15,
   "metadata": {},
   "outputs": [
    {
     "data": {
      "text/html": [
       "<div>\n",
       "<style scoped>\n",
       "    .dataframe tbody tr th:only-of-type {\n",
       "        vertical-align: middle;\n",
       "    }\n",
       "\n",
       "    .dataframe tbody tr th {\n",
       "        vertical-align: top;\n",
       "    }\n",
       "\n",
       "    .dataframe thead th {\n",
       "        text-align: right;\n",
       "    }\n",
       "</style>\n",
       "<table border=\"1\" class=\"dataframe\">\n",
       "  <thead>\n",
       "    <tr style=\"text-align: right;\">\n",
       "      <th></th>\n",
       "      <th>carat</th>\n",
       "      <th>cut</th>\n",
       "      <th>color</th>\n",
       "      <th>depth</th>\n",
       "      <th>table</th>\n",
       "      <th>price</th>\n",
       "      <th>x</th>\n",
       "      <th>y</th>\n",
       "      <th>z</th>\n",
       "    </tr>\n",
       "  </thead>\n",
       "  <tbody>\n",
       "    <tr>\n",
       "      <th>0</th>\n",
       "      <td>0.30</td>\n",
       "      <td>1</td>\n",
       "      <td>F</td>\n",
       "      <td>61.1</td>\n",
       "      <td>61.0</td>\n",
       "      <td>682</td>\n",
       "      <td>4.29</td>\n",
       "      <td>4.32</td>\n",
       "      <td>2.63</td>\n",
       "    </tr>\n",
       "    <tr>\n",
       "      <th>1</th>\n",
       "      <td>0.72</td>\n",
       "      <td>2</td>\n",
       "      <td>H</td>\n",
       "      <td>62.0</td>\n",
       "      <td>56.0</td>\n",
       "      <td>2443</td>\n",
       "      <td>5.80</td>\n",
       "      <td>5.74</td>\n",
       "      <td>3.58</td>\n",
       "    </tr>\n",
       "    <tr>\n",
       "      <th>2</th>\n",
       "      <td>1.71</td>\n",
       "      <td>3</td>\n",
       "      <td>J</td>\n",
       "      <td>62.9</td>\n",
       "      <td>58.0</td>\n",
       "      <td>8848</td>\n",
       "      <td>7.64</td>\n",
       "      <td>7.58</td>\n",
       "      <td>4.79</td>\n",
       "    </tr>\n",
       "    <tr>\n",
       "      <th>3</th>\n",
       "      <td>1.01</td>\n",
       "      <td>3</td>\n",
       "      <td>E</td>\n",
       "      <td>59.2</td>\n",
       "      <td>59.0</td>\n",
       "      <td>7287</td>\n",
       "      <td>6.67</td>\n",
       "      <td>6.60</td>\n",
       "      <td>3.93</td>\n",
       "    </tr>\n",
       "    <tr>\n",
       "      <th>4</th>\n",
       "      <td>0.52</td>\n",
       "      <td>2</td>\n",
       "      <td>D</td>\n",
       "      <td>62.7</td>\n",
       "      <td>56.0</td>\n",
       "      <td>1720</td>\n",
       "      <td>5.17</td>\n",
       "      <td>5.14</td>\n",
       "      <td>3.23</td>\n",
       "    </tr>\n",
       "  </tbody>\n",
       "</table>\n",
       "</div>"
      ],
      "text/plain": [
       "   carat  cut color  depth  table  price     x     y     z\n",
       "0   0.30    1     F   61.1   61.0    682  4.29  4.32  2.63\n",
       "1   0.72    2     H   62.0   56.0   2443  5.80  5.74  3.58\n",
       "2   1.71    3     J   62.9   58.0   8848  7.64  7.58  4.79\n",
       "3   1.01    3     E   59.2   59.0   7287  6.67  6.60  3.93\n",
       "4   0.52    2     D   62.7   56.0   1720  5.17  5.14  3.23"
      ]
     },
     "execution_count": 15,
     "metadata": {},
     "output_type": "execute_result"
    }
   ],
   "source": [
    "le = LabelEncoder()\n",
    "\n",
    "data['cut'] = le.fit_transform(data['cut'])\n",
    "data.head()"
   ]
  },
  {
   "cell_type": "code",
   "execution_count": 16,
   "metadata": {},
   "outputs": [
    {
     "data": {
      "text/html": [
       "<div>\n",
       "<style scoped>\n",
       "    .dataframe tbody tr th:only-of-type {\n",
       "        vertical-align: middle;\n",
       "    }\n",
       "\n",
       "    .dataframe tbody tr th {\n",
       "        vertical-align: top;\n",
       "    }\n",
       "\n",
       "    .dataframe thead th {\n",
       "        text-align: right;\n",
       "    }\n",
       "</style>\n",
       "<table border=\"1\" class=\"dataframe\">\n",
       "  <thead>\n",
       "    <tr style=\"text-align: right;\">\n",
       "      <th></th>\n",
       "      <th>carat</th>\n",
       "      <th>cut</th>\n",
       "      <th>color</th>\n",
       "      <th>depth</th>\n",
       "      <th>table</th>\n",
       "      <th>price</th>\n",
       "      <th>x</th>\n",
       "      <th>y</th>\n",
       "      <th>z</th>\n",
       "    </tr>\n",
       "  </thead>\n",
       "  <tbody>\n",
       "    <tr>\n",
       "      <th>0</th>\n",
       "      <td>0.30</td>\n",
       "      <td>1</td>\n",
       "      <td>0.177117</td>\n",
       "      <td>61.1</td>\n",
       "      <td>61.0</td>\n",
       "      <td>682</td>\n",
       "      <td>4.29</td>\n",
       "      <td>4.32</td>\n",
       "      <td>2.63</td>\n",
       "    </tr>\n",
       "    <tr>\n",
       "      <th>1</th>\n",
       "      <td>0.72</td>\n",
       "      <td>2</td>\n",
       "      <td>0.157725</td>\n",
       "      <td>62.0</td>\n",
       "      <td>56.0</td>\n",
       "      <td>2443</td>\n",
       "      <td>5.80</td>\n",
       "      <td>5.74</td>\n",
       "      <td>3.58</td>\n",
       "    </tr>\n",
       "    <tr>\n",
       "      <th>2</th>\n",
       "      <td>1.71</td>\n",
       "      <td>3</td>\n",
       "      <td>0.054299</td>\n",
       "      <td>62.9</td>\n",
       "      <td>58.0</td>\n",
       "      <td>8848</td>\n",
       "      <td>7.64</td>\n",
       "      <td>7.58</td>\n",
       "      <td>4.79</td>\n",
       "    </tr>\n",
       "    <tr>\n",
       "      <th>3</th>\n",
       "      <td>1.01</td>\n",
       "      <td>3</td>\n",
       "      <td>0.181642</td>\n",
       "      <td>59.2</td>\n",
       "      <td>59.0</td>\n",
       "      <td>7287</td>\n",
       "      <td>6.67</td>\n",
       "      <td>6.60</td>\n",
       "      <td>3.93</td>\n",
       "    </tr>\n",
       "    <tr>\n",
       "      <th>4</th>\n",
       "      <td>0.52</td>\n",
       "      <td>2</td>\n",
       "      <td>0.133161</td>\n",
       "      <td>62.7</td>\n",
       "      <td>56.0</td>\n",
       "      <td>1720</td>\n",
       "      <td>5.17</td>\n",
       "      <td>5.14</td>\n",
       "      <td>3.23</td>\n",
       "    </tr>\n",
       "  </tbody>\n",
       "</table>\n",
       "</div>"
      ],
      "text/plain": [
       "   carat  cut     color  depth  table  price     x     y     z\n",
       "0   0.30    1  0.177117   61.1   61.0    682  4.29  4.32  2.63\n",
       "1   0.72    2  0.157725   62.0   56.0   2443  5.80  5.74  3.58\n",
       "2   1.71    3  0.054299   62.9   58.0   8848  7.64  7.58  4.79\n",
       "3   1.01    3  0.181642   59.2   59.0   7287  6.67  6.60  3.93\n",
       "4   0.52    2  0.133161   62.7   56.0   1720  5.17  5.14  3.23"
      ]
     },
     "execution_count": 16,
     "metadata": {},
     "output_type": "execute_result"
    }
   ],
   "source": [
    "freq = data['color'].value_counts(normalize = True)\n",
    "data['color'] = data['color'].map(freq)\n",
    "data.head()"
   ]
  },
  {
   "cell_type": "code",
   "execution_count": 17,
   "metadata": {},
   "outputs": [
    {
     "data": {
      "image/png": "[encoded data removed]",
      "text/plain": [
       "<Figure size 432x288 with 1 Axes>"
      ]
     },
     "metadata": {
      "needs_background": "light"
     },
     "output_type": "display_data"
    },
    {
     "data": {
      "image/png": "[encoded data removed]",
      "text/plain": [
       "<Figure size 432x288 with 1 Axes>"
      ]
     },
     "metadata": {
      "needs_background": "light"
     },
     "output_type": "display_data"
    },
    {
     "data": {
      "image/png": "[encoded data removed]",
      "text/plain": [
       "<Figure size 432x288 with 1 Axes>"
      ]
     },
     "metadata": {
      "needs_background": "light"
     },
     "output_type": "display_data"
    },
    {
     "data": {
      "image/png": "[encoded data removed]",
      "text/plain": [
       "<Figure size 432x288 with 1 Axes>"
      ]
     },
     "metadata": {
      "needs_background": "light"
     },
     "output_type": "display_data"
    },
    {
     "data": {
      "image/png": "[encoded data removed]",
      "text/plain": [
       "<Figure size 432x288 with 1 Axes>"
      ]
     },
     "metadata": {
      "needs_background": "light"
     },
     "output_type": "display_data"
    },
    {
     "data": {
      "image/png": "[encoded data removed]",
      "text/plain": [
       "<Figure size 432x288 with 1 Axes>"
      ]
     },
     "metadata": {
      "needs_background": "light"
     },
     "output_type": "display_data"
    },
    {
     "data": {
      "image/png": "[encoded data removed]",
      "text/plain": [
       "<Figure size 432x288 with 1 Axes>"
      ]
     },
     "metadata": {
      "needs_background": "light"
     },
     "output_type": "display_data"
    },
    {
     "data": {
      "image/png": "[encoded data removed]",
      "text/plain": [
       "<Figure size 432x288 with 1 Axes>"
      ]
     },
     "metadata": {
      "needs_background": "light"
     },
     "output_type": "display_data"
    },
    {
     "data": {
      "image/png": "[encoded data removed]",
      "text/plain": [
       "<Figure size 432x288 with 1 Axes>"
      ]
     },
     "metadata": {
      "needs_background": "light"
     },
     "output_type": "display_data"
    }
   ],
   "source": [
    "for i in data.columns:\n",
    "    data[i].plot(kind = 'box')\n",
    "    plt.show()"
   ]
  },
  {
   "cell_type": "code",
   "execution_count": 19,
   "metadata": {},
   "outputs": [],
   "source": [
    "# to avoid outlier: capping is done\n",
    "\n",
    "for i in data.columns:\n",
    "    q1 = data[i].quantile(0.25)\n",
    "    q3 = data[i].quantile(0.75)\n",
    "    iqr = q3 - q1\n",
    "    ub = q3 + 1.5 * iqr\n",
    "    lb = q1 - 1.5 * iqr\n",
    "    uc = data[i].quantile(0.99)\n",
    "    lc = data[i].quantile(0.01)\n",
    "    for j in data[i].index:\n",
    "        if data.loc[j,i] > ub:\n",
    "            data.loc[j,i] = uc\n",
    "        if data.loc[j,i] < lc:\n",
    "            data.loc[j,i] = lc"
   ]
  },
  {
   "cell_type": "code",
   "execution_count": 20,
   "metadata": {},
   "outputs": [
    {
     "data": {
      "text/plain": [
       "carat    float64\n",
       "cut        int32\n",
       "color    float64\n",
       "depth    float64\n",
       "table    float64\n",
       "price    float64\n",
       "x        float64\n",
       "y        float64\n",
       "z        float64\n",
       "dtype: object"
      ]
     },
     "execution_count": 20,
     "metadata": {},
     "output_type": "execute_result"
    }
   ],
   "source": [
    "data.dtypes"
   ]
  },
  {
   "cell_type": "code",
   "execution_count": null,
   "metadata": {},
   "outputs": [],
   "source": [
    "# Step1 : OLS model building"
   ]
  },
  {
   "cell_type": "code",
   "execution_count": 21,
   "metadata": {},
   "outputs": [],
   "source": [
    "import scipy.stats as stats\n",
    "import statsmodels.api as sm"
   ]
  },
  {
   "cell_type": "code",
   "execution_count": 22,
   "metadata": {},
   "outputs": [
    {
     "data": {
      "text/html": [
       "<table class=\"simpletable\">\n",
       "<caption>OLS Regression Results</caption>\n",
       "<tr>\n",
       "  <th>Dep. Variable:</th>          <td>price</td>      <th>  R-squared:         </th> <td>   0.863</td> \n",
       "</tr>\n",
       "<tr>\n",
       "  <th>Model:</th>                   <td>OLS</td>       <th>  Adj. R-squared:    </th> <td>   0.862</td> \n",
       "</tr>\n",
       "<tr>\n",
       "  <th>Method:</th>             <td>Least Squares</td>  <th>  F-statistic:       </th> <td>   1209.</td> \n",
       "</tr>\n",
       "<tr>\n",
       "  <th>Date:</th>             <td>Wed, 06 Jan 2021</td> <th>  Prob (F-statistic):</th>  <td>  0.00</td>  \n",
       "</tr>\n",
       "<tr>\n",
       "  <th>Time:</th>                 <td>19:30:00</td>     <th>  Log-Likelihood:    </th> <td> -13740.</td> \n",
       "</tr>\n",
       "<tr>\n",
       "  <th>No. Observations:</th>      <td>  1547</td>      <th>  AIC:               </th> <td>2.750e+04</td>\n",
       "</tr>\n",
       "<tr>\n",
       "  <th>Df Residuals:</th>          <td>  1538</td>      <th>  BIC:               </th> <td>2.755e+04</td>\n",
       "</tr>\n",
       "<tr>\n",
       "  <th>Df Model:</th>              <td>     8</td>      <th>                     </th>     <td> </td>    \n",
       "</tr>\n",
       "<tr>\n",
       "  <th>Covariance Type:</th>      <td>nonrobust</td>    <th>                     </th>     <td> </td>    \n",
       "</tr>\n",
       "</table>\n",
       "<table class=\"simpletable\">\n",
       "<tr>\n",
       "    <td></td>       <th>coef</th>     <th>std err</th>      <th>t</th>      <th>P>|t|</th>  <th>[0.025</th>    <th>0.975]</th>  \n",
       "</tr>\n",
       "<tr>\n",
       "  <th>const</th> <td> 1.062e+04</td> <td> 8234.117</td> <td>    1.290</td> <td> 0.197</td> <td>-5526.434</td> <td> 2.68e+04</td>\n",
       "</tr>\n",
       "<tr>\n",
       "  <th>carat</th> <td> 1.469e+04</td> <td>  421.272</td> <td>   34.862</td> <td> 0.000</td> <td> 1.39e+04</td> <td> 1.55e+04</td>\n",
       "</tr>\n",
       "<tr>\n",
       "  <th>cut</th>   <td>  104.5564</td> <td>   44.454</td> <td>    2.352</td> <td> 0.019</td> <td>   17.359</td> <td>  191.754</td>\n",
       "</tr>\n",
       "<tr>\n",
       "  <th>color</th> <td> 1.081e+04</td> <td> 1109.717</td> <td>    9.744</td> <td> 0.000</td> <td> 8636.079</td> <td>  1.3e+04</td>\n",
       "</tr>\n",
       "<tr>\n",
       "  <th>depth</th> <td>   20.7878</td> <td>  129.297</td> <td>    0.161</td> <td> 0.872</td> <td> -232.829</td> <td>  274.404</td>\n",
       "</tr>\n",
       "<tr>\n",
       "  <th>table</th> <td> -131.4217</td> <td>   22.040</td> <td>   -5.963</td> <td> 0.000</td> <td> -174.654</td> <td>  -88.190</td>\n",
       "</tr>\n",
       "<tr>\n",
       "  <th>x</th>     <td>-3002.5660</td> <td> 1051.707</td> <td>   -2.855</td> <td> 0.004</td> <td>-5065.496</td> <td> -939.635</td>\n",
       "</tr>\n",
       "<tr>\n",
       "  <th>y</th>     <td> 2439.9156</td> <td> 1001.236</td> <td>    2.437</td> <td> 0.015</td> <td>  475.984</td> <td> 4403.847</td>\n",
       "</tr>\n",
       "<tr>\n",
       "  <th>z</th>     <td>-3020.3962</td> <td> 2007.521</td> <td>   -1.505</td> <td> 0.133</td> <td>-6958.163</td> <td>  917.371</td>\n",
       "</tr>\n",
       "</table>\n",
       "<table class=\"simpletable\">\n",
       "<tr>\n",
       "  <th>Omnibus:</th>       <td>757.460</td> <th>  Durbin-Watson:     </th> <td>   1.938</td>\n",
       "</tr>\n",
       "<tr>\n",
       "  <th>Prob(Omnibus):</th> <td> 0.000</td>  <th>  Jarque-Bera (JB):  </th> <td>8053.008</td>\n",
       "</tr>\n",
       "<tr>\n",
       "  <th>Skew:</th>          <td> 2.026</td>  <th>  Prob(JB):          </th> <td>    0.00</td>\n",
       "</tr>\n",
       "<tr>\n",
       "  <th>Kurtosis:</th>      <td>13.417</td>  <th>  Cond. No.          </th> <td>1.62e+04</td>\n",
       "</tr>\n",
       "</table><br/><br/>Notes:<br/>[1] Standard Errors assume that the covariance matrix of the errors is correctly specified.<br/>[2] The condition number is large, 1.62e+04. This might indicate that there are<br/>strong multicollinearity or other numerical problems."
      ],
      "text/plain": [
       "<class 'statsmodels.iolib.summary.Summary'>\n",
       "\"\"\"\n",
       "                            OLS Regression Results                            \n",
       "==============================================================================\n",
       "Dep. Variable:                  price   R-squared:                       0.863\n",
       "Model:                            OLS   Adj. R-squared:                  0.862\n",
       "Method:                 Least Squares   F-statistic:                     1209.\n",
       "Date:                Wed, 06 Jan 2021   Prob (F-statistic):               0.00\n",
       "Time:                        19:30:00   Log-Likelihood:                -13740.\n",
       "No. Observations:                1547   AIC:                         2.750e+04\n",
       "Df Residuals:                    1538   BIC:                         2.755e+04\n",
       "Df Model:                           8                                         \n",
       "Covariance Type:            nonrobust                                         \n",
       "==============================================================================\n",
       "                 coef    std err          t      P>|t|      [0.025      0.975]\n",
       "------------------------------------------------------------------------------\n",
       "const       1.062e+04   8234.117      1.290      0.197   -5526.434    2.68e+04\n",
       "carat       1.469e+04    421.272     34.862      0.000    1.39e+04    1.55e+04\n",
       "cut          104.5564     44.454      2.352      0.019      17.359     191.754\n",
       "color       1.081e+04   1109.717      9.744      0.000    8636.079     1.3e+04\n",
       "depth         20.7878    129.297      0.161      0.872    -232.829     274.404\n",
       "table       -131.4217     22.040     -5.963      0.000    -174.654     -88.190\n",
       "x          -3002.5660   1051.707     -2.855      0.004   -5065.496    -939.635\n",
       "y           2439.9156   1001.236      2.437      0.015     475.984    4403.847\n",
       "z          -3020.3962   2007.521     -1.505      0.133   -6958.163     917.371\n",
       "==============================================================================\n",
       "Omnibus:                      757.460   Durbin-Watson:                   1.938\n",
       "Prob(Omnibus):                  0.000   Jarque-Bera (JB):             8053.008\n",
       "Skew:                           2.026   Prob(JB):                         0.00\n",
       "Kurtosis:                      13.417   Cond. No.                     1.62e+04\n",
       "==============================================================================\n",
       "\n",
       "Notes:\n",
       "[1] Standard Errors assume that the covariance matrix of the errors is correctly specified.\n",
       "[2] The condition number is large, 1.62e+04. This might indicate that there are\n",
       "strong multicollinearity or other numerical problems.\n",
       "\"\"\""
      ]
     },
     "execution_count": 22,
     "metadata": {},
     "output_type": "execute_result"
    }
   ],
   "source": [
    "inp = data.drop('price',axis=1)\n",
    "out = data['price']\n",
    "\n",
    "inpc = sm.add_constant(inp)\n",
    "\n",
    "ols = sm.OLS(out,inpc)\n",
    "ols_mod = ols.fit()\n",
    "ols_mod.summary()"
   ]
  },
  {
   "cell_type": "code",
   "execution_count": 23,
   "metadata": {},
   "outputs": [
    {
     "data": {
      "text/plain": [
       "carat    1.004201e-196\n",
       "cut       1.879859e-02\n",
       "color     8.258574e-22\n",
       "table     3.069436e-09\n",
       "x         4.362152e-03\n",
       "y         1.492632e-02\n",
       "dtype: float64"
      ]
     },
     "execution_count": 23,
     "metadata": {},
     "output_type": "execute_result"
    }
   ],
   "source": [
    "ols_mod.pvalues[ols_mod.pvalues < 0.05]"
   ]
  },
  {
   "cell_type": "code",
   "execution_count": null,
   "metadata": {},
   "outputs": [],
   "source": [
    "# inference:\n",
    "\n",
    "# From the above model summary probability of fstats value is < 0.05. \n",
    "# Therefore we can conclude that, overall model is significant.\n",
    "\n",
    "# from the tstat pvalue we can conclude, carat,color,table,y(width) and z(depth) are significant for predicting the target."
   ]
  },
  {
   "cell_type": "code",
   "execution_count": 24,
   "metadata": {},
   "outputs": [],
   "source": [
    "# Checking Assumptions:\n",
    "# 1. Multicollinearity:\n",
    "from statsmodels.stats.outliers_influence import variance_inflation_factor"
   ]
  },
  {
   "cell_type": "code",
   "execution_count": 25,
   "metadata": {},
   "outputs": [],
   "source": [
    "inp1 = inp - inp.mean()"
   ]
  },
  {
   "cell_type": "code",
   "execution_count": 26,
   "metadata": {},
   "outputs": [
    {
     "data": {
      "text/html": [
       "<table class=\"simpletable\">\n",
       "<caption>OLS Regression Results</caption>\n",
       "<tr>\n",
       "  <th>Dep. Variable:</th>          <td>price</td>      <th>  R-squared:         </th> <td>   0.863</td> \n",
       "</tr>\n",
       "<tr>\n",
       "  <th>Model:</th>                   <td>OLS</td>       <th>  Adj. R-squared:    </th> <td>   0.862</td> \n",
       "</tr>\n",
       "<tr>\n",
       "  <th>Method:</th>             <td>Least Squares</td>  <th>  F-statistic:       </th> <td>   1209.</td> \n",
       "</tr>\n",
       "<tr>\n",
       "  <th>Date:</th>             <td>Wed, 06 Jan 2021</td> <th>  Prob (F-statistic):</th>  <td>  0.00</td>  \n",
       "</tr>\n",
       "<tr>\n",
       "  <th>Time:</th>                 <td>19:30:11</td>     <th>  Log-Likelihood:    </th> <td> -13740.</td> \n",
       "</tr>\n",
       "<tr>\n",
       "  <th>No. Observations:</th>      <td>  1547</td>      <th>  AIC:               </th> <td>2.750e+04</td>\n",
       "</tr>\n",
       "<tr>\n",
       "  <th>Df Residuals:</th>          <td>  1538</td>      <th>  BIC:               </th> <td>2.755e+04</td>\n",
       "</tr>\n",
       "<tr>\n",
       "  <th>Df Model:</th>              <td>     8</td>      <th>                     </th>     <td> </td>    \n",
       "</tr>\n",
       "<tr>\n",
       "  <th>Covariance Type:</th>      <td>nonrobust</td>    <th>                     </th>     <td> </td>    \n",
       "</tr>\n",
       "</table>\n",
       "<table class=\"simpletable\">\n",
       "<tr>\n",
       "    <td></td>       <th>coef</th>     <th>std err</th>      <th>t</th>      <th>P>|t|</th>  <th>[0.025</th>    <th>0.975]</th>  \n",
       "</tr>\n",
       "<tr>\n",
       "  <th>const</th> <td> 4165.9422</td> <td>   44.405</td> <td>   93.818</td> <td> 0.000</td> <td> 4078.842</td> <td> 4253.042</td>\n",
       "</tr>\n",
       "<tr>\n",
       "  <th>carat</th> <td> 1.469e+04</td> <td>  421.272</td> <td>   34.862</td> <td> 0.000</td> <td> 1.39e+04</td> <td> 1.55e+04</td>\n",
       "</tr>\n",
       "<tr>\n",
       "  <th>cut</th>   <td>  104.5564</td> <td>   44.454</td> <td>    2.352</td> <td> 0.019</td> <td>   17.359</td> <td>  191.754</td>\n",
       "</tr>\n",
       "<tr>\n",
       "  <th>color</th> <td> 1.081e+04</td> <td> 1109.717</td> <td>    9.744</td> <td> 0.000</td> <td> 8636.079</td> <td>  1.3e+04</td>\n",
       "</tr>\n",
       "<tr>\n",
       "  <th>depth</th> <td>   20.7878</td> <td>  129.297</td> <td>    0.161</td> <td> 0.872</td> <td> -232.829</td> <td>  274.404</td>\n",
       "</tr>\n",
       "<tr>\n",
       "  <th>table</th> <td> -131.4217</td> <td>   22.040</td> <td>   -5.963</td> <td> 0.000</td> <td> -174.654</td> <td>  -88.190</td>\n",
       "</tr>\n",
       "<tr>\n",
       "  <th>x</th>     <td>-3002.5660</td> <td> 1051.707</td> <td>   -2.855</td> <td> 0.004</td> <td>-5065.496</td> <td> -939.635</td>\n",
       "</tr>\n",
       "<tr>\n",
       "  <th>y</th>     <td> 2439.9156</td> <td> 1001.236</td> <td>    2.437</td> <td> 0.015</td> <td>  475.984</td> <td> 4403.847</td>\n",
       "</tr>\n",
       "<tr>\n",
       "  <th>z</th>     <td>-3020.3962</td> <td> 2007.521</td> <td>   -1.505</td> <td> 0.133</td> <td>-6958.163</td> <td>  917.371</td>\n",
       "</tr>\n",
       "</table>\n",
       "<table class=\"simpletable\">\n",
       "<tr>\n",
       "  <th>Omnibus:</th>       <td>757.460</td> <th>  Durbin-Watson:     </th> <td>   1.938</td>\n",
       "</tr>\n",
       "<tr>\n",
       "  <th>Prob(Omnibus):</th> <td> 0.000</td>  <th>  Jarque-Bera (JB):  </th> <td>8053.008</td>\n",
       "</tr>\n",
       "<tr>\n",
       "  <th>Skew:</th>          <td> 2.026</td>  <th>  Prob(JB):          </th> <td>    0.00</td>\n",
       "</tr>\n",
       "<tr>\n",
       "  <th>Kurtosis:</th>      <td>13.417</td>  <th>  Cond. No.          </th> <td>    114.</td>\n",
       "</tr>\n",
       "</table><br/><br/>Notes:<br/>[1] Standard Errors assume that the covariance matrix of the errors is correctly specified."
      ],
      "text/plain": [
       "<class 'statsmodels.iolib.summary.Summary'>\n",
       "\"\"\"\n",
       "                            OLS Regression Results                            \n",
       "==============================================================================\n",
       "Dep. Variable:                  price   R-squared:                       0.863\n",
       "Model:                            OLS   Adj. R-squared:                  0.862\n",
       "Method:                 Least Squares   F-statistic:                     1209.\n",
       "Date:                Wed, 06 Jan 2021   Prob (F-statistic):               0.00\n",
       "Time:                        19:30:11   Log-Likelihood:                -13740.\n",
       "No. Observations:                1547   AIC:                         2.750e+04\n",
       "Df Residuals:                    1538   BIC:                         2.755e+04\n",
       "Df Model:                           8                                         \n",
       "Covariance Type:            nonrobust                                         \n",
       "==============================================================================\n",
       "                 coef    std err          t      P>|t|      [0.025      0.975]\n",
       "------------------------------------------------------------------------------\n",
       "const       4165.9422     44.405     93.818      0.000    4078.842    4253.042\n",
       "carat       1.469e+04    421.272     34.862      0.000    1.39e+04    1.55e+04\n",
       "cut          104.5564     44.454      2.352      0.019      17.359     191.754\n",
       "color       1.081e+04   1109.717      9.744      0.000    8636.079     1.3e+04\n",
       "depth         20.7878    129.297      0.161      0.872    -232.829     274.404\n",
       "table       -131.4217     22.040     -5.963      0.000    -174.654     -88.190\n",
       "x          -3002.5660   1051.707     -2.855      0.004   -5065.496    -939.635\n",
       "y           2439.9156   1001.236      2.437      0.015     475.984    4403.847\n",
       "z          -3020.3962   2007.521     -1.505      0.133   -6958.163     917.371\n",
       "==============================================================================\n",
       "Omnibus:                      757.460   Durbin-Watson:                   1.938\n",
       "Prob(Omnibus):                  0.000   Jarque-Bera (JB):             8053.008\n",
       "Skew:                           2.026   Prob(JB):                         0.00\n",
       "Kurtosis:                      13.417   Cond. No.                         114.\n",
       "==============================================================================\n",
       "\n",
       "Notes:\n",
       "[1] Standard Errors assume that the covariance matrix of the errors is correctly specified.\n",
       "\"\"\""
      ]
     },
     "execution_count": 26,
     "metadata": {},
     "output_type": "execute_result"
    }
   ],
   "source": [
    "inp1c = sm.add_constant(inp1)\n",
    "\n",
    "ols = sm.OLS(out,inp1c)\n",
    "ols_mod = ols.fit()\n",
    "ols_mod.summary()"
   ]
  },
  {
   "cell_type": "code",
   "execution_count": 27,
   "metadata": {},
   "outputs": [
    {
     "data": {
      "text/html": [
       "<div>\n",
       "<style scoped>\n",
       "    .dataframe tbody tr th:only-of-type {\n",
       "        vertical-align: middle;\n",
       "    }\n",
       "\n",
       "    .dataframe tbody tr th {\n",
       "        vertical-align: top;\n",
       "    }\n",
       "\n",
       "    .dataframe thead th {\n",
       "        text-align: right;\n",
       "    }\n",
       "</style>\n",
       "<table border=\"1\" class=\"dataframe\">\n",
       "  <thead>\n",
       "    <tr style=\"text-align: right;\">\n",
       "      <th></th>\n",
       "      <th>VIF</th>\n",
       "      <th>Features</th>\n",
       "    </tr>\n",
       "  </thead>\n",
       "  <tbody>\n",
       "    <tr>\n",
       "      <th>8</th>\n",
       "      <td>979.738279</td>\n",
       "      <td>z</td>\n",
       "    </tr>\n",
       "    <tr>\n",
       "      <th>6</th>\n",
       "      <td>710.382098</td>\n",
       "      <td>x</td>\n",
       "    </tr>\n",
       "    <tr>\n",
       "      <th>7</th>\n",
       "      <td>632.445395</td>\n",
       "      <td>y</td>\n",
       "    </tr>\n",
       "    <tr>\n",
       "      <th>1</th>\n",
       "      <td>21.126486</td>\n",
       "      <td>carat</td>\n",
       "    </tr>\n",
       "    <tr>\n",
       "      <th>4</th>\n",
       "      <td>15.508356</td>\n",
       "      <td>depth</td>\n",
       "    </tr>\n",
       "    <tr>\n",
       "      <th>5</th>\n",
       "      <td>1.174343</td>\n",
       "      <td>table</td>\n",
       "    </tr>\n",
       "    <tr>\n",
       "      <th>2</th>\n",
       "      <td>1.061259</td>\n",
       "      <td>cut</td>\n",
       "    </tr>\n",
       "    <tr>\n",
       "      <th>3</th>\n",
       "      <td>1.052866</td>\n",
       "      <td>color</td>\n",
       "    </tr>\n",
       "    <tr>\n",
       "      <th>0</th>\n",
       "      <td>1.000000</td>\n",
       "      <td>const</td>\n",
       "    </tr>\n",
       "  </tbody>\n",
       "</table>\n",
       "</div>"
      ],
      "text/plain": [
       "          VIF Features\n",
       "8  979.738279        z\n",
       "6  710.382098        x\n",
       "7  632.445395        y\n",
       "1   21.126486    carat\n",
       "4   15.508356    depth\n",
       "5    1.174343    table\n",
       "2    1.061259      cut\n",
       "3    1.052866    color\n",
       "0    1.000000    const"
      ]
     },
     "execution_count": 27,
     "metadata": {},
     "output_type": "execute_result"
    }
   ],
   "source": [
    "vif = pd.DataFrame()\n",
    "vif['VIF'] = [variance_inflation_factor(inp1c.values,i) for i in range(inp1c.shape[1])]\n",
    "vif['Features'] = inp1c.columns\n",
    "vif.sort_values('VIF',ascending = False)"
   ]
  },
  {
   "cell_type": "code",
   "execution_count": 28,
   "metadata": {},
   "outputs": [
    {
     "data": {
      "text/html": [
       "<div>\n",
       "<style scoped>\n",
       "    .dataframe tbody tr th:only-of-type {\n",
       "        vertical-align: middle;\n",
       "    }\n",
       "\n",
       "    .dataframe tbody tr th {\n",
       "        vertical-align: top;\n",
       "    }\n",
       "\n",
       "    .dataframe thead th {\n",
       "        text-align: right;\n",
       "    }\n",
       "</style>\n",
       "<table border=\"1\" class=\"dataframe\">\n",
       "  <thead>\n",
       "    <tr style=\"text-align: right;\">\n",
       "      <th></th>\n",
       "      <th>VIF</th>\n",
       "      <th>Features</th>\n",
       "    </tr>\n",
       "  </thead>\n",
       "  <tbody>\n",
       "    <tr>\n",
       "      <th>5</th>\n",
       "      <td>434.083114</td>\n",
       "      <td>x</td>\n",
       "    </tr>\n",
       "    <tr>\n",
       "      <th>6</th>\n",
       "      <td>426.591036</td>\n",
       "      <td>y</td>\n",
       "    </tr>\n",
       "    <tr>\n",
       "      <th>0</th>\n",
       "      <td>21.031578</td>\n",
       "      <td>carat</td>\n",
       "    </tr>\n",
       "    <tr>\n",
       "      <th>3</th>\n",
       "      <td>1.182843</td>\n",
       "      <td>depth</td>\n",
       "    </tr>\n",
       "    <tr>\n",
       "      <th>4</th>\n",
       "      <td>1.173740</td>\n",
       "      <td>table</td>\n",
       "    </tr>\n",
       "    <tr>\n",
       "      <th>1</th>\n",
       "      <td>1.059061</td>\n",
       "      <td>cut</td>\n",
       "    </tr>\n",
       "    <tr>\n",
       "      <th>2</th>\n",
       "      <td>1.052856</td>\n",
       "      <td>color</td>\n",
       "    </tr>\n",
       "  </tbody>\n",
       "</table>\n",
       "</div>"
      ],
      "text/plain": [
       "          VIF Features\n",
       "5  434.083114        x\n",
       "6  426.591036        y\n",
       "0   21.031578    carat\n",
       "3    1.182843    depth\n",
       "4    1.173740    table\n",
       "1    1.059061      cut\n",
       "2    1.052856    color"
      ]
     },
     "execution_count": 28,
     "metadata": {},
     "output_type": "execute_result"
    }
   ],
   "source": [
    "inpv1 = inp1.drop('z',axis = 1)\n",
    "\n",
    "vif = pd.DataFrame()\n",
    "vif['VIF'] = [variance_inflation_factor(inpv1.values,i) for i in range(inpv1.shape[1])]\n",
    "vif['Features'] = inpv1.columns\n",
    "vif.sort_values('VIF',ascending = False)"
   ]
  },
  {
   "cell_type": "code",
   "execution_count": 29,
   "metadata": {},
   "outputs": [
    {
     "data": {
      "text/html": [
       "<div>\n",
       "<style scoped>\n",
       "    .dataframe tbody tr th:only-of-type {\n",
       "        vertical-align: middle;\n",
       "    }\n",
       "\n",
       "    .dataframe tbody tr th {\n",
       "        vertical-align: top;\n",
       "    }\n",
       "\n",
       "    .dataframe thead th {\n",
       "        text-align: right;\n",
       "    }\n",
       "</style>\n",
       "<table border=\"1\" class=\"dataframe\">\n",
       "  <thead>\n",
       "    <tr style=\"text-align: right;\">\n",
       "      <th></th>\n",
       "      <th>VIF</th>\n",
       "      <th>Features</th>\n",
       "    </tr>\n",
       "  </thead>\n",
       "  <tbody>\n",
       "    <tr>\n",
       "      <th>0</th>\n",
       "      <td>20.601468</td>\n",
       "      <td>carat</td>\n",
       "    </tr>\n",
       "    <tr>\n",
       "      <th>5</th>\n",
       "      <td>20.468513</td>\n",
       "      <td>y</td>\n",
       "    </tr>\n",
       "    <tr>\n",
       "      <th>3</th>\n",
       "      <td>1.182164</td>\n",
       "      <td>depth</td>\n",
       "    </tr>\n",
       "    <tr>\n",
       "      <th>4</th>\n",
       "      <td>1.146642</td>\n",
       "      <td>table</td>\n",
       "    </tr>\n",
       "    <tr>\n",
       "      <th>2</th>\n",
       "      <td>1.050601</td>\n",
       "      <td>color</td>\n",
       "    </tr>\n",
       "    <tr>\n",
       "      <th>1</th>\n",
       "      <td>1.037379</td>\n",
       "      <td>cut</td>\n",
       "    </tr>\n",
       "  </tbody>\n",
       "</table>\n",
       "</div>"
      ],
      "text/plain": [
       "         VIF Features\n",
       "0  20.601468    carat\n",
       "5  20.468513        y\n",
       "3   1.182164    depth\n",
       "4   1.146642    table\n",
       "2   1.050601    color\n",
       "1   1.037379      cut"
      ]
     },
     "execution_count": 29,
     "metadata": {},
     "output_type": "execute_result"
    }
   ],
   "source": [
    "inpv2 = inpv1.drop('x',axis = 1)\n",
    "\n",
    "vif = pd.DataFrame()\n",
    "vif['VIF'] = [variance_inflation_factor(inpv2.values,i) for i in range(inpv2.shape[1])]\n",
    "vif['Features'] = inpv2.columns\n",
    "vif.sort_values('VIF',ascending = False)"
   ]
  },
  {
   "cell_type": "code",
   "execution_count": 30,
   "metadata": {},
   "outputs": [
    {
     "data": {
      "text/html": [
       "<div>\n",
       "<style scoped>\n",
       "    .dataframe tbody tr th:only-of-type {\n",
       "        vertical-align: middle;\n",
       "    }\n",
       "\n",
       "    .dataframe tbody tr th {\n",
       "        vertical-align: top;\n",
       "    }\n",
       "\n",
       "    .dataframe thead th {\n",
       "        text-align: right;\n",
       "    }\n",
       "</style>\n",
       "<table border=\"1\" class=\"dataframe\">\n",
       "  <thead>\n",
       "    <tr style=\"text-align: right;\">\n",
       "      <th></th>\n",
       "      <th>VIF</th>\n",
       "      <th>Features</th>\n",
       "    </tr>\n",
       "  </thead>\n",
       "  <tbody>\n",
       "    <tr>\n",
       "      <th>3</th>\n",
       "      <td>1.142732</td>\n",
       "      <td>table</td>\n",
       "    </tr>\n",
       "    <tr>\n",
       "      <th>2</th>\n",
       "      <td>1.110344</td>\n",
       "      <td>depth</td>\n",
       "    </tr>\n",
       "    <tr>\n",
       "      <th>4</th>\n",
       "      <td>1.076368</td>\n",
       "      <td>y</td>\n",
       "    </tr>\n",
       "    <tr>\n",
       "      <th>1</th>\n",
       "      <td>1.041152</td>\n",
       "      <td>color</td>\n",
       "    </tr>\n",
       "    <tr>\n",
       "      <th>0</th>\n",
       "      <td>1.036926</td>\n",
       "      <td>cut</td>\n",
       "    </tr>\n",
       "  </tbody>\n",
       "</table>\n",
       "</div>"
      ],
      "text/plain": [
       "        VIF Features\n",
       "3  1.142732    table\n",
       "2  1.110344    depth\n",
       "4  1.076368        y\n",
       "1  1.041152    color\n",
       "0  1.036926      cut"
      ]
     },
     "execution_count": 30,
     "metadata": {},
     "output_type": "execute_result"
    }
   ],
   "source": [
    "inpv3 = inpv2.drop('carat',axis = 1)\n",
    "\n",
    "vif = pd.DataFrame()\n",
    "vif['VIF'] = [variance_inflation_factor(inpv3.values,i) for i in range(inpv3.shape[1])]\n",
    "vif['Features'] = inpv3.columns\n",
    "vif.sort_values('VIF',ascending = False)"
   ]
  },
  {
   "cell_type": "code",
   "execution_count": null,
   "metadata": {},
   "outputs": [],
   "source": [
    "# Inference : From the above vif iteration we can conclude that, \"table\",\"depth\",\"y\",\"color\",\"cut\" \n",
    "#             statisfying multicollinearity effect"
   ]
  },
  {
   "cell_type": "code",
   "execution_count": 31,
   "metadata": {},
   "outputs": [
    {
     "data": {
      "text/html": [
       "<table class=\"simpletable\">\n",
       "<caption>OLS Regression Results</caption>\n",
       "<tr>\n",
       "  <th>Dep. Variable:</th>          <td>price</td>      <th>  R-squared:         </th> <td>   0.754</td> \n",
       "</tr>\n",
       "<tr>\n",
       "  <th>Model:</th>                   <td>OLS</td>       <th>  Adj. R-squared:    </th> <td>   0.754</td> \n",
       "</tr>\n",
       "<tr>\n",
       "  <th>Method:</th>             <td>Least Squares</td>  <th>  F-statistic:       </th> <td>   946.4</td> \n",
       "</tr>\n",
       "<tr>\n",
       "  <th>Date:</th>             <td>Wed, 06 Jan 2021</td> <th>  Prob (F-statistic):</th>  <td>  0.00</td>  \n",
       "</tr>\n",
       "<tr>\n",
       "  <th>Time:</th>                 <td>19:30:25</td>     <th>  Log-Likelihood:    </th> <td> -14190.</td> \n",
       "</tr>\n",
       "<tr>\n",
       "  <th>No. Observations:</th>      <td>  1547</td>      <th>  AIC:               </th> <td>2.839e+04</td>\n",
       "</tr>\n",
       "<tr>\n",
       "  <th>Df Residuals:</th>          <td>  1541</td>      <th>  BIC:               </th> <td>2.842e+04</td>\n",
       "</tr>\n",
       "<tr>\n",
       "  <th>Df Model:</th>              <td>     5</td>      <th>                     </th>     <td> </td>    \n",
       "</tr>\n",
       "<tr>\n",
       "  <th>Covariance Type:</th>      <td>nonrobust</td>    <th>                     </th>     <td> </td>    \n",
       "</tr>\n",
       "</table>\n",
       "<table class=\"simpletable\">\n",
       "<tr>\n",
       "    <td></td>       <th>coef</th>     <th>std err</th>      <th>t</th>      <th>P>|t|</th>  <th>[0.025</th>    <th>0.975]</th>  \n",
       "</tr>\n",
       "<tr>\n",
       "  <th>const</th> <td> 4165.9422</td> <td>   59.363</td> <td>   70.178</td> <td> 0.000</td> <td> 4049.502</td> <td> 4282.382</td>\n",
       "</tr>\n",
       "<tr>\n",
       "  <th>cut</th>   <td>  106.7683</td> <td>   58.744</td> <td>    1.818</td> <td> 0.069</td> <td>   -8.458</td> <td>  221.995</td>\n",
       "</tr>\n",
       "<tr>\n",
       "  <th>color</th> <td> 6931.4531</td> <td> 1475.258</td> <td>    4.698</td> <td> 0.000</td> <td> 4037.727</td> <td> 9825.179</td>\n",
       "</tr>\n",
       "<tr>\n",
       "  <th>depth</th> <td>  133.2317</td> <td>   46.251</td> <td>    2.881</td> <td> 0.004</td> <td>   42.511</td> <td>  223.953</td>\n",
       "</tr>\n",
       "<tr>\n",
       "  <th>table</th> <td> -104.5439</td> <td>   29.065</td> <td>   -3.597</td> <td> 0.000</td> <td> -161.555</td> <td>  -47.532</td>\n",
       "</tr>\n",
       "<tr>\n",
       "  <th>y</th>     <td> 3735.7481</td> <td>   55.219</td> <td>   67.653</td> <td> 0.000</td> <td> 3627.435</td> <td> 3844.061</td>\n",
       "</tr>\n",
       "</table>\n",
       "<table class=\"simpletable\">\n",
       "<tr>\n",
       "  <th>Omnibus:</th>       <td>346.601</td> <th>  Durbin-Watson:     </th> <td>   1.979</td> \n",
       "</tr>\n",
       "<tr>\n",
       "  <th>Prob(Omnibus):</th> <td> 0.000</td>  <th>  Jarque-Bera (JB):  </th> <td> 742.928</td> \n",
       "</tr>\n",
       "<tr>\n",
       "  <th>Skew:</th>          <td> 1.268</td>  <th>  Prob(JB):          </th> <td>4.73e-162</td>\n",
       "</tr>\n",
       "<tr>\n",
       "  <th>Kurtosis:</th>      <td> 5.258</td>  <th>  Cond. No.          </th> <td>    56.1</td> \n",
       "</tr>\n",
       "</table><br/><br/>Notes:<br/>[1] Standard Errors assume that the covariance matrix of the errors is correctly specified."
      ],
      "text/plain": [
       "<class 'statsmodels.iolib.summary.Summary'>\n",
       "\"\"\"\n",
       "                            OLS Regression Results                            \n",
       "==============================================================================\n",
       "Dep. Variable:                  price   R-squared:                       0.754\n",
       "Model:                            OLS   Adj. R-squared:                  0.754\n",
       "Method:                 Least Squares   F-statistic:                     946.4\n",
       "Date:                Wed, 06 Jan 2021   Prob (F-statistic):               0.00\n",
       "Time:                        19:30:25   Log-Likelihood:                -14190.\n",
       "No. Observations:                1547   AIC:                         2.839e+04\n",
       "Df Residuals:                    1541   BIC:                         2.842e+04\n",
       "Df Model:                           5                                         \n",
       "Covariance Type:            nonrobust                                         \n",
       "==============================================================================\n",
       "                 coef    std err          t      P>|t|      [0.025      0.975]\n",
       "------------------------------------------------------------------------------\n",
       "const       4165.9422     59.363     70.178      0.000    4049.502    4282.382\n",
       "cut          106.7683     58.744      1.818      0.069      -8.458     221.995\n",
       "color       6931.4531   1475.258      4.698      0.000    4037.727    9825.179\n",
       "depth        133.2317     46.251      2.881      0.004      42.511     223.953\n",
       "table       -104.5439     29.065     -3.597      0.000    -161.555     -47.532\n",
       "y           3735.7481     55.219     67.653      0.000    3627.435    3844.061\n",
       "==============================================================================\n",
       "Omnibus:                      346.601   Durbin-Watson:                   1.979\n",
       "Prob(Omnibus):                  0.000   Jarque-Bera (JB):              742.928\n",
       "Skew:                           1.268   Prob(JB):                    4.73e-162\n",
       "Kurtosis:                       5.258   Cond. No.                         56.1\n",
       "==============================================================================\n",
       "\n",
       "Notes:\n",
       "[1] Standard Errors assume that the covariance matrix of the errors is correctly specified.\n",
       "\"\"\""
      ]
     },
     "execution_count": 31,
     "metadata": {},
     "output_type": "execute_result"
    }
   ],
   "source": [
    "# building model:\n",
    "\n",
    "inpc = sm.add_constant(inpv3)\n",
    "\n",
    "ols = sm.OLS(out,inpc)\n",
    "ols_mod = ols.fit()\n",
    "ols_mod.summary()"
   ]
  },
  {
   "cell_type": "code",
   "execution_count": 32,
   "metadata": {},
   "outputs": [
    {
     "data": {
      "text/plain": [
       "1.2689934329571848"
      ]
     },
     "execution_count": 32,
     "metadata": {},
     "output_type": "execute_result"
    }
   ],
   "source": [
    "# Assumption 2: Normality\n",
    "\n",
    "ols_mod.resid.skew()"
   ]
  },
  {
   "cell_type": "code",
   "execution_count": 33,
   "metadata": {},
   "outputs": [
    {
     "data": {
      "text/plain": [
       "<AxesSubplot:ylabel='Density'>"
      ]
     },
     "execution_count": 33,
     "metadata": {},
     "output_type": "execute_result"
    },
    {
     "data": {
      "image/png": "[encoded data removed]",
      "text/plain": [
       "<Figure size 432x288 with 1 Axes>"
      ]
     },
     "metadata": {
      "needs_background": "light"
     },
     "output_type": "display_data"
    }
   ],
   "source": [
    "ols_mod.resid.plot(kind = 'density')"
   ]
  },
  {
   "cell_type": "code",
   "execution_count": 34,
   "metadata": {},
   "outputs": [
    {
     "name": "stdout",
     "output_type": "stream",
     "text": [
      "1.0699704200167117 0.2493422995511612 0.5655499368616728\n"
     ]
    }
   ],
   "source": [
    "# inference: From the above plot and skew value, we can conclude that data is not normally distributed.\n",
    "\n",
    "# Remedy: Transform the target column.\n",
    "\n",
    "t1 = np.sqrt(data['price']).skew()\n",
    "\n",
    "t2 = np.log(data['price']).skew()\n",
    "\n",
    "t3 = np.power(data['price'],0.2).skew()\n",
    "\n",
    "print(t1,t2,t3)\n",
    "\n",
    "# by comparing three differnt transformation techniques, log transformation skewness is greatly reduced."
   ]
  },
  {
   "cell_type": "code",
   "execution_count": 35,
   "metadata": {},
   "outputs": [
    {
     "data": {
      "text/html": [
       "<table class=\"simpletable\">\n",
       "<caption>OLS Regression Results</caption>\n",
       "<tr>\n",
       "  <th>Dep. Variable:</th>          <td>price</td>      <th>  R-squared:         </th> <td>   0.942</td>\n",
       "</tr>\n",
       "<tr>\n",
       "  <th>Model:</th>                   <td>OLS</td>       <th>  Adj. R-squared:    </th> <td>   0.942</td>\n",
       "</tr>\n",
       "<tr>\n",
       "  <th>Method:</th>             <td>Least Squares</td>  <th>  F-statistic:       </th> <td>   5000.</td>\n",
       "</tr>\n",
       "<tr>\n",
       "  <th>Date:</th>             <td>Wed, 06 Jan 2021</td> <th>  Prob (F-statistic):</th>  <td>  0.00</td> \n",
       "</tr>\n",
       "<tr>\n",
       "  <th>Time:</th>                 <td>19:30:34</td>     <th>  Log-Likelihood:    </th> <td> -71.945</td>\n",
       "</tr>\n",
       "<tr>\n",
       "  <th>No. Observations:</th>      <td>  1547</td>      <th>  AIC:               </th> <td>   155.9</td>\n",
       "</tr>\n",
       "<tr>\n",
       "  <th>Df Residuals:</th>          <td>  1541</td>      <th>  BIC:               </th> <td>   188.0</td>\n",
       "</tr>\n",
       "<tr>\n",
       "  <th>Df Model:</th>              <td>     5</td>      <th>                     </th>     <td> </td>   \n",
       "</tr>\n",
       "<tr>\n",
       "  <th>Covariance Type:</th>      <td>nonrobust</td>    <th>                     </th>     <td> </td>   \n",
       "</tr>\n",
       "</table>\n",
       "<table class=\"simpletable\">\n",
       "<tr>\n",
       "    <td></td>       <th>coef</th>     <th>std err</th>      <th>t</th>      <th>P>|t|</th>  <th>[0.025</th>    <th>0.975]</th>  \n",
       "</tr>\n",
       "<tr>\n",
       "  <th>const</th> <td>    7.7854</td> <td>    0.006</td> <td> 1205.654</td> <td> 0.000</td> <td>    7.773</td> <td>    7.798</td>\n",
       "</tr>\n",
       "<tr>\n",
       "  <th>cut</th>   <td>    0.0012</td> <td>    0.006</td> <td>    0.191</td> <td> 0.849</td> <td>   -0.011</td> <td>    0.014</td>\n",
       "</tr>\n",
       "<tr>\n",
       "  <th>color</th> <td>    2.4827</td> <td>    0.160</td> <td>   15.471</td> <td> 0.000</td> <td>    2.168</td> <td>    2.797</td>\n",
       "</tr>\n",
       "<tr>\n",
       "  <th>depth</th> <td>    0.0320</td> <td>    0.005</td> <td>    6.368</td> <td> 0.000</td> <td>    0.022</td> <td>    0.042</td>\n",
       "</tr>\n",
       "<tr>\n",
       "  <th>table</th> <td>   -0.0072</td> <td>    0.003</td> <td>   -2.289</td> <td> 0.022</td> <td>   -0.013</td> <td>   -0.001</td>\n",
       "</tr>\n",
       "<tr>\n",
       "  <th>y</th>     <td>    0.9320</td> <td>    0.006</td> <td>  155.158</td> <td> 0.000</td> <td>    0.920</td> <td>    0.944</td>\n",
       "</tr>\n",
       "</table>\n",
       "<table class=\"simpletable\">\n",
       "<tr>\n",
       "  <th>Omnibus:</th>       <td>72.830</td> <th>  Durbin-Watson:     </th> <td>   2.012</td>\n",
       "</tr>\n",
       "<tr>\n",
       "  <th>Prob(Omnibus):</th> <td> 0.000</td> <th>  Jarque-Bera (JB):  </th> <td> 192.876</td>\n",
       "</tr>\n",
       "<tr>\n",
       "  <th>Skew:</th>          <td> 0.213</td> <th>  Prob(JB):          </th> <td>1.31e-42</td>\n",
       "</tr>\n",
       "<tr>\n",
       "  <th>Kurtosis:</th>      <td> 4.676</td> <th>  Cond. No.          </th> <td>    56.1</td>\n",
       "</tr>\n",
       "</table><br/><br/>Notes:<br/>[1] Standard Errors assume that the covariance matrix of the errors is correctly specified."
      ],
      "text/plain": [
       "<class 'statsmodels.iolib.summary.Summary'>\n",
       "\"\"\"\n",
       "                            OLS Regression Results                            \n",
       "==============================================================================\n",
       "Dep. Variable:                  price   R-squared:                       0.942\n",
       "Model:                            OLS   Adj. R-squared:                  0.942\n",
       "Method:                 Least Squares   F-statistic:                     5000.\n",
       "Date:                Wed, 06 Jan 2021   Prob (F-statistic):               0.00\n",
       "Time:                        19:30:34   Log-Likelihood:                -71.945\n",
       "No. Observations:                1547   AIC:                             155.9\n",
       "Df Residuals:                    1541   BIC:                             188.0\n",
       "Df Model:                           5                                         \n",
       "Covariance Type:            nonrobust                                         \n",
       "==============================================================================\n",
       "                 coef    std err          t      P>|t|      [0.025      0.975]\n",
       "------------------------------------------------------------------------------\n",
       "const          7.7854      0.006   1205.654      0.000       7.773       7.798\n",
       "cut            0.0012      0.006      0.191      0.849      -0.011       0.014\n",
       "color          2.4827      0.160     15.471      0.000       2.168       2.797\n",
       "depth          0.0320      0.005      6.368      0.000       0.022       0.042\n",
       "table         -0.0072      0.003     -2.289      0.022      -0.013      -0.001\n",
       "y              0.9320      0.006    155.158      0.000       0.920       0.944\n",
       "==============================================================================\n",
       "Omnibus:                       72.830   Durbin-Watson:                   2.012\n",
       "Prob(Omnibus):                  0.000   Jarque-Bera (JB):              192.876\n",
       "Skew:                           0.213   Prob(JB):                     1.31e-42\n",
       "Kurtosis:                       4.676   Cond. No.                         56.1\n",
       "==============================================================================\n",
       "\n",
       "Notes:\n",
       "[1] Standard Errors assume that the covariance matrix of the errors is correctly specified.\n",
       "\"\"\""
      ]
     },
     "execution_count": 35,
     "metadata": {},
     "output_type": "execute_result"
    }
   ],
   "source": [
    "data['price'] = np.log(data['price'])\n",
    "\n",
    "out = data['price']\n",
    "# check the normality and skewness:\n",
    "inpc = sm.add_constant(inpv3)\n",
    "\n",
    "ols = sm.OLS(out,inpc)\n",
    "ols_mod = ols.fit()\n",
    "ols_mod.summary()"
   ]
  },
  {
   "cell_type": "code",
   "execution_count": 36,
   "metadata": {},
   "outputs": [
    {
     "data": {
      "text/plain": [
       "0.21365445968621835"
      ]
     },
     "execution_count": 36,
     "metadata": {},
     "output_type": "execute_result"
    }
   ],
   "source": [
    "ols_mod.resid.skew()"
   ]
  },
  {
   "cell_type": "code",
   "execution_count": 37,
   "metadata": {},
   "outputs": [
    {
     "data": {
      "text/plain": [
       "<AxesSubplot:ylabel='Density'>"
      ]
     },
     "execution_count": 37,
     "metadata": {},
     "output_type": "execute_result"
    },
    {
     "data": {
      "image/png": "[encoded data removed]",
      "text/plain": [
       "<Figure size 432x288 with 1 Axes>"
      ]
     },
     "metadata": {
      "needs_background": "light"
     },
     "output_type": "display_data"
    }
   ],
   "source": [
    "ols_mod.resid.plot(kind = 'density')"
   ]
  },
  {
   "cell_type": "code",
   "execution_count": null,
   "metadata": {},
   "outputs": [],
   "source": [
    "# inference : model statisfy normality after transforming target variable. Skewness also reduced greatly."
   ]
  },
  {
   "cell_type": "code",
   "execution_count": 38,
   "metadata": {},
   "outputs": [
    {
     "name": "stderr",
     "output_type": "stream",
     "text": [
      "C:\\Users\\ELCOT\\anaconda3\\lib\\site-packages\\seaborn\\_decorators.py:36: FutureWarning: Pass the following variables as keyword args: x, y. From version 0.12, the only valid positional argument will be `data`, and passing other arguments without an explicit keyword will result in an error or misinterpretation.\n",
      "  warnings.warn(\n"
     ]
    },
    {
     "data": {
      "text/plain": [
       "<AxesSubplot:xlabel='price'>"
      ]
     },
     "execution_count": 38,
     "metadata": {},
     "output_type": "execute_result"
    },
    {
     "data": {
      "image/png": "[encoded data removed]",
      "text/plain": [
       "<Figure size 432x288 with 1 Axes>"
      ]
     },
     "metadata": {
      "needs_background": "light"
     },
     "output_type": "display_data"
    }
   ],
   "source": [
    "# Assumption 3: Linearity:\n",
    "\n",
    "inpc = sm.add_constant(inpv3)\n",
    "\n",
    "ypred = ols_mod.predict(inpc)\n",
    "sns.regplot(out,ypred)"
   ]
  },
  {
   "cell_type": "code",
   "execution_count": 39,
   "metadata": {},
   "outputs": [],
   "source": [
    "from statsmodels.stats.diagnostic import linear_rainbow"
   ]
  },
  {
   "cell_type": "code",
   "execution_count": 40,
   "metadata": {},
   "outputs": [
    {
     "data": {
      "text/plain": [
       "(1.1361338321613272, 0.038370924113649806)"
      ]
     },
     "execution_count": 40,
     "metadata": {},
     "output_type": "execute_result"
    }
   ],
   "source": [
    "linear_rainbow(res = ols_mod, frac = 0.5)"
   ]
  },
  {
   "cell_type": "code",
   "execution_count": 41,
   "metadata": {},
   "outputs": [],
   "source": [
    "# Inference: Above model not statisfying linearity assumption. By Transforming input features we can try with linear regression."
   ]
  },
  {
   "cell_type": "code",
   "execution_count": 42,
   "metadata": {},
   "outputs": [
    {
     "data": {
      "text/plain": [
       "Index(['cut', 'color', 'depth', 'table', 'y'], dtype='object')"
      ]
     },
     "execution_count": 42,
     "metadata": {},
     "output_type": "execute_result"
    }
   ],
   "source": [
    "inpv3.columns"
   ]
  },
  {
   "cell_type": "code",
   "execution_count": 43,
   "metadata": {},
   "outputs": [
    {
     "name": "stdout",
     "output_type": "stream",
     "text": [
      "-0.16775100983616362 -1.1029058703384766 -0.39162864629936295 0.5204089362871263 0.44118619851620533\n"
     ]
    }
   ],
   "source": [
    "p1 = data['cut'].skew()\n",
    "p2 = data['color'].skew()\n",
    "p3 = data['depth'].skew()\n",
    "p4 = data['table'].skew()\n",
    "p5 = data['y'].skew()\n",
    "\n",
    "print(p1,p2,p3,p4,p5)\n",
    "\n",
    "# inference: p2,p4 is more skewed. so applying transform to color and table alone and check for linearity by building model"
   ]
  },
  {
   "cell_type": "code",
   "execution_count": 57,
   "metadata": {},
   "outputs": [
    {
     "name": "stdout",
     "output_type": "stream",
     "text": [
      "0    0.034548\n",
      "dtype: float64\n"
     ]
    }
   ],
   "source": [
    "yy,lam=stats.boxcox(data['y'])\n",
    "print(pd.DataFrame(yy).skew())\n",
    "\n",
    "data['y'] = yy"
   ]
  },
  {
   "cell_type": "code",
   "execution_count": 54,
   "metadata": {},
   "outputs": [
    {
     "name": "stdout",
     "output_type": "stream",
     "text": [
      "0    0.031855\n",
      "dtype: float64\n"
     ]
    }
   ],
   "source": [
    "dep,lam=stats.boxcox(data['depth'])\n",
    "print(pd.DataFrame(dep).skew())\n",
    "\n",
    "data['depth'] = dep"
   ]
  },
  {
   "cell_type": "code",
   "execution_count": 50,
   "metadata": {},
   "outputs": [
    {
     "name": "stdout",
     "output_type": "stream",
     "text": [
      "0   -0.349709\n",
      "dtype: float64\n",
      "-1.4242236460869337 -1.7804309327205647 -1.1641659094393004\n"
     ]
    },
    {
     "data": {
      "text/plain": [
       "0      -0.395057\n",
       "1      -0.396391\n",
       "2      -0.400086\n",
       "3      -0.394712\n",
       "4      -0.397761\n",
       "          ...   \n",
       "1542   -0.394712\n",
       "1543   -0.392726\n",
       "1544   -0.400086\n",
       "1545   -0.396391\n",
       "1546   -0.392726\n",
       "Name: color, Length: 1547, dtype: float64"
      ]
     },
     "execution_count": 50,
     "metadata": {},
     "output_type": "execute_result"
    }
   ],
   "source": [
    "t1 = np.sqrt(data['color']).skew()\n",
    "t2 = np.log(data['color']).skew()\n",
    "t3 = np.power(data['color'],0.9).skew()\n",
    "t4,lam=stats.boxcox(data['color'])\n",
    "print(pd.DataFrame(t4).skew())\n",
    "print(t1,t2,t3)\n",
    "\n",
    "data['color'] = t4\n",
    "data['color']\n",
    "# inference: Boxcon method is used to reduced skewness in the feature vairable \"color\""
   ]
  },
  {
   "cell_type": "code",
   "execution_count": 51,
   "metadata": {},
   "outputs": [
    {
     "name": "stdout",
     "output_type": "stream",
     "text": [
      "0    0.0\n",
      "dtype: float64\n",
      "0.469335541712929 0.41880628827405225 0.5101495227889928\n"
     ]
    },
    {
     "data": {
      "text/plain": [
       "0       0.241486\n",
       "1       0.241486\n",
       "2       0.241486\n",
       "3       0.241486\n",
       "4       0.241486\n",
       "          ...   \n",
       "1542    0.241486\n",
       "1543    0.241486\n",
       "1544    0.241486\n",
       "1545    0.241486\n",
       "1546    0.241486\n",
       "Name: table, Length: 1547, dtype: float64"
      ]
     },
     "execution_count": 51,
     "metadata": {},
     "output_type": "execute_result"
    }
   ],
   "source": [
    "t1 = np.sqrt(data['table']).skew()\n",
    "t2 = np.log(data['table']).skew()\n",
    "t3 = np.power(data['table'],0.9).skew()\n",
    "t4,lam=stats.boxcox(data['table'])\n",
    "print(pd.DataFrame(t4).skew())\n",
    "print(t1,t2,t3)\n",
    "data['table'] = t4\n",
    "data['table']\n",
    "# inference: Boxcon method is used to reduced skewness greatly in the feature vairable \"table\""
   ]
  },
  {
   "cell_type": "code",
   "execution_count": 61,
   "metadata": {},
   "outputs": [
    {
     "data": {
      "text/html": [
       "<div>\n",
       "<style scoped>\n",
       "    .dataframe tbody tr th:only-of-type {\n",
       "        vertical-align: middle;\n",
       "    }\n",
       "\n",
       "    .dataframe tbody tr th {\n",
       "        vertical-align: top;\n",
       "    }\n",
       "\n",
       "    .dataframe thead th {\n",
       "        text-align: right;\n",
       "    }\n",
       "</style>\n",
       "<table border=\"1\" class=\"dataframe\">\n",
       "  <thead>\n",
       "    <tr style=\"text-align: right;\">\n",
       "      <th></th>\n",
       "      <th>carat</th>\n",
       "      <th>cut</th>\n",
       "      <th>color</th>\n",
       "      <th>depth</th>\n",
       "      <th>table</th>\n",
       "      <th>price</th>\n",
       "      <th>x</th>\n",
       "      <th>y</th>\n",
       "      <th>z</th>\n",
       "    </tr>\n",
       "  </thead>\n",
       "  <tbody>\n",
       "    <tr>\n",
       "      <th>0</th>\n",
       "      <td>0.30</td>\n",
       "      <td>1</td>\n",
       "      <td>-0.395057</td>\n",
       "      <td>1.924936e+09</td>\n",
       "      <td>0.241486</td>\n",
       "      <td>6.525030</td>\n",
       "      <td>4.29</td>\n",
       "      <td>1.053453</td>\n",
       "      <td>2.63</td>\n",
       "    </tr>\n",
       "    <tr>\n",
       "      <th>1</th>\n",
       "      <td>0.72</td>\n",
       "      <td>2</td>\n",
       "      <td>-0.396391</td>\n",
       "      <td>2.089745e+09</td>\n",
       "      <td>0.241486</td>\n",
       "      <td>7.800982</td>\n",
       "      <td>5.80</td>\n",
       "      <td>1.185763</td>\n",
       "      <td>3.58</td>\n",
       "    </tr>\n",
       "    <tr>\n",
       "      <th>2</th>\n",
       "      <td>1.71</td>\n",
       "      <td>3</td>\n",
       "      <td>-0.400086</td>\n",
       "      <td>2.265980e+09</td>\n",
       "      <td>0.241486</td>\n",
       "      <td>9.087947</td>\n",
       "      <td>7.64</td>\n",
       "      <td>1.298970</td>\n",
       "      <td>4.79</td>\n",
       "    </tr>\n",
       "    <tr>\n",
       "      <th>3</th>\n",
       "      <td>1.01</td>\n",
       "      <td>3</td>\n",
       "      <td>-0.394712</td>\n",
       "      <td>1.611907e+09</td>\n",
       "      <td>0.241486</td>\n",
       "      <td>8.893847</td>\n",
       "      <td>6.67</td>\n",
       "      <td>1.244479</td>\n",
       "      <td>3.93</td>\n",
       "    </tr>\n",
       "    <tr>\n",
       "      <th>4</th>\n",
       "      <td>0.52</td>\n",
       "      <td>2</td>\n",
       "      <td>-0.397761</td>\n",
       "      <td>2.225799e+09</td>\n",
       "      <td>0.241486</td>\n",
       "      <td>7.450080</td>\n",
       "      <td>5.17</td>\n",
       "      <td>1.136482</td>\n",
       "      <td>3.23</td>\n",
       "    </tr>\n",
       "  </tbody>\n",
       "</table>\n",
       "</div>"
      ],
      "text/plain": [
       "   carat  cut     color         depth     table     price     x         y  \\\n",
       "0   0.30    1 -0.395057  1.924936e+09  0.241486  6.525030  4.29  1.053453   \n",
       "1   0.72    2 -0.396391  2.089745e+09  0.241486  7.800982  5.80  1.185763   \n",
       "2   1.71    3 -0.400086  2.265980e+09  0.241486  9.087947  7.64  1.298970   \n",
       "3   1.01    3 -0.394712  1.611907e+09  0.241486  8.893847  6.67  1.244479   \n",
       "4   0.52    2 -0.397761  2.225799e+09  0.241486  7.450080  5.17  1.136482   \n",
       "\n",
       "      z  \n",
       "0  2.63  \n",
       "1  3.58  \n",
       "2  4.79  \n",
       "3  3.93  \n",
       "4  3.23  "
      ]
     },
     "execution_count": 61,
     "metadata": {},
     "output_type": "execute_result"
    }
   ],
   "source": [
    "data.head()"
   ]
  },
  {
   "cell_type": "code",
   "execution_count": 62,
   "metadata": {},
   "outputs": [
    {
     "data": {
      "text/html": [
       "<table class=\"simpletable\">\n",
       "<caption>OLS Regression Results</caption>\n",
       "<tr>\n",
       "  <th>Dep. Variable:</th>          <td>price</td>      <th>  R-squared:         </th> <td>   0.945</td>\n",
       "</tr>\n",
       "<tr>\n",
       "  <th>Model:</th>                   <td>OLS</td>       <th>  Adj. R-squared:    </th> <td>   0.944</td>\n",
       "</tr>\n",
       "<tr>\n",
       "  <th>Method:</th>             <td>Least Squares</td>  <th>  F-statistic:       </th> <td>   3743.</td>\n",
       "</tr>\n",
       "<tr>\n",
       "  <th>Date:</th>             <td>Wed, 06 Jan 2021</td> <th>  Prob (F-statistic):</th>  <td>  0.00</td> \n",
       "</tr>\n",
       "<tr>\n",
       "  <th>Time:</th>                 <td>19:48:20</td>     <th>  Log-Likelihood:    </th> <td> -36.763</td>\n",
       "</tr>\n",
       "<tr>\n",
       "  <th>No. Observations:</th>      <td>  1547</td>      <th>  AIC:               </th> <td>   89.53</td>\n",
       "</tr>\n",
       "<tr>\n",
       "  <th>Df Residuals:</th>          <td>  1539</td>      <th>  BIC:               </th> <td>   132.3</td>\n",
       "</tr>\n",
       "<tr>\n",
       "  <th>Df Model:</th>              <td>     7</td>      <th>                     </th>     <td> </td>   \n",
       "</tr>\n",
       "<tr>\n",
       "  <th>Covariance Type:</th>      <td>nonrobust</td>    <th>                     </th>     <td> </td>   \n",
       "</tr>\n",
       "</table>\n",
       "<table class=\"simpletable\">\n",
       "<tr>\n",
       "    <td></td>       <th>coef</th>     <th>std err</th>      <th>t</th>      <th>P>|t|</th>  <th>[0.025</th>    <th>0.975]</th>  \n",
       "</tr>\n",
       "<tr>\n",
       "  <th>const</th> <td>   13.7570</td> <td>    1.312</td> <td>   10.483</td> <td> 0.000</td> <td>   11.183</td> <td>   16.331</td>\n",
       "</tr>\n",
       "<tr>\n",
       "  <th>carat</th> <td>   -0.1770</td> <td>    0.118</td> <td>   -1.501</td> <td> 0.134</td> <td>   -0.408</td> <td>    0.054</td>\n",
       "</tr>\n",
       "<tr>\n",
       "  <th>cut</th>   <td>    0.0040</td> <td>    0.006</td> <td>    0.638</td> <td> 0.524</td> <td>   -0.008</td> <td>    0.016</td>\n",
       "</tr>\n",
       "<tr>\n",
       "  <th>color</th> <td>   37.8064</td> <td>    2.891</td> <td>   13.076</td> <td> 0.000</td> <td>   32.135</td> <td>   43.478</td>\n",
       "</tr>\n",
       "<tr>\n",
       "  <th>depth</th> <td>-1.927e-10</td> <td> 8.92e-11</td> <td>   -2.161</td> <td> 0.031</td> <td>-3.68e-10</td> <td>-1.78e-11</td>\n",
       "</tr>\n",
       "<tr>\n",
       "  <th>table</th> <td>    3.3221</td> <td>    0.317</td> <td>   10.483</td> <td> 0.000</td> <td>    2.701</td> <td>    3.944</td>\n",
       "</tr>\n",
       "<tr>\n",
       "  <th>x</th>     <td>   -0.0016</td> <td>    0.141</td> <td>   -0.012</td> <td> 0.991</td> <td>   -0.278</td> <td>    0.275</td>\n",
       "</tr>\n",
       "<tr>\n",
       "  <th>y</th>     <td>    4.0525</td> <td>    1.057</td> <td>    3.835</td> <td> 0.000</td> <td>    1.979</td> <td>    6.126</td>\n",
       "</tr>\n",
       "<tr>\n",
       "  <th>z</th>     <td>    1.1266</td> <td>    0.272</td> <td>    4.137</td> <td> 0.000</td> <td>    0.592</td> <td>    1.661</td>\n",
       "</tr>\n",
       "</table>\n",
       "<table class=\"simpletable\">\n",
       "<tr>\n",
       "  <th>Omnibus:</th>       <td>69.371</td> <th>  Durbin-Watson:     </th> <td>   2.014</td>\n",
       "</tr>\n",
       "<tr>\n",
       "  <th>Prob(Omnibus):</th> <td> 0.000</td> <th>  Jarque-Bera (JB):  </th> <td> 125.727</td>\n",
       "</tr>\n",
       "<tr>\n",
       "  <th>Skew:</th>          <td> 0.337</td> <th>  Prob(JB):          </th> <td>5.00e-28</td>\n",
       "</tr>\n",
       "<tr>\n",
       "  <th>Kurtosis:</th>      <td> 4.224</td> <th>  Cond. No.          </th> <td>1.19e+18</td>\n",
       "</tr>\n",
       "</table><br/><br/>Notes:<br/>[1] Standard Errors assume that the covariance matrix of the errors is correctly specified.<br/>[2] The smallest eigenvalue is 4.66e-15. This might indicate that there are<br/>strong multicollinearity problems or that the design matrix is singular."
      ],
      "text/plain": [
       "<class 'statsmodels.iolib.summary.Summary'>\n",
       "\"\"\"\n",
       "                            OLS Regression Results                            \n",
       "==============================================================================\n",
       "Dep. Variable:                  price   R-squared:                       0.945\n",
       "Model:                            OLS   Adj. R-squared:                  0.944\n",
       "Method:                 Least Squares   F-statistic:                     3743.\n",
       "Date:                Wed, 06 Jan 2021   Prob (F-statistic):               0.00\n",
       "Time:                        19:48:20   Log-Likelihood:                -36.763\n",
       "No. Observations:                1547   AIC:                             89.53\n",
       "Df Residuals:                    1539   BIC:                             132.3\n",
       "Df Model:                           7                                         \n",
       "Covariance Type:            nonrobust                                         \n",
       "==============================================================================\n",
       "                 coef    std err          t      P>|t|      [0.025      0.975]\n",
       "------------------------------------------------------------------------------\n",
       "const         13.7570      1.312     10.483      0.000      11.183      16.331\n",
       "carat         -0.1770      0.118     -1.501      0.134      -0.408       0.054\n",
       "cut            0.0040      0.006      0.638      0.524      -0.008       0.016\n",
       "color         37.8064      2.891     13.076      0.000      32.135      43.478\n",
       "depth      -1.927e-10   8.92e-11     -2.161      0.031   -3.68e-10   -1.78e-11\n",
       "table          3.3221      0.317     10.483      0.000       2.701       3.944\n",
       "x             -0.0016      0.141     -0.012      0.991      -0.278       0.275\n",
       "y              4.0525      1.057      3.835      0.000       1.979       6.126\n",
       "z              1.1266      0.272      4.137      0.000       0.592       1.661\n",
       "==============================================================================\n",
       "Omnibus:                       69.371   Durbin-Watson:                   2.014\n",
       "Prob(Omnibus):                  0.000   Jarque-Bera (JB):              125.727\n",
       "Skew:                           0.337   Prob(JB):                     5.00e-28\n",
       "Kurtosis:                       4.224   Cond. No.                     1.19e+18\n",
       "==============================================================================\n",
       "\n",
       "Notes:\n",
       "[1] Standard Errors assume that the covariance matrix of the errors is correctly specified.\n",
       "[2] The smallest eigenvalue is 4.66e-15. This might indicate that there are\n",
       "strong multicollinearity problems or that the design matrix is singular.\n",
       "\"\"\""
      ]
     },
     "execution_count": 62,
     "metadata": {},
     "output_type": "execute_result"
    }
   ],
   "source": [
    "inp = data.drop('price',axis = 1)\n",
    "out = data['price']\n",
    "\n",
    "inpc = sm.add_constant(inp)\n",
    "\n",
    "ols = sm.OLS(out,inpc)\n",
    "ols_mod = ols.fit()\n",
    "ols_mod.summary()"
   ]
  },
  {
   "cell_type": "code",
   "execution_count": 63,
   "metadata": {},
   "outputs": [
    {
     "data": {
      "text/plain": [
       "(1.1478283007482473, 0.02803671370926272)"
      ]
     },
     "execution_count": 63,
     "metadata": {},
     "output_type": "execute_result"
    }
   ],
   "source": [
    "# To check Linearity:\n",
    "linear_rainbow(res = ols_mod, frac = 0.5)"
   ]
  },
  {
   "cell_type": "code",
   "execution_count": null,
   "metadata": {},
   "outputs": [],
   "source": [
    "# After doing transformation also above ols model is not statisfying Linearity Check.\n",
    "# So this dataset is not suitable for Linear Regression Model."
   ]
  }
 ],
 "metadata": {
  "kernelspec": {
   "display_name": "Python 3",
   "language": "python",
   "name": "python3"
  },
  "language_info": {
   "codemirror_mode": {
    "name": "ipython",
    "version": 3
   },
   "file_extension": ".py",
   "mimetype": "text/x-python",
   "name": "python",
   "nbconvert_exporter": "python",
   "pygments_lexer": "ipython3",
   "version": "3.8.5"
  }
 },
 "nbformat": 4,
 "nbformat_minor": 4
}
