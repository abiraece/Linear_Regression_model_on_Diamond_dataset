{
 "cells": [
  {
   "cell_type": "markdown",
   "metadata": {},
   "source": [
    "# Fish Dataset"
   ]
  },
  {
   "cell_type": "markdown",
   "metadata": {},
   "source": [
    "Content:\n",
    "\n",
    "This dataset is a record of 7 common different fish species in fish market sales. With this dataset, a predictive model can be performed using machine friendly data and estimate the weight of fish can be predicted."
   ]
  },
  {
   "cell_type": "code",
   "execution_count": 107,
   "metadata": {},
   "outputs": [],
   "source": [
    "import numpy as np\n",
    "import pandas as pd\n",
    "import seaborn as sns\n",
    "import matplotlib.pyplot as plt"
   ]
  },
  {
   "cell_type": "code",
   "execution_count": 108,
   "metadata": {},
   "outputs": [
    {
     "data": {
      "text/html": [
       "<div>\n",
       "<style scoped>\n",
       "    .dataframe tbody tr th:only-of-type {\n",
       "        vertical-align: middle;\n",
       "    }\n",
       "\n",
       "    .dataframe tbody tr th {\n",
       "        vertical-align: top;\n",
       "    }\n",
       "\n",
       "    .dataframe thead th {\n",
       "        text-align: right;\n",
       "    }\n",
       "</style>\n",
       "<table border=\"1\" class=\"dataframe\">\n",
       "  <thead>\n",
       "    <tr style=\"text-align: right;\">\n",
       "      <th></th>\n",
       "      <th>Species</th>\n",
       "      <th>Weight</th>\n",
       "      <th>Length1</th>\n",
       "      <th>Length2</th>\n",
       "      <th>Length3</th>\n",
       "      <th>Height</th>\n",
       "      <th>Width</th>\n",
       "    </tr>\n",
       "  </thead>\n",
       "  <tbody>\n",
       "    <tr>\n",
       "      <th>0</th>\n",
       "      <td>Bream</td>\n",
       "      <td>242.0</td>\n",
       "      <td>23.2</td>\n",
       "      <td>25.4</td>\n",
       "      <td>30.0</td>\n",
       "      <td>11.5200</td>\n",
       "      <td>4.0200</td>\n",
       "    </tr>\n",
       "    <tr>\n",
       "      <th>1</th>\n",
       "      <td>Bream</td>\n",
       "      <td>290.0</td>\n",
       "      <td>24.0</td>\n",
       "      <td>26.3</td>\n",
       "      <td>31.2</td>\n",
       "      <td>12.4800</td>\n",
       "      <td>4.3056</td>\n",
       "    </tr>\n",
       "    <tr>\n",
       "      <th>2</th>\n",
       "      <td>Bream</td>\n",
       "      <td>340.0</td>\n",
       "      <td>23.9</td>\n",
       "      <td>26.5</td>\n",
       "      <td>31.1</td>\n",
       "      <td>12.3778</td>\n",
       "      <td>4.6961</td>\n",
       "    </tr>\n",
       "    <tr>\n",
       "      <th>3</th>\n",
       "      <td>Bream</td>\n",
       "      <td>363.0</td>\n",
       "      <td>26.3</td>\n",
       "      <td>29.0</td>\n",
       "      <td>33.5</td>\n",
       "      <td>12.7300</td>\n",
       "      <td>4.4555</td>\n",
       "    </tr>\n",
       "    <tr>\n",
       "      <th>4</th>\n",
       "      <td>Bream</td>\n",
       "      <td>430.0</td>\n",
       "      <td>26.5</td>\n",
       "      <td>29.0</td>\n",
       "      <td>34.0</td>\n",
       "      <td>12.4440</td>\n",
       "      <td>5.1340</td>\n",
       "    </tr>\n",
       "  </tbody>\n",
       "</table>\n",
       "</div>"
      ],
      "text/plain": [
       "  Species  Weight  Length1  Length2  Length3   Height   Width\n",
       "0   Bream   242.0     23.2     25.4     30.0  11.5200  4.0200\n",
       "1   Bream   290.0     24.0     26.3     31.2  12.4800  4.3056\n",
       "2   Bream   340.0     23.9     26.5     31.1  12.3778  4.6961\n",
       "3   Bream   363.0     26.3     29.0     33.5  12.7300  4.4555\n",
       "4   Bream   430.0     26.5     29.0     34.0  12.4440  5.1340"
      ]
     },
     "execution_count": 108,
     "metadata": {},
     "output_type": "execute_result"
    }
   ],
   "source": [
    "# Loading Dataset:\n",
    "data = pd.read_csv('Fish.csv')\n",
    "data.head()"
   ]
  },
  {
   "cell_type": "code",
   "execution_count": 109,
   "metadata": {},
   "outputs": [
    {
     "data": {
      "text/plain": [
       "Species    0.0\n",
       "Weight     0.0\n",
       "Length1    0.0\n",
       "Length2    0.0\n",
       "Length3    0.0\n",
       "Height     0.0\n",
       "Width      0.0\n",
       "dtype: float64"
      ]
     },
     "execution_count": 109,
     "metadata": {},
     "output_type": "execute_result"
    }
   ],
   "source": [
    "# Data PreProcessing:\n",
    "# 1. Null value Imputation:\n",
    "\n",
    "data.isnull().sum() / len(data)"
   ]
  },
  {
   "cell_type": "code",
   "execution_count": 110,
   "metadata": {},
   "outputs": [
    {
     "data": {
      "text/html": [
       "<div>\n",
       "<style scoped>\n",
       "    .dataframe tbody tr th:only-of-type {\n",
       "        vertical-align: middle;\n",
       "    }\n",
       "\n",
       "    .dataframe tbody tr th {\n",
       "        vertical-align: top;\n",
       "    }\n",
       "\n",
       "    .dataframe thead th {\n",
       "        text-align: right;\n",
       "    }\n",
       "</style>\n",
       "<table border=\"1\" class=\"dataframe\">\n",
       "  <thead>\n",
       "    <tr style=\"text-align: right;\">\n",
       "      <th></th>\n",
       "      <th>Weight</th>\n",
       "      <th>Length1</th>\n",
       "      <th>Length2</th>\n",
       "      <th>Length3</th>\n",
       "      <th>Height</th>\n",
       "      <th>Width</th>\n",
       "    </tr>\n",
       "  </thead>\n",
       "  <tbody>\n",
       "    <tr>\n",
       "      <th>0</th>\n",
       "      <td>242.0</td>\n",
       "      <td>23.2</td>\n",
       "      <td>25.4</td>\n",
       "      <td>30.0</td>\n",
       "      <td>11.5200</td>\n",
       "      <td>4.0200</td>\n",
       "    </tr>\n",
       "    <tr>\n",
       "      <th>1</th>\n",
       "      <td>290.0</td>\n",
       "      <td>24.0</td>\n",
       "      <td>26.3</td>\n",
       "      <td>31.2</td>\n",
       "      <td>12.4800</td>\n",
       "      <td>4.3056</td>\n",
       "    </tr>\n",
       "    <tr>\n",
       "      <th>2</th>\n",
       "      <td>340.0</td>\n",
       "      <td>23.9</td>\n",
       "      <td>26.5</td>\n",
       "      <td>31.1</td>\n",
       "      <td>12.3778</td>\n",
       "      <td>4.6961</td>\n",
       "    </tr>\n",
       "    <tr>\n",
       "      <th>3</th>\n",
       "      <td>363.0</td>\n",
       "      <td>26.3</td>\n",
       "      <td>29.0</td>\n",
       "      <td>33.5</td>\n",
       "      <td>12.7300</td>\n",
       "      <td>4.4555</td>\n",
       "    </tr>\n",
       "    <tr>\n",
       "      <th>4</th>\n",
       "      <td>430.0</td>\n",
       "      <td>26.5</td>\n",
       "      <td>29.0</td>\n",
       "      <td>34.0</td>\n",
       "      <td>12.4440</td>\n",
       "      <td>5.1340</td>\n",
       "    </tr>\n",
       "  </tbody>\n",
       "</table>\n",
       "</div>"
      ],
      "text/plain": [
       "   Weight  Length1  Length2  Length3   Height   Width\n",
       "0   242.0     23.2     25.4     30.0  11.5200  4.0200\n",
       "1   290.0     24.0     26.3     31.2  12.4800  4.3056\n",
       "2   340.0     23.9     26.5     31.1  12.3778  4.6961\n",
       "3   363.0     26.3     29.0     33.5  12.7300  4.4555\n",
       "4   430.0     26.5     29.0     34.0  12.4440  5.1340"
      ]
     },
     "execution_count": 110,
     "metadata": {},
     "output_type": "execute_result"
    }
   ],
   "source": [
    "# Extracting numerical data from the dataset:\n",
    "num_data = data.select_dtypes(include = np.number)\n",
    "num_data.head()"
   ]
  },
  {
   "cell_type": "code",
   "execution_count": 111,
   "metadata": {},
   "outputs": [
    {
     "data": {
      "text/html": [
       "<div>\n",
       "<style scoped>\n",
       "    .dataframe tbody tr th:only-of-type {\n",
       "        vertical-align: middle;\n",
       "    }\n",
       "\n",
       "    .dataframe tbody tr th {\n",
       "        vertical-align: top;\n",
       "    }\n",
       "\n",
       "    .dataframe thead th {\n",
       "        text-align: right;\n",
       "    }\n",
       "</style>\n",
       "<table border=\"1\" class=\"dataframe\">\n",
       "  <thead>\n",
       "    <tr style=\"text-align: right;\">\n",
       "      <th></th>\n",
       "      <th>Weight</th>\n",
       "      <th>Length1</th>\n",
       "      <th>Length2</th>\n",
       "      <th>Length3</th>\n",
       "      <th>Height</th>\n",
       "      <th>Width</th>\n",
       "    </tr>\n",
       "  </thead>\n",
       "  <tbody>\n",
       "    <tr>\n",
       "      <th>count</th>\n",
       "      <td>159.000000</td>\n",
       "      <td>159.000000</td>\n",
       "      <td>159.000000</td>\n",
       "      <td>159.000000</td>\n",
       "      <td>159.000000</td>\n",
       "      <td>159.000000</td>\n",
       "    </tr>\n",
       "    <tr>\n",
       "      <th>mean</th>\n",
       "      <td>398.326415</td>\n",
       "      <td>26.247170</td>\n",
       "      <td>28.415723</td>\n",
       "      <td>31.227044</td>\n",
       "      <td>8.970994</td>\n",
       "      <td>4.417486</td>\n",
       "    </tr>\n",
       "    <tr>\n",
       "      <th>std</th>\n",
       "      <td>357.978317</td>\n",
       "      <td>9.996441</td>\n",
       "      <td>10.716328</td>\n",
       "      <td>11.610246</td>\n",
       "      <td>4.286208</td>\n",
       "      <td>1.685804</td>\n",
       "    </tr>\n",
       "    <tr>\n",
       "      <th>min</th>\n",
       "      <td>0.000000</td>\n",
       "      <td>7.500000</td>\n",
       "      <td>8.400000</td>\n",
       "      <td>8.800000</td>\n",
       "      <td>1.728400</td>\n",
       "      <td>1.047600</td>\n",
       "    </tr>\n",
       "    <tr>\n",
       "      <th>25%</th>\n",
       "      <td>120.000000</td>\n",
       "      <td>19.050000</td>\n",
       "      <td>21.000000</td>\n",
       "      <td>23.150000</td>\n",
       "      <td>5.944800</td>\n",
       "      <td>3.385650</td>\n",
       "    </tr>\n",
       "    <tr>\n",
       "      <th>50%</th>\n",
       "      <td>273.000000</td>\n",
       "      <td>25.200000</td>\n",
       "      <td>27.300000</td>\n",
       "      <td>29.400000</td>\n",
       "      <td>7.786000</td>\n",
       "      <td>4.248500</td>\n",
       "    </tr>\n",
       "    <tr>\n",
       "      <th>75%</th>\n",
       "      <td>650.000000</td>\n",
       "      <td>32.700000</td>\n",
       "      <td>35.500000</td>\n",
       "      <td>39.650000</td>\n",
       "      <td>12.365900</td>\n",
       "      <td>5.584500</td>\n",
       "    </tr>\n",
       "    <tr>\n",
       "      <th>max</th>\n",
       "      <td>1650.000000</td>\n",
       "      <td>59.000000</td>\n",
       "      <td>63.400000</td>\n",
       "      <td>68.000000</td>\n",
       "      <td>18.957000</td>\n",
       "      <td>8.142000</td>\n",
       "    </tr>\n",
       "  </tbody>\n",
       "</table>\n",
       "</div>"
      ],
      "text/plain": [
       "            Weight     Length1     Length2     Length3      Height       Width\n",
       "count   159.000000  159.000000  159.000000  159.000000  159.000000  159.000000\n",
       "mean    398.326415   26.247170   28.415723   31.227044    8.970994    4.417486\n",
       "std     357.978317    9.996441   10.716328   11.610246    4.286208    1.685804\n",
       "min       0.000000    7.500000    8.400000    8.800000    1.728400    1.047600\n",
       "25%     120.000000   19.050000   21.000000   23.150000    5.944800    3.385650\n",
       "50%     273.000000   25.200000   27.300000   29.400000    7.786000    4.248500\n",
       "75%     650.000000   32.700000   35.500000   39.650000   12.365900    5.584500\n",
       "max    1650.000000   59.000000   63.400000   68.000000   18.957000    8.142000"
      ]
     },
     "execution_count": 111,
     "metadata": {},
     "output_type": "execute_result"
    }
   ],
   "source": [
    "# Statistical description about numerical dataset:\n",
    "num_data.describe()"
   ]
  },
  {
   "cell_type": "code",
   "execution_count": 112,
   "metadata": {},
   "outputs": [],
   "source": [
    "# Weight is out target variable, it should not be zero. Its filled as zero because of null values. \n",
    "# To proceed further need to impute null values"
   ]
  },
  {
   "cell_type": "code",
   "execution_count": 113,
   "metadata": {},
   "outputs": [
    {
     "data": {
      "text/html": [
       "<div>\n",
       "<style scoped>\n",
       "    .dataframe tbody tr th:only-of-type {\n",
       "        vertical-align: middle;\n",
       "    }\n",
       "\n",
       "    .dataframe tbody tr th {\n",
       "        vertical-align: top;\n",
       "    }\n",
       "\n",
       "    .dataframe thead th {\n",
       "        text-align: right;\n",
       "    }\n",
       "</style>\n",
       "<table border=\"1\" class=\"dataframe\">\n",
       "  <thead>\n",
       "    <tr style=\"text-align: right;\">\n",
       "      <th></th>\n",
       "      <th>Species</th>\n",
       "      <th>Weight</th>\n",
       "      <th>Length1</th>\n",
       "      <th>Length2</th>\n",
       "      <th>Length3</th>\n",
       "      <th>Height</th>\n",
       "      <th>Width</th>\n",
       "    </tr>\n",
       "  </thead>\n",
       "  <tbody>\n",
       "    <tr>\n",
       "      <th>40</th>\n",
       "      <td>Roach</td>\n",
       "      <td>0.0</td>\n",
       "      <td>19.0</td>\n",
       "      <td>20.5</td>\n",
       "      <td>22.8</td>\n",
       "      <td>6.4752</td>\n",
       "      <td>3.3516</td>\n",
       "    </tr>\n",
       "  </tbody>\n",
       "</table>\n",
       "</div>"
      ],
      "text/plain": [
       "   Species  Weight  Length1  Length2  Length3  Height   Width\n",
       "40   Roach     0.0     19.0     20.5     22.8  6.4752  3.3516"
      ]
     },
     "execution_count": 113,
     "metadata": {},
     "output_type": "execute_result"
    }
   ],
   "source": [
    "data[data['Weight'] == 0]"
   ]
  },
  {
   "cell_type": "code",
   "execution_count": 114,
   "metadata": {},
   "outputs": [
    {
     "data": {
      "text/html": [
       "<div>\n",
       "<style scoped>\n",
       "    .dataframe tbody tr th:only-of-type {\n",
       "        vertical-align: middle;\n",
       "    }\n",
       "\n",
       "    .dataframe tbody tr th {\n",
       "        vertical-align: top;\n",
       "    }\n",
       "\n",
       "    .dataframe thead th {\n",
       "        text-align: right;\n",
       "    }\n",
       "</style>\n",
       "<table border=\"1\" class=\"dataframe\">\n",
       "  <thead>\n",
       "    <tr style=\"text-align: right;\">\n",
       "      <th></th>\n",
       "      <th>Species</th>\n",
       "      <th>Weight</th>\n",
       "      <th>Length1</th>\n",
       "      <th>Length2</th>\n",
       "      <th>Length3</th>\n",
       "      <th>Height</th>\n",
       "      <th>Width</th>\n",
       "    </tr>\n",
       "  </thead>\n",
       "  <tbody>\n",
       "    <tr>\n",
       "      <th>0</th>\n",
       "      <td>Bream</td>\n",
       "      <td>242.0</td>\n",
       "      <td>23.2</td>\n",
       "      <td>25.4</td>\n",
       "      <td>30.0</td>\n",
       "      <td>11.5200</td>\n",
       "      <td>4.0200</td>\n",
       "    </tr>\n",
       "    <tr>\n",
       "      <th>1</th>\n",
       "      <td>Bream</td>\n",
       "      <td>290.0</td>\n",
       "      <td>24.0</td>\n",
       "      <td>26.3</td>\n",
       "      <td>31.2</td>\n",
       "      <td>12.4800</td>\n",
       "      <td>4.3056</td>\n",
       "    </tr>\n",
       "    <tr>\n",
       "      <th>2</th>\n",
       "      <td>Bream</td>\n",
       "      <td>340.0</td>\n",
       "      <td>23.9</td>\n",
       "      <td>26.5</td>\n",
       "      <td>31.1</td>\n",
       "      <td>12.3778</td>\n",
       "      <td>4.6961</td>\n",
       "    </tr>\n",
       "    <tr>\n",
       "      <th>3</th>\n",
       "      <td>Bream</td>\n",
       "      <td>363.0</td>\n",
       "      <td>26.3</td>\n",
       "      <td>29.0</td>\n",
       "      <td>33.5</td>\n",
       "      <td>12.7300</td>\n",
       "      <td>4.4555</td>\n",
       "    </tr>\n",
       "    <tr>\n",
       "      <th>4</th>\n",
       "      <td>Bream</td>\n",
       "      <td>430.0</td>\n",
       "      <td>26.5</td>\n",
       "      <td>29.0</td>\n",
       "      <td>34.0</td>\n",
       "      <td>12.4440</td>\n",
       "      <td>5.1340</td>\n",
       "    </tr>\n",
       "  </tbody>\n",
       "</table>\n",
       "</div>"
      ],
      "text/plain": [
       "  Species  Weight  Length1  Length2  Length3   Height   Width\n",
       "0   Bream   242.0     23.2     25.4     30.0  11.5200  4.0200\n",
       "1   Bream   290.0     24.0     26.3     31.2  12.4800  4.3056\n",
       "2   Bream   340.0     23.9     26.5     31.1  12.3778  4.6961\n",
       "3   Bream   363.0     26.3     29.0     33.5  12.7300  4.4555\n",
       "4   Bream   430.0     26.5     29.0     34.0  12.4440  5.1340"
      ]
     },
     "execution_count": 114,
     "metadata": {},
     "output_type": "execute_result"
    }
   ],
   "source": [
    "# only one row having weight is zero so we can drop it.\n",
    "d1 = data.drop(index = 40, axis = 0)\n",
    "d1.head()"
   ]
  },
  {
   "cell_type": "code",
   "execution_count": 115,
   "metadata": {},
   "outputs": [
    {
     "data": {
      "text/html": [
       "<div>\n",
       "<style scoped>\n",
       "    .dataframe tbody tr th:only-of-type {\n",
       "        vertical-align: middle;\n",
       "    }\n",
       "\n",
       "    .dataframe tbody tr th {\n",
       "        vertical-align: top;\n",
       "    }\n",
       "\n",
       "    .dataframe thead th {\n",
       "        text-align: right;\n",
       "    }\n",
       "</style>\n",
       "<table border=\"1\" class=\"dataframe\">\n",
       "  <thead>\n",
       "    <tr style=\"text-align: right;\">\n",
       "      <th></th>\n",
       "      <th>Weight</th>\n",
       "      <th>Length1</th>\n",
       "      <th>Length2</th>\n",
       "      <th>Length3</th>\n",
       "      <th>Height</th>\n",
       "      <th>Width</th>\n",
       "    </tr>\n",
       "  </thead>\n",
       "  <tbody>\n",
       "    <tr>\n",
       "      <th>count</th>\n",
       "      <td>158.000000</td>\n",
       "      <td>158.000000</td>\n",
       "      <td>158.000000</td>\n",
       "      <td>158.000000</td>\n",
       "      <td>158.000000</td>\n",
       "      <td>158.000000</td>\n",
       "    </tr>\n",
       "    <tr>\n",
       "      <th>mean</th>\n",
       "      <td>400.847468</td>\n",
       "      <td>26.293038</td>\n",
       "      <td>28.465823</td>\n",
       "      <td>31.280380</td>\n",
       "      <td>8.986790</td>\n",
       "      <td>4.424232</td>\n",
       "    </tr>\n",
       "    <tr>\n",
       "      <th>std</th>\n",
       "      <td>357.697796</td>\n",
       "      <td>10.011427</td>\n",
       "      <td>10.731707</td>\n",
       "      <td>11.627605</td>\n",
       "      <td>4.295191</td>\n",
       "      <td>1.689010</td>\n",
       "    </tr>\n",
       "    <tr>\n",
       "      <th>min</th>\n",
       "      <td>5.900000</td>\n",
       "      <td>7.500000</td>\n",
       "      <td>8.400000</td>\n",
       "      <td>8.800000</td>\n",
       "      <td>1.728400</td>\n",
       "      <td>1.047600</td>\n",
       "    </tr>\n",
       "    <tr>\n",
       "      <th>25%</th>\n",
       "      <td>121.250000</td>\n",
       "      <td>19.150000</td>\n",
       "      <td>21.000000</td>\n",
       "      <td>23.200000</td>\n",
       "      <td>5.940600</td>\n",
       "      <td>3.398650</td>\n",
       "    </tr>\n",
       "    <tr>\n",
       "      <th>50%</th>\n",
       "      <td>281.500000</td>\n",
       "      <td>25.300000</td>\n",
       "      <td>27.400000</td>\n",
       "      <td>29.700000</td>\n",
       "      <td>7.789000</td>\n",
       "      <td>4.277050</td>\n",
       "    </tr>\n",
       "    <tr>\n",
       "      <th>75%</th>\n",
       "      <td>650.000000</td>\n",
       "      <td>32.700000</td>\n",
       "      <td>35.750000</td>\n",
       "      <td>39.675000</td>\n",
       "      <td>12.371850</td>\n",
       "      <td>5.586750</td>\n",
       "    </tr>\n",
       "    <tr>\n",
       "      <th>max</th>\n",
       "      <td>1650.000000</td>\n",
       "      <td>59.000000</td>\n",
       "      <td>63.400000</td>\n",
       "      <td>68.000000</td>\n",
       "      <td>18.957000</td>\n",
       "      <td>8.142000</td>\n",
       "    </tr>\n",
       "  </tbody>\n",
       "</table>\n",
       "</div>"
      ],
      "text/plain": [
       "            Weight     Length1     Length2     Length3      Height       Width\n",
       "count   158.000000  158.000000  158.000000  158.000000  158.000000  158.000000\n",
       "mean    400.847468   26.293038   28.465823   31.280380    8.986790    4.424232\n",
       "std     357.697796   10.011427   10.731707   11.627605    4.295191    1.689010\n",
       "min       5.900000    7.500000    8.400000    8.800000    1.728400    1.047600\n",
       "25%     121.250000   19.150000   21.000000   23.200000    5.940600    3.398650\n",
       "50%     281.500000   25.300000   27.400000   29.700000    7.789000    4.277050\n",
       "75%     650.000000   32.700000   35.750000   39.675000   12.371850    5.586750\n",
       "max    1650.000000   59.000000   63.400000   68.000000   18.957000    8.142000"
      ]
     },
     "execution_count": 115,
     "metadata": {},
     "output_type": "execute_result"
    }
   ],
   "source": [
    "# numercial data statstical analysis:\n",
    "num_data_mod = d1.select_dtypes(include = np.number)\n",
    "num_data_mod.describe()"
   ]
  },
  {
   "cell_type": "code",
   "execution_count": 116,
   "metadata": {},
   "outputs": [
    {
     "data": {
      "text/html": [
       "<div>\n",
       "<style scoped>\n",
       "    .dataframe tbody tr th:only-of-type {\n",
       "        vertical-align: middle;\n",
       "    }\n",
       "\n",
       "    .dataframe tbody tr th {\n",
       "        vertical-align: top;\n",
       "    }\n",
       "\n",
       "    .dataframe thead th {\n",
       "        text-align: right;\n",
       "    }\n",
       "</style>\n",
       "<table border=\"1\" class=\"dataframe\">\n",
       "  <thead>\n",
       "    <tr style=\"text-align: right;\">\n",
       "      <th></th>\n",
       "      <th>Species</th>\n",
       "    </tr>\n",
       "  </thead>\n",
       "  <tbody>\n",
       "    <tr>\n",
       "      <th>count</th>\n",
       "      <td>158</td>\n",
       "    </tr>\n",
       "    <tr>\n",
       "      <th>unique</th>\n",
       "      <td>7</td>\n",
       "    </tr>\n",
       "    <tr>\n",
       "      <th>top</th>\n",
       "      <td>Perch</td>\n",
       "    </tr>\n",
       "    <tr>\n",
       "      <th>freq</th>\n",
       "      <td>56</td>\n",
       "    </tr>\n",
       "  </tbody>\n",
       "</table>\n",
       "</div>"
      ],
      "text/plain": [
       "       Species\n",
       "count      158\n",
       "unique       7\n",
       "top      Perch\n",
       "freq        56"
      ]
     },
     "execution_count": 116,
     "metadata": {},
     "output_type": "execute_result"
    }
   ],
   "source": [
    "cat_data = d1.select_dtypes(include = object)\n",
    "cat_data.describe()"
   ]
  },
  {
   "cell_type": "code",
   "execution_count": 117,
   "metadata": {},
   "outputs": [],
   "source": [
    "# Encode the categorical column of species:\n",
    "freq = d1['Species'].value_counts(normalize = True)\n",
    "d1['Species'] = d1['Species'].map(freq)"
   ]
  },
  {
   "cell_type": "code",
   "execution_count": 118,
   "metadata": {},
   "outputs": [
    {
     "data": {
      "text/html": [
       "<div>\n",
       "<style scoped>\n",
       "    .dataframe tbody tr th:only-of-type {\n",
       "        vertical-align: middle;\n",
       "    }\n",
       "\n",
       "    .dataframe tbody tr th {\n",
       "        vertical-align: top;\n",
       "    }\n",
       "\n",
       "    .dataframe thead th {\n",
       "        text-align: right;\n",
       "    }\n",
       "</style>\n",
       "<table border=\"1\" class=\"dataframe\">\n",
       "  <thead>\n",
       "    <tr style=\"text-align: right;\">\n",
       "      <th></th>\n",
       "      <th>Species</th>\n",
       "      <th>Weight</th>\n",
       "      <th>Length1</th>\n",
       "      <th>Length2</th>\n",
       "      <th>Length3</th>\n",
       "      <th>Height</th>\n",
       "      <th>Width</th>\n",
       "    </tr>\n",
       "  </thead>\n",
       "  <tbody>\n",
       "    <tr>\n",
       "      <th>0</th>\n",
       "      <td>0.221519</td>\n",
       "      <td>242.0</td>\n",
       "      <td>23.2</td>\n",
       "      <td>25.4</td>\n",
       "      <td>30.0</td>\n",
       "      <td>11.5200</td>\n",
       "      <td>4.0200</td>\n",
       "    </tr>\n",
       "    <tr>\n",
       "      <th>1</th>\n",
       "      <td>0.221519</td>\n",
       "      <td>290.0</td>\n",
       "      <td>24.0</td>\n",
       "      <td>26.3</td>\n",
       "      <td>31.2</td>\n",
       "      <td>12.4800</td>\n",
       "      <td>4.3056</td>\n",
       "    </tr>\n",
       "    <tr>\n",
       "      <th>2</th>\n",
       "      <td>0.221519</td>\n",
       "      <td>340.0</td>\n",
       "      <td>23.9</td>\n",
       "      <td>26.5</td>\n",
       "      <td>31.1</td>\n",
       "      <td>12.3778</td>\n",
       "      <td>4.6961</td>\n",
       "    </tr>\n",
       "    <tr>\n",
       "      <th>3</th>\n",
       "      <td>0.221519</td>\n",
       "      <td>363.0</td>\n",
       "      <td>26.3</td>\n",
       "      <td>29.0</td>\n",
       "      <td>33.5</td>\n",
       "      <td>12.7300</td>\n",
       "      <td>4.4555</td>\n",
       "    </tr>\n",
       "    <tr>\n",
       "      <th>4</th>\n",
       "      <td>0.221519</td>\n",
       "      <td>430.0</td>\n",
       "      <td>26.5</td>\n",
       "      <td>29.0</td>\n",
       "      <td>34.0</td>\n",
       "      <td>12.4440</td>\n",
       "      <td>5.1340</td>\n",
       "    </tr>\n",
       "  </tbody>\n",
       "</table>\n",
       "</div>"
      ],
      "text/plain": [
       "    Species  Weight  Length1  Length2  Length3   Height   Width\n",
       "0  0.221519   242.0     23.2     25.4     30.0  11.5200  4.0200\n",
       "1  0.221519   290.0     24.0     26.3     31.2  12.4800  4.3056\n",
       "2  0.221519   340.0     23.9     26.5     31.1  12.3778  4.6961\n",
       "3  0.221519   363.0     26.3     29.0     33.5  12.7300  4.4555\n",
       "4  0.221519   430.0     26.5     29.0     34.0  12.4440  5.1340"
      ]
     },
     "execution_count": 118,
     "metadata": {},
     "output_type": "execute_result"
    }
   ],
   "source": [
    "d1.head()"
   ]
  },
  {
   "cell_type": "code",
   "execution_count": 119,
   "metadata": {},
   "outputs": [
    {
     "name": "stderr",
     "output_type": "stream",
     "text": [
      "C:\\Users\\ELCOT\\anaconda3\\lib\\site-packages\\seaborn\\_decorators.py:36: FutureWarning: Pass the following variable as a keyword arg: x. From version 0.12, the only valid positional argument will be `data`, and passing other arguments without an explicit keyword will result in an error or misinterpretation.\n",
      "  warnings.warn(\n"
     ]
    },
    {
     "data": {
      "image/png": "[encoded data removed]",
      "text/plain": [
       "<Figure size 432x288 with 1 Axes>"
      ]
     },
     "metadata": {
      "needs_background": "light"
     },
     "output_type": "display_data"
    },
    {
     "name": "stderr",
     "output_type": "stream",
     "text": [
      "C:\\Users\\ELCOT\\anaconda3\\lib\\site-packages\\seaborn\\_decorators.py:36: FutureWarning: Pass the following variable as a keyword arg: x. From version 0.12, the only valid positional argument will be `data`, and passing other arguments without an explicit keyword will result in an error or misinterpretation.\n",
      "  warnings.warn(\n"
     ]
    },
    {
     "data": {
      "image/png": "[encoded data removed]",
      "text/plain": [
       "<Figure size 432x288 with 1 Axes>"
      ]
     },
     "metadata": {
      "needs_background": "light"
     },
     "output_type": "display_data"
    },
    {
     "name": "stderr",
     "output_type": "stream",
     "text": [
      "C:\\Users\\ELCOT\\anaconda3\\lib\\site-packages\\seaborn\\_decorators.py:36: FutureWarning: Pass the following variable as a keyword arg: x. From version 0.12, the only valid positional argument will be `data`, and passing other arguments without an explicit keyword will result in an error or misinterpretation.\n",
      "  warnings.warn(\n"
     ]
    },
    {
     "data": {
      "image/png": "[encoded data removed]",
      "text/plain": [
       "<Figure size 432x288 with 1 Axes>"
      ]
     },
     "metadata": {
      "needs_background": "light"
     },
     "output_type": "display_data"
    },
    {
     "name": "stderr",
     "output_type": "stream",
     "text": [
      "C:\\Users\\ELCOT\\anaconda3\\lib\\site-packages\\seaborn\\_decorators.py:36: FutureWarning: Pass the following variable as a keyword arg: x. From version 0.12, the only valid positional argument will be `data`, and passing other arguments without an explicit keyword will result in an error or misinterpretation.\n",
      "  warnings.warn(\n"
     ]
    },
    {
     "data": {
      "image/png": "[encoded data removed]",
      "text/plain": [
       "<Figure size 432x288 with 1 Axes>"
      ]
     },
     "metadata": {
      "needs_background": "light"
     },
     "output_type": "display_data"
    },
    {
     "name": "stderr",
     "output_type": "stream",
     "text": [
      "C:\\Users\\ELCOT\\anaconda3\\lib\\site-packages\\seaborn\\_decorators.py:36: FutureWarning: Pass the following variable as a keyword arg: x. From version 0.12, the only valid positional argument will be `data`, and passing other arguments without an explicit keyword will result in an error or misinterpretation.\n",
      "  warnings.warn(\n"
     ]
    },
    {
     "data": {
      "image/png": "[encoded data removed]",
      "text/plain": [
       "<Figure size 432x288 with 1 Axes>"
      ]
     },
     "metadata": {
      "needs_background": "light"
     },
     "output_type": "display_data"
    },
    {
     "name": "stderr",
     "output_type": "stream",
     "text": [
      "C:\\Users\\ELCOT\\anaconda3\\lib\\site-packages\\seaborn\\_decorators.py:36: FutureWarning: Pass the following variable as a keyword arg: x. From version 0.12, the only valid positional argument will be `data`, and passing other arguments without an explicit keyword will result in an error or misinterpretation.\n",
      "  warnings.warn(\n"
     ]
    },
    {
     "data": {
      "image/png": "[encoded data removed]",
      "text/plain": [
       "<Figure size 432x288 with 1 Axes>"
      ]
     },
     "metadata": {
      "needs_background": "light"
     },
     "output_type": "display_data"
    },
    {
     "name": "stderr",
     "output_type": "stream",
     "text": [
      "C:\\Users\\ELCOT\\anaconda3\\lib\\site-packages\\seaborn\\_decorators.py:36: FutureWarning: Pass the following variable as a keyword arg: x. From version 0.12, the only valid positional argument will be `data`, and passing other arguments without an explicit keyword will result in an error or misinterpretation.\n",
      "  warnings.warn(\n"
     ]
    },
    {
     "data": {
      "image/png": "[encoded data removed]",
      "text/plain": [
       "<Figure size 432x288 with 1 Axes>"
      ]
     },
     "metadata": {
      "needs_background": "light"
     },
     "output_type": "display_data"
    }
   ],
   "source": [
    "# Check for outliers:\n",
    "for i in d1.columns:\n",
    "    sns.boxplot(d1[i])\n",
    "    plt.show()"
   ]
  },
  {
   "cell_type": "code",
   "execution_count": 120,
   "metadata": {},
   "outputs": [],
   "source": [
    "# From the above boxplot we can conclude that there are some outliers. To get good model performance treating outliers \n",
    "# before building the model by the method of Capping.\n",
    "\n",
    "for i in d1.columns:\n",
    "    q1 = d1[i].quantile(0.25)\n",
    "    q3 = d1[i].quantile(0.75)\n",
    "    iqr = q3 - q1\n",
    "    ub = q3 + 1.5 * iqr\n",
    "    lb = q1 - 1.5 * iqr\n",
    "    uc = d1[i].quantile(0.99)\n",
    "    lc = d1[i].quantile(0.01)\n",
    "    for j in d1[i].index:\n",
    "        if d1.loc[j,i] > ub:\n",
    "            d1.loc[j,i] = uc\n",
    "        if d1.loc[j,i] < lc:\n",
    "            d1.loc[j,i] = lc"
   ]
  },
  {
   "cell_type": "code",
   "execution_count": 121,
   "metadata": {},
   "outputs": [
    {
     "name": "stderr",
     "output_type": "stream",
     "text": [
      "C:\\Users\\ELCOT\\anaconda3\\lib\\site-packages\\seaborn\\_decorators.py:36: FutureWarning: Pass the following variable as a keyword arg: x. From version 0.12, the only valid positional argument will be `data`, and passing other arguments without an explicit keyword will result in an error or misinterpretation.\n",
      "  warnings.warn(\n"
     ]
    },
    {
     "data": {
      "image/png": "[encoded data removed]",
      "text/plain": [
       "<Figure size 432x288 with 1 Axes>"
      ]
     },
     "metadata": {
      "needs_background": "light"
     },
     "output_type": "display_data"
    },
    {
     "name": "stderr",
     "output_type": "stream",
     "text": [
      "C:\\Users\\ELCOT\\anaconda3\\lib\\site-packages\\seaborn\\_decorators.py:36: FutureWarning: Pass the following variable as a keyword arg: x. From version 0.12, the only valid positional argument will be `data`, and passing other arguments without an explicit keyword will result in an error or misinterpretation.\n",
      "  warnings.warn(\n"
     ]
    },
    {
     "data": {
      "image/png": "[encoded data removed]",
      "text/plain": [
       "<Figure size 432x288 with 1 Axes>"
      ]
     },
     "metadata": {
      "needs_background": "light"
     },
     "output_type": "display_data"
    },
    {
     "name": "stderr",
     "output_type": "stream",
     "text": [
      "C:\\Users\\ELCOT\\anaconda3\\lib\\site-packages\\seaborn\\_decorators.py:36: FutureWarning: Pass the following variable as a keyword arg: x. From version 0.12, the only valid positional argument will be `data`, and passing other arguments without an explicit keyword will result in an error or misinterpretation.\n",
      "  warnings.warn(\n"
     ]
    },
    {
     "data": {
      "image/png": "[encoded data removed]",
      "text/plain": [
       "<Figure size 432x288 with 1 Axes>"
      ]
     },
     "metadata": {
      "needs_background": "light"
     },
     "output_type": "display_data"
    },
    {
     "name": "stderr",
     "output_type": "stream",
     "text": [
      "C:\\Users\\ELCOT\\anaconda3\\lib\\site-packages\\seaborn\\_decorators.py:36: FutureWarning: Pass the following variable as a keyword arg: x. From version 0.12, the only valid positional argument will be `data`, and passing other arguments without an explicit keyword will result in an error or misinterpretation.\n",
      "  warnings.warn(\n"
     ]
    },
    {
     "data": {
      "image/png": "[encoded data removed]",
      "text/plain": [
       "<Figure size 432x288 with 1 Axes>"
      ]
     },
     "metadata": {
      "needs_background": "light"
     },
     "output_type": "display_data"
    },
    {
     "name": "stderr",
     "output_type": "stream",
     "text": [
      "C:\\Users\\ELCOT\\anaconda3\\lib\\site-packages\\seaborn\\_decorators.py:36: FutureWarning: Pass the following variable as a keyword arg: x. From version 0.12, the only valid positional argument will be `data`, and passing other arguments without an explicit keyword will result in an error or misinterpretation.\n",
      "  warnings.warn(\n"
     ]
    },
    {
     "data": {
      "image/png": "[encoded data removed]",
      "text/plain": [
       "<Figure size 432x288 with 1 Axes>"
      ]
     },
     "metadata": {
      "needs_background": "light"
     },
     "output_type": "display_data"
    },
    {
     "name": "stderr",
     "output_type": "stream",
     "text": [
      "C:\\Users\\ELCOT\\anaconda3\\lib\\site-packages\\seaborn\\_decorators.py:36: FutureWarning: Pass the following variable as a keyword arg: x. From version 0.12, the only valid positional argument will be `data`, and passing other arguments without an explicit keyword will result in an error or misinterpretation.\n",
      "  warnings.warn(\n"
     ]
    },
    {
     "data": {
      "image/png": "[encoded data removed]",
      "text/plain": [
       "<Figure size 432x288 with 1 Axes>"
      ]
     },
     "metadata": {
      "needs_background": "light"
     },
     "output_type": "display_data"
    },
    {
     "name": "stderr",
     "output_type": "stream",
     "text": [
      "C:\\Users\\ELCOT\\anaconda3\\lib\\site-packages\\seaborn\\_decorators.py:36: FutureWarning: Pass the following variable as a keyword arg: x. From version 0.12, the only valid positional argument will be `data`, and passing other arguments without an explicit keyword will result in an error or misinterpretation.\n",
      "  warnings.warn(\n"
     ]
    },
    {
     "data": {
      "image/png": "[encoded data removed]",
      "text/plain": [
       "<Figure size 432x288 with 1 Axes>"
      ]
     },
     "metadata": {
      "needs_background": "light"
     },
     "output_type": "display_data"
    }
   ],
   "source": [
    "# recheck for outlier:\n",
    "for i in d1.columns:\n",
    "    sns.boxplot(d1[i])\n",
    "    plt.show()"
   ]
  },
  {
   "cell_type": "code",
   "execution_count": 122,
   "metadata": {},
   "outputs": [],
   "source": [
    "# Comparing before capping, outlier is greatly reduced to build the model"
   ]
  },
  {
   "cell_type": "code",
   "execution_count": 123,
   "metadata": {},
   "outputs": [],
   "source": [
    "# now the dataset is ready to build linear regression model:"
   ]
  },
  {
   "cell_type": "code",
   "execution_count": 124,
   "metadata": {},
   "outputs": [],
   "source": [
    "import scipy.stats as stats\n",
    "import statsmodels.api as sm"
   ]
  },
  {
   "cell_type": "code",
   "execution_count": 125,
   "metadata": {},
   "outputs": [
    {
     "data": {
      "text/html": [
       "<table class=\"simpletable\">\n",
       "<caption>OLS Regression Results</caption>\n",
       "<tr>\n",
       "  <th>Dep. Variable:</th>         <td>Weight</td>      <th>  R-squared:         </th> <td>   0.889</td>\n",
       "</tr>\n",
       "<tr>\n",
       "  <th>Model:</th>                   <td>OLS</td>       <th>  Adj. R-squared:    </th> <td>   0.885</td>\n",
       "</tr>\n",
       "<tr>\n",
       "  <th>Method:</th>             <td>Least Squares</td>  <th>  F-statistic:       </th> <td>   202.2</td>\n",
       "</tr>\n",
       "<tr>\n",
       "  <th>Date:</th>             <td>Wed, 06 Jan 2021</td> <th>  Prob (F-statistic):</th> <td>1.59e-69</td>\n",
       "</tr>\n",
       "<tr>\n",
       "  <th>Time:</th>                 <td>23:19:11</td>     <th>  Log-Likelihood:    </th> <td> -977.98</td>\n",
       "</tr>\n",
       "<tr>\n",
       "  <th>No. Observations:</th>      <td>   158</td>      <th>  AIC:               </th> <td>   1970.</td>\n",
       "</tr>\n",
       "<tr>\n",
       "  <th>Df Residuals:</th>          <td>   151</td>      <th>  BIC:               </th> <td>   1991.</td>\n",
       "</tr>\n",
       "<tr>\n",
       "  <th>Df Model:</th>              <td>     6</td>      <th>                     </th>     <td> </td>   \n",
       "</tr>\n",
       "<tr>\n",
       "  <th>Covariance Type:</th>      <td>nonrobust</td>    <th>                     </th>     <td> </td>   \n",
       "</tr>\n",
       "</table>\n",
       "<table class=\"simpletable\">\n",
       "<tr>\n",
       "     <td></td>        <th>coef</th>     <th>std err</th>      <th>t</th>      <th>P>|t|</th>  <th>[0.025</th>    <th>0.975]</th>  \n",
       "</tr>\n",
       "<tr>\n",
       "  <th>const</th>   <td> -465.1005</td> <td>   35.152</td> <td>  -13.231</td> <td> 0.000</td> <td> -534.553</td> <td> -395.648</td>\n",
       "</tr>\n",
       "<tr>\n",
       "  <th>Species</th> <td> -170.7865</td> <td>  114.268</td> <td>   -1.495</td> <td> 0.137</td> <td> -396.557</td> <td>   54.984</td>\n",
       "</tr>\n",
       "<tr>\n",
       "  <th>Length1</th> <td>   66.8794</td> <td>   41.406</td> <td>    1.615</td> <td> 0.108</td> <td>  -14.930</td> <td>  148.689</td>\n",
       "</tr>\n",
       "<tr>\n",
       "  <th>Length2</th> <td>    0.6735</td> <td>   45.431</td> <td>    0.015</td> <td> 0.988</td> <td>  -89.088</td> <td>   90.435</td>\n",
       "</tr>\n",
       "<tr>\n",
       "  <th>Length3</th> <td>  -41.5745</td> <td>   19.020</td> <td>   -2.186</td> <td> 0.030</td> <td>  -79.155</td> <td>   -3.994</td>\n",
       "</tr>\n",
       "<tr>\n",
       "  <th>Height</th>  <td>   32.0720</td> <td>    8.769</td> <td>    3.657</td> <td> 0.000</td> <td>   14.746</td> <td>   49.398</td>\n",
       "</tr>\n",
       "<tr>\n",
       "  <th>Width</th>   <td>   30.8605</td> <td>   20.386</td> <td>    1.514</td> <td> 0.132</td> <td>   -9.419</td> <td>   71.140</td>\n",
       "</tr>\n",
       "</table>\n",
       "<table class=\"simpletable\">\n",
       "<tr>\n",
       "  <th>Omnibus:</th>       <td>20.950</td> <th>  Durbin-Watson:     </th> <td>   0.416</td>\n",
       "</tr>\n",
       "<tr>\n",
       "  <th>Prob(Omnibus):</th> <td> 0.000</td> <th>  Jarque-Bera (JB):  </th> <td>  28.754</td>\n",
       "</tr>\n",
       "<tr>\n",
       "  <th>Skew:</th>          <td> 0.762</td> <th>  Prob(JB):          </th> <td>5.70e-07</td>\n",
       "</tr>\n",
       "<tr>\n",
       "  <th>Kurtosis:</th>      <td> 4.430</td> <th>  Cond. No.          </th> <td>    673.</td>\n",
       "</tr>\n",
       "</table><br/><br/>Notes:<br/>[1] Standard Errors assume that the covariance matrix of the errors is correctly specified."
      ],
      "text/plain": [
       "<class 'statsmodels.iolib.summary.Summary'>\n",
       "\"\"\"\n",
       "                            OLS Regression Results                            \n",
       "==============================================================================\n",
       "Dep. Variable:                 Weight   R-squared:                       0.889\n",
       "Model:                            OLS   Adj. R-squared:                  0.885\n",
       "Method:                 Least Squares   F-statistic:                     202.2\n",
       "Date:                Wed, 06 Jan 2021   Prob (F-statistic):           1.59e-69\n",
       "Time:                        23:19:11   Log-Likelihood:                -977.98\n",
       "No. Observations:                 158   AIC:                             1970.\n",
       "Df Residuals:                     151   BIC:                             1991.\n",
       "Df Model:                           6                                         \n",
       "Covariance Type:            nonrobust                                         \n",
       "==============================================================================\n",
       "                 coef    std err          t      P>|t|      [0.025      0.975]\n",
       "------------------------------------------------------------------------------\n",
       "const       -465.1005     35.152    -13.231      0.000    -534.553    -395.648\n",
       "Species     -170.7865    114.268     -1.495      0.137    -396.557      54.984\n",
       "Length1       66.8794     41.406      1.615      0.108     -14.930     148.689\n",
       "Length2        0.6735     45.431      0.015      0.988     -89.088      90.435\n",
       "Length3      -41.5745     19.020     -2.186      0.030     -79.155      -3.994\n",
       "Height        32.0720      8.769      3.657      0.000      14.746      49.398\n",
       "Width         30.8605     20.386      1.514      0.132      -9.419      71.140\n",
       "==============================================================================\n",
       "Omnibus:                       20.950   Durbin-Watson:                   0.416\n",
       "Prob(Omnibus):                  0.000   Jarque-Bera (JB):               28.754\n",
       "Skew:                           0.762   Prob(JB):                     5.70e-07\n",
       "Kurtosis:                       4.430   Cond. No.                         673.\n",
       "==============================================================================\n",
       "\n",
       "Notes:\n",
       "[1] Standard Errors assume that the covariance matrix of the errors is correctly specified.\n",
       "\"\"\""
      ]
     },
     "execution_count": 125,
     "metadata": {},
     "output_type": "execute_result"
    }
   ],
   "source": [
    "# considering Weight as the Target column, and all others are independent variable.\n",
    "\n",
    "# building OLS model:\n",
    "\n",
    "inp = d1.drop('Weight',axis = 1)\n",
    "out = d1['Weight']\n",
    "\n",
    "inpc = sm.add_constant(inp)\n",
    "\n",
    "ols = sm.OLS(out,inpc)\n",
    "ols_mod = ols.fit()\n",
    "ols_mod.summary()"
   ]
  },
  {
   "cell_type": "code",
   "execution_count": 126,
   "metadata": {},
   "outputs": [],
   "source": [
    "# From the above summary r-square value is 0.889, which 88.9%. fstat pvalue < 0.05. Therefore overall model is significant\n",
    "\n",
    "# check for 5 assumption for building final model."
   ]
  },
  {
   "cell_type": "code",
   "execution_count": 127,
   "metadata": {},
   "outputs": [],
   "source": [
    "# 1. Check for multicollinearity:\n",
    "from statsmodels.stats.outliers_influence import variance_inflation_factor"
   ]
  },
  {
   "cell_type": "code",
   "execution_count": 128,
   "metadata": {},
   "outputs": [],
   "source": [
    "inp1 = inp - inp.mean() # partial scaling"
   ]
  },
  {
   "cell_type": "code",
   "execution_count": 129,
   "metadata": {},
   "outputs": [
    {
     "data": {
      "text/html": [
       "<table class=\"simpletable\">\n",
       "<caption>OLS Regression Results</caption>\n",
       "<tr>\n",
       "  <th>Dep. Variable:</th>         <td>Weight</td>      <th>  R-squared:         </th> <td>   0.889</td>\n",
       "</tr>\n",
       "<tr>\n",
       "  <th>Model:</th>                   <td>OLS</td>       <th>  Adj. R-squared:    </th> <td>   0.885</td>\n",
       "</tr>\n",
       "<tr>\n",
       "  <th>Method:</th>             <td>Least Squares</td>  <th>  F-statistic:       </th> <td>   202.2</td>\n",
       "</tr>\n",
       "<tr>\n",
       "  <th>Date:</th>             <td>Wed, 06 Jan 2021</td> <th>  Prob (F-statistic):</th> <td>1.59e-69</td>\n",
       "</tr>\n",
       "<tr>\n",
       "  <th>Time:</th>                 <td>23:19:12</td>     <th>  Log-Likelihood:    </th> <td> -977.98</td>\n",
       "</tr>\n",
       "<tr>\n",
       "  <th>No. Observations:</th>      <td>   158</td>      <th>  AIC:               </th> <td>   1970.</td>\n",
       "</tr>\n",
       "<tr>\n",
       "  <th>Df Residuals:</th>          <td>   151</td>      <th>  BIC:               </th> <td>   1991.</td>\n",
       "</tr>\n",
       "<tr>\n",
       "  <th>Df Model:</th>              <td>     6</td>      <th>                     </th>     <td> </td>   \n",
       "</tr>\n",
       "<tr>\n",
       "  <th>Covariance Type:</th>      <td>nonrobust</td>    <th>                     </th>     <td> </td>   \n",
       "</tr>\n",
       "</table>\n",
       "<table class=\"simpletable\">\n",
       "<tr>\n",
       "     <td></td>        <th>coef</th>     <th>std err</th>      <th>t</th>      <th>P>|t|</th>  <th>[0.025</th>    <th>0.975]</th>  \n",
       "</tr>\n",
       "<tr>\n",
       "  <th>const</th>   <td>  400.3136</td> <td>    9.604</td> <td>   41.683</td> <td> 0.000</td> <td>  381.338</td> <td>  419.289</td>\n",
       "</tr>\n",
       "<tr>\n",
       "  <th>Species</th> <td> -170.7865</td> <td>  114.268</td> <td>   -1.495</td> <td> 0.137</td> <td> -396.557</td> <td>   54.984</td>\n",
       "</tr>\n",
       "<tr>\n",
       "  <th>Length1</th> <td>   66.8794</td> <td>   41.406</td> <td>    1.615</td> <td> 0.108</td> <td>  -14.930</td> <td>  148.689</td>\n",
       "</tr>\n",
       "<tr>\n",
       "  <th>Length2</th> <td>    0.6735</td> <td>   45.431</td> <td>    0.015</td> <td> 0.988</td> <td>  -89.088</td> <td>   90.435</td>\n",
       "</tr>\n",
       "<tr>\n",
       "  <th>Length3</th> <td>  -41.5745</td> <td>   19.020</td> <td>   -2.186</td> <td> 0.030</td> <td>  -79.155</td> <td>   -3.994</td>\n",
       "</tr>\n",
       "<tr>\n",
       "  <th>Height</th>  <td>   32.0720</td> <td>    8.769</td> <td>    3.657</td> <td> 0.000</td> <td>   14.746</td> <td>   49.398</td>\n",
       "</tr>\n",
       "<tr>\n",
       "  <th>Width</th>   <td>   30.8605</td> <td>   20.386</td> <td>    1.514</td> <td> 0.132</td> <td>   -9.419</td> <td>   71.140</td>\n",
       "</tr>\n",
       "</table>\n",
       "<table class=\"simpletable\">\n",
       "<tr>\n",
       "  <th>Omnibus:</th>       <td>20.950</td> <th>  Durbin-Watson:     </th> <td>   0.416</td>\n",
       "</tr>\n",
       "<tr>\n",
       "  <th>Prob(Omnibus):</th> <td> 0.000</td> <th>  Jarque-Bera (JB):  </th> <td>  28.754</td>\n",
       "</tr>\n",
       "<tr>\n",
       "  <th>Skew:</th>          <td> 0.762</td> <th>  Prob(JB):          </th> <td>5.70e-07</td>\n",
       "</tr>\n",
       "<tr>\n",
       "  <th>Kurtosis:</th>      <td> 4.430</td> <th>  Cond. No.          </th> <td>    230.</td>\n",
       "</tr>\n",
       "</table><br/><br/>Notes:<br/>[1] Standard Errors assume that the covariance matrix of the errors is correctly specified."
      ],
      "text/plain": [
       "<class 'statsmodels.iolib.summary.Summary'>\n",
       "\"\"\"\n",
       "                            OLS Regression Results                            \n",
       "==============================================================================\n",
       "Dep. Variable:                 Weight   R-squared:                       0.889\n",
       "Model:                            OLS   Adj. R-squared:                  0.885\n",
       "Method:                 Least Squares   F-statistic:                     202.2\n",
       "Date:                Wed, 06 Jan 2021   Prob (F-statistic):           1.59e-69\n",
       "Time:                        23:19:12   Log-Likelihood:                -977.98\n",
       "No. Observations:                 158   AIC:                             1970.\n",
       "Df Residuals:                     151   BIC:                             1991.\n",
       "Df Model:                           6                                         \n",
       "Covariance Type:            nonrobust                                         \n",
       "==============================================================================\n",
       "                 coef    std err          t      P>|t|      [0.025      0.975]\n",
       "------------------------------------------------------------------------------\n",
       "const        400.3136      9.604     41.683      0.000     381.338     419.289\n",
       "Species     -170.7865    114.268     -1.495      0.137    -396.557      54.984\n",
       "Length1       66.8794     41.406      1.615      0.108     -14.930     148.689\n",
       "Length2        0.6735     45.431      0.015      0.988     -89.088      90.435\n",
       "Length3      -41.5745     19.020     -2.186      0.030     -79.155      -3.994\n",
       "Height        32.0720      8.769      3.657      0.000      14.746      49.398\n",
       "Width         30.8605     20.386      1.514      0.132      -9.419      71.140\n",
       "==============================================================================\n",
       "Omnibus:                       20.950   Durbin-Watson:                   0.416\n",
       "Prob(Omnibus):                  0.000   Jarque-Bera (JB):               28.754\n",
       "Skew:                           0.762   Prob(JB):                     5.70e-07\n",
       "Kurtosis:                       4.430   Cond. No.                         230.\n",
       "==============================================================================\n",
       "\n",
       "Notes:\n",
       "[1] Standard Errors assume that the covariance matrix of the errors is correctly specified.\n",
       "\"\"\""
      ]
     },
     "execution_count": 129,
     "metadata": {},
     "output_type": "execute_result"
    }
   ],
   "source": [
    "inp1c = sm.add_constant(inp1)\n",
    "\n",
    "ols = sm.OLS(out,inp1c)\n",
    "ols_mod = ols.fit()\n",
    "ols_mod.summary()"
   ]
  },
  {
   "cell_type": "code",
   "execution_count": 130,
   "metadata": {},
   "outputs": [
    {
     "data": {
      "text/plain": [
       "9.00900900900901"
      ]
     },
     "execution_count": 130,
     "metadata": {},
     "output_type": "execute_result"
    }
   ],
   "source": [
    "# For the above model vif can be:\n",
    "r2 = 0.889\n",
    "vif = 1 / (1 - r2)\n",
    "vif\n",
    "\n",
    "# VIF value should be < 9 to statisfy the multicollinearity"
   ]
  },
  {
   "cell_type": "code",
   "execution_count": 131,
   "metadata": {},
   "outputs": [
    {
     "data": {
      "text/html": [
       "<div>\n",
       "<style scoped>\n",
       "    .dataframe tbody tr th:only-of-type {\n",
       "        vertical-align: middle;\n",
       "    }\n",
       "\n",
       "    .dataframe tbody tr th {\n",
       "        vertical-align: top;\n",
       "    }\n",
       "\n",
       "    .dataframe thead th {\n",
       "        text-align: right;\n",
       "    }\n",
       "</style>\n",
       "<table border=\"1\" class=\"dataframe\">\n",
       "  <thead>\n",
       "    <tr style=\"text-align: right;\">\n",
       "      <th></th>\n",
       "      <th>VIF</th>\n",
       "      <th>Features</th>\n",
       "    </tr>\n",
       "  </thead>\n",
       "  <tbody>\n",
       "    <tr>\n",
       "      <th>3</th>\n",
       "      <td>2517.028267</td>\n",
       "      <td>Length2</td>\n",
       "    </tr>\n",
       "    <tr>\n",
       "      <th>2</th>\n",
       "      <td>1818.514710</td>\n",
       "      <td>Length1</td>\n",
       "    </tr>\n",
       "    <tr>\n",
       "      <th>4</th>\n",
       "      <td>517.014541</td>\n",
       "      <td>Length3</td>\n",
       "    </tr>\n",
       "    <tr>\n",
       "      <th>5</th>\n",
       "      <td>15.263156</td>\n",
       "      <td>Height</td>\n",
       "    </tr>\n",
       "    <tr>\n",
       "      <th>6</th>\n",
       "      <td>12.753950</td>\n",
       "      <td>Width</td>\n",
       "    </tr>\n",
       "    <tr>\n",
       "      <th>1</th>\n",
       "      <td>1.882506</td>\n",
       "      <td>Species</td>\n",
       "    </tr>\n",
       "    <tr>\n",
       "      <th>0</th>\n",
       "      <td>1.000000</td>\n",
       "      <td>const</td>\n",
       "    </tr>\n",
       "  </tbody>\n",
       "</table>\n",
       "</div>"
      ],
      "text/plain": [
       "           VIF Features\n",
       "3  2517.028267  Length2\n",
       "2  1818.514710  Length1\n",
       "4   517.014541  Length3\n",
       "5    15.263156   Height\n",
       "6    12.753950    Width\n",
       "1     1.882506  Species\n",
       "0     1.000000    const"
      ]
     },
     "execution_count": 131,
     "metadata": {},
     "output_type": "execute_result"
    }
   ],
   "source": [
    "# To check for VIF:\n",
    "\n",
    "vif = pd.DataFrame()\n",
    "vif['VIF'] = [variance_inflation_factor(inp1c.values,i) for i in range(inp1c.shape[1])]\n",
    "vif['Features'] = inp1c.columns\n",
    "vif.sort_values('VIF',ascending = False)"
   ]
  },
  {
   "cell_type": "code",
   "execution_count": 132,
   "metadata": {},
   "outputs": [
    {
     "data": {
      "text/html": [
       "<div>\n",
       "<style scoped>\n",
       "    .dataframe tbody tr th:only-of-type {\n",
       "        vertical-align: middle;\n",
       "    }\n",
       "\n",
       "    .dataframe tbody tr th {\n",
       "        vertical-align: top;\n",
       "    }\n",
       "\n",
       "    .dataframe thead th {\n",
       "        text-align: right;\n",
       "    }\n",
       "</style>\n",
       "<table border=\"1\" class=\"dataframe\">\n",
       "  <thead>\n",
       "    <tr style=\"text-align: right;\">\n",
       "      <th></th>\n",
       "      <th>VIF</th>\n",
       "      <th>Features</th>\n",
       "    </tr>\n",
       "  </thead>\n",
       "  <tbody>\n",
       "    <tr>\n",
       "      <th>2</th>\n",
       "      <td>379.355756</td>\n",
       "      <td>Length3</td>\n",
       "    </tr>\n",
       "    <tr>\n",
       "      <th>1</th>\n",
       "      <td>352.240450</td>\n",
       "      <td>Length1</td>\n",
       "    </tr>\n",
       "    <tr>\n",
       "      <th>3</th>\n",
       "      <td>14.798121</td>\n",
       "      <td>Height</td>\n",
       "    </tr>\n",
       "    <tr>\n",
       "      <th>4</th>\n",
       "      <td>12.279462</td>\n",
       "      <td>Width</td>\n",
       "    </tr>\n",
       "    <tr>\n",
       "      <th>0</th>\n",
       "      <td>1.524724</td>\n",
       "      <td>Species</td>\n",
       "    </tr>\n",
       "  </tbody>\n",
       "</table>\n",
       "</div>"
      ],
      "text/plain": [
       "          VIF Features\n",
       "2  379.355756  Length3\n",
       "1  352.240450  Length1\n",
       "3   14.798121   Height\n",
       "4   12.279462    Width\n",
       "0    1.524724  Species"
      ]
     },
     "execution_count": 132,
     "metadata": {},
     "output_type": "execute_result"
    }
   ],
   "source": [
    "# VIF value for length2 is > 9. so we can drop and recheck the vif again with remain features.\n",
    "\n",
    "inpv1 = inp1.drop('Length2',axis = 1)\n",
    "\n",
    "vif = pd.DataFrame()\n",
    "vif['VIF'] = [variance_inflation_factor(inpv1.values,i) for i in range(inpv1.shape[1])]\n",
    "vif['Features'] = inpv1.columns\n",
    "vif.sort_values('VIF',ascending = False)"
   ]
  },
  {
   "cell_type": "code",
   "execution_count": 133,
   "metadata": {},
   "outputs": [
    {
     "data": {
      "text/html": [
       "<div>\n",
       "<style scoped>\n",
       "    .dataframe tbody tr th:only-of-type {\n",
       "        vertical-align: middle;\n",
       "    }\n",
       "\n",
       "    .dataframe tbody tr th {\n",
       "        vertical-align: top;\n",
       "    }\n",
       "\n",
       "    .dataframe thead th {\n",
       "        text-align: right;\n",
       "    }\n",
       "</style>\n",
       "<table border=\"1\" class=\"dataframe\">\n",
       "  <thead>\n",
       "    <tr style=\"text-align: right;\">\n",
       "      <th></th>\n",
       "      <th>VIF</th>\n",
       "      <th>Features</th>\n",
       "    </tr>\n",
       "  </thead>\n",
       "  <tbody>\n",
       "    <tr>\n",
       "      <th>3</th>\n",
       "      <td>9.564111</td>\n",
       "      <td>Width</td>\n",
       "    </tr>\n",
       "    <tr>\n",
       "      <th>1</th>\n",
       "      <td>5.242437</td>\n",
       "      <td>Length1</td>\n",
       "    </tr>\n",
       "    <tr>\n",
       "      <th>2</th>\n",
       "      <td>3.059649</td>\n",
       "      <td>Height</td>\n",
       "    </tr>\n",
       "    <tr>\n",
       "      <th>0</th>\n",
       "      <td>1.410037</td>\n",
       "      <td>Species</td>\n",
       "    </tr>\n",
       "  </tbody>\n",
       "</table>\n",
       "</div>"
      ],
      "text/plain": [
       "        VIF Features\n",
       "3  9.564111    Width\n",
       "1  5.242437  Length1\n",
       "2  3.059649   Height\n",
       "0  1.410037  Species"
      ]
     },
     "execution_count": 133,
     "metadata": {},
     "output_type": "execute_result"
    }
   ],
   "source": [
    "# VIF value for length3 is > 9. so we can drop and recheck the vif again with remain features.\n",
    "\n",
    "inpv2 = inpv1.drop('Length3',axis = 1)\n",
    "\n",
    "vif = pd.DataFrame()\n",
    "vif['VIF'] = [variance_inflation_factor(inpv2.values,i) for i in range(inpv2.shape[1])]\n",
    "vif['Features'] = inpv2.columns\n",
    "vif.sort_values('VIF',ascending = False)"
   ]
  },
  {
   "cell_type": "code",
   "execution_count": 134,
   "metadata": {},
   "outputs": [
    {
     "data": {
      "text/html": [
       "<div>\n",
       "<style scoped>\n",
       "    .dataframe tbody tr th:only-of-type {\n",
       "        vertical-align: middle;\n",
       "    }\n",
       "\n",
       "    .dataframe tbody tr th {\n",
       "        vertical-align: top;\n",
       "    }\n",
       "\n",
       "    .dataframe thead th {\n",
       "        text-align: right;\n",
       "    }\n",
       "</style>\n",
       "<table border=\"1\" class=\"dataframe\">\n",
       "  <thead>\n",
       "    <tr style=\"text-align: right;\">\n",
       "      <th></th>\n",
       "      <th>VIF</th>\n",
       "      <th>Features</th>\n",
       "    </tr>\n",
       "  </thead>\n",
       "  <tbody>\n",
       "    <tr>\n",
       "      <th>2</th>\n",
       "      <td>1.662965</td>\n",
       "      <td>Height</td>\n",
       "    </tr>\n",
       "    <tr>\n",
       "      <th>1</th>\n",
       "      <td>1.645300</td>\n",
       "      <td>Length1</td>\n",
       "    </tr>\n",
       "    <tr>\n",
       "      <th>0</th>\n",
       "      <td>1.016596</td>\n",
       "      <td>Species</td>\n",
       "    </tr>\n",
       "  </tbody>\n",
       "</table>\n",
       "</div>"
      ],
      "text/plain": [
       "        VIF Features\n",
       "2  1.662965   Height\n",
       "1  1.645300  Length1\n",
       "0  1.016596  Species"
      ]
     },
     "execution_count": 134,
     "metadata": {},
     "output_type": "execute_result"
    }
   ],
   "source": [
    "# VIF value for width is > 9. so we can drop and recheck the vif again with remain features.\n",
    "\n",
    "inpv3 = inpv2.drop('Width',axis = 1)\n",
    "\n",
    "vif = pd.DataFrame()\n",
    "vif['VIF'] = [variance_inflation_factor(inpv3.values,i) for i in range(inpv3.shape[1])]\n",
    "vif['Features'] = inpv3.columns\n",
    "vif.sort_values('VIF',ascending = False)"
   ]
  },
  {
   "cell_type": "code",
   "execution_count": 135,
   "metadata": {},
   "outputs": [
    {
     "data": {
      "text/html": [
       "<table class=\"simpletable\">\n",
       "<caption>OLS Regression Results</caption>\n",
       "<tr>\n",
       "  <th>Dep. Variable:</th>         <td>Weight</td>      <th>  R-squared:         </th> <td>   0.877</td>\n",
       "</tr>\n",
       "<tr>\n",
       "  <th>Model:</th>                   <td>OLS</td>       <th>  Adj. R-squared:    </th> <td>   0.875</td>\n",
       "</tr>\n",
       "<tr>\n",
       "  <th>Method:</th>             <td>Least Squares</td>  <th>  F-statistic:       </th> <td>   367.7</td>\n",
       "</tr>\n",
       "<tr>\n",
       "  <th>Date:</th>             <td>Wed, 06 Jan 2021</td> <th>  Prob (F-statistic):</th> <td>5.73e-70</td>\n",
       "</tr>\n",
       "<tr>\n",
       "  <th>Time:</th>                 <td>23:19:17</td>     <th>  Log-Likelihood:    </th> <td> -985.99</td>\n",
       "</tr>\n",
       "<tr>\n",
       "  <th>No. Observations:</th>      <td>   158</td>      <th>  AIC:               </th> <td>   1980.</td>\n",
       "</tr>\n",
       "<tr>\n",
       "  <th>Df Residuals:</th>          <td>   154</td>      <th>  BIC:               </th> <td>   1992.</td>\n",
       "</tr>\n",
       "<tr>\n",
       "  <th>Df Model:</th>              <td>     3</td>      <th>                     </th>     <td> </td>   \n",
       "</tr>\n",
       "<tr>\n",
       "  <th>Covariance Type:</th>      <td>nonrobust</td>    <th>                     </th>     <td> </td>   \n",
       "</tr>\n",
       "</table>\n",
       "<table class=\"simpletable\">\n",
       "<tr>\n",
       "     <td></td>        <th>coef</th>     <th>std err</th>      <th>t</th>      <th>P>|t|</th>  <th>[0.025</th>    <th>0.975]</th>  \n",
       "</tr>\n",
       "<tr>\n",
       "  <th>const</th>   <td>  400.3136</td> <td>   10.004</td> <td>   40.014</td> <td> 0.000</td> <td>  380.550</td> <td>  420.077</td>\n",
       "</tr>\n",
       "<tr>\n",
       "  <th>Species</th> <td>   63.9403</td> <td>   87.474</td> <td>    0.731</td> <td> 0.466</td> <td> -108.863</td> <td>  236.744</td>\n",
       "</tr>\n",
       "<tr>\n",
       "  <th>Length1</th> <td>   27.1593</td> <td>    1.297</td> <td>   20.934</td> <td> 0.000</td> <td>   24.596</td> <td>   29.722</td>\n",
       "</tr>\n",
       "<tr>\n",
       "  <th>Height</th>  <td>   20.7345</td> <td>    3.015</td> <td>    6.877</td> <td> 0.000</td> <td>   14.778</td> <td>   26.691</td>\n",
       "</tr>\n",
       "</table>\n",
       "<table class=\"simpletable\">\n",
       "<tr>\n",
       "  <th>Omnibus:</th>       <td> 5.916</td> <th>  Durbin-Watson:     </th> <td>   0.407</td>\n",
       "</tr>\n",
       "<tr>\n",
       "  <th>Prob(Omnibus):</th> <td> 0.052</td> <th>  Jarque-Bera (JB):  </th> <td>   5.476</td>\n",
       "</tr>\n",
       "<tr>\n",
       "  <th>Skew:</th>          <td> 0.421</td> <th>  Prob(JB):          </th> <td>  0.0647</td>\n",
       "</tr>\n",
       "<tr>\n",
       "  <th>Kurtosis:</th>      <td> 3.352</td> <th>  Cond. No.          </th> <td>    90.0</td>\n",
       "</tr>\n",
       "</table><br/><br/>Notes:<br/>[1] Standard Errors assume that the covariance matrix of the errors is correctly specified."
      ],
      "text/plain": [
       "<class 'statsmodels.iolib.summary.Summary'>\n",
       "\"\"\"\n",
       "                            OLS Regression Results                            \n",
       "==============================================================================\n",
       "Dep. Variable:                 Weight   R-squared:                       0.877\n",
       "Model:                            OLS   Adj. R-squared:                  0.875\n",
       "Method:                 Least Squares   F-statistic:                     367.7\n",
       "Date:                Wed, 06 Jan 2021   Prob (F-statistic):           5.73e-70\n",
       "Time:                        23:19:17   Log-Likelihood:                -985.99\n",
       "No. Observations:                 158   AIC:                             1980.\n",
       "Df Residuals:                     154   BIC:                             1992.\n",
       "Df Model:                           3                                         \n",
       "Covariance Type:            nonrobust                                         \n",
       "==============================================================================\n",
       "                 coef    std err          t      P>|t|      [0.025      0.975]\n",
       "------------------------------------------------------------------------------\n",
       "const        400.3136     10.004     40.014      0.000     380.550     420.077\n",
       "Species       63.9403     87.474      0.731      0.466    -108.863     236.744\n",
       "Length1       27.1593      1.297     20.934      0.000      24.596      29.722\n",
       "Height        20.7345      3.015      6.877      0.000      14.778      26.691\n",
       "==============================================================================\n",
       "Omnibus:                        5.916   Durbin-Watson:                   0.407\n",
       "Prob(Omnibus):                  0.052   Jarque-Bera (JB):                5.476\n",
       "Skew:                           0.421   Prob(JB):                       0.0647\n",
       "Kurtosis:                       3.352   Cond. No.                         90.0\n",
       "==============================================================================\n",
       "\n",
       "Notes:\n",
       "[1] Standard Errors assume that the covariance matrix of the errors is correctly specified.\n",
       "\"\"\""
      ]
     },
     "execution_count": 135,
     "metadata": {},
     "output_type": "execute_result"
    }
   ],
   "source": [
    "# Above Dataframe statisfy the multicollinearity assumption.\n",
    "\n",
    "# building model with above listed input.\n",
    "\n",
    "inpc = sm.add_constant(inpv3)\n",
    "\n",
    "ols = sm.OLS(out,inpc)\n",
    "ols_mod = ols.fit()\n",
    "ols_mod.summary()"
   ]
  },
  {
   "cell_type": "code",
   "execution_count": 136,
   "metadata": {},
   "outputs": [
    {
     "data": {
      "text/plain": [
       "0.4246895360402113"
      ]
     },
     "execution_count": 136,
     "metadata": {},
     "output_type": "execute_result"
    }
   ],
   "source": [
    "# 2. Check for normality:\n",
    "\n",
    "ols_mod.resid.skew()\n",
    "\n",
    "# Skew range should be within -0.5 to 0.5. Therefore normality check also statisfied. \n",
    "# To check how data is distributed, use density plot"
   ]
  },
  {
   "cell_type": "code",
   "execution_count": 137,
   "metadata": {},
   "outputs": [
    {
     "data": {
      "image/png": "[encoded data removed]",
      "text/plain": [
       "<Figure size 432x288 with 1 Axes>"
      ]
     },
     "metadata": {
      "needs_background": "light"
     },
     "output_type": "display_data"
    }
   ],
   "source": [
    "ols_mod.resid.plot(kind = 'density')\n",
    "plt.show()"
   ]
  },
  {
   "cell_type": "code",
   "execution_count": 138,
   "metadata": {},
   "outputs": [
    {
     "data": {
      "image/png": "[encoded data removed]",
      "text/plain": [
       "<Figure size 432x288 with 1 Axes>"
      ]
     },
     "metadata": {
      "needs_background": "light"
     },
     "output_type": "display_data"
    }
   ],
   "source": [
    "stats.probplot(ols_mod.resid,plot = plt)\n",
    "plt.show()"
   ]
  },
  {
   "cell_type": "code",
   "execution_count": 139,
   "metadata": {},
   "outputs": [],
   "source": [
    "# From the above Probability plot and density plot we can conclude that, Data is normally distributed."
   ]
  },
  {
   "cell_type": "code",
   "execution_count": 34,
   "metadata": {},
   "outputs": [],
   "source": [
    "# check for linearity:\n",
    "# H0 : Part of data is accepted\n",
    "from statsmodels.stats.diagnostic import linear_rainbow"
   ]
  },
  {
   "cell_type": "code",
   "execution_count": 140,
   "metadata": {},
   "outputs": [
    {
     "name": "stderr",
     "output_type": "stream",
     "text": [
      "C:\\Users\\ELCOT\\anaconda3\\lib\\site-packages\\seaborn\\_decorators.py:36: FutureWarning: Pass the following variables as keyword args: x, y. From version 0.12, the only valid positional argument will be `data`, and passing other arguments without an explicit keyword will result in an error or misinterpretation.\n",
      "  warnings.warn(\n"
     ]
    },
    {
     "data": {
      "text/plain": [
       "<AxesSubplot:xlabel='Weight'>"
      ]
     },
     "execution_count": 140,
     "metadata": {},
     "output_type": "execute_result"
    },
    {
     "data": {
      "image/png": "[encoded data removed]",
      "text/plain": [
       "<Figure size 432x288 with 1 Axes>"
      ]
     },
     "metadata": {
      "needs_background": "light"
     },
     "output_type": "display_data"
    }
   ],
   "source": [
    "inpc = sm.add_constant(inpv3)\n",
    "\n",
    "ypred = ols_mod.predict(inpc)\n",
    "sns.regplot(out,ypred)"
   ]
  },
  {
   "cell_type": "code",
   "execution_count": 141,
   "metadata": {},
   "outputs": [
    {
     "name": "stderr",
     "output_type": "stream",
     "text": [
      "C:\\Users\\ELCOT\\anaconda3\\lib\\site-packages\\seaborn\\_decorators.py:36: FutureWarning: Pass the following variables as keyword args: x, y. From version 0.12, the only valid positional argument will be `data`, and passing other arguments without an explicit keyword will result in an error or misinterpretation.\n",
      "  warnings.warn(\n"
     ]
    },
    {
     "data": {
      "image/png": "[encoded data removed]",
      "text/plain": [
       "<Figure size 432x288 with 1 Axes>"
      ]
     },
     "metadata": {
      "needs_background": "light"
     },
     "output_type": "display_data"
    },
    {
     "data": {
      "image/png": "[encoded data removed]",
      "text/plain": [
       "<Figure size 432x288 with 1 Axes>"
      ]
     },
     "metadata": {
      "needs_background": "light"
     },
     "output_type": "display_data"
    },
    {
     "data": {
      "image/png": "[encoded data removed]",
      "text/plain": [
       "<Figure size 432x288 with 1 Axes>"
      ]
     },
     "metadata": {
      "needs_background": "light"
     },
     "output_type": "display_data"
    }
   ],
   "source": [
    "for i in inpv3.columns:\n",
    "    sns.residplot(inpv3[i],ols_mod.resid)\n",
    "    plt.show()"
   ]
  },
  {
   "cell_type": "code",
   "execution_count": 35,
   "metadata": {},
   "outputs": [
    {
     "data": {
      "text/plain": [
       "(4.472431982401296, 2.2002838580602098e-10)"
      ]
     },
     "execution_count": 35,
     "metadata": {},
     "output_type": "execute_result"
    }
   ],
   "source": [
    "# H0 : Part of the data is linear\n",
    "linear_rainbow(res = ols_mod, frac = 0.5)"
   ]
  },
  {
   "cell_type": "code",
   "execution_count": 36,
   "metadata": {},
   "outputs": [],
   "source": [
    "# From the above regplot we can notice some non-linear method exist.\n",
    "# From the above resiplot we can notice that there is no clear random distribution of points with respect to zero residue line.\n",
    "\n",
    "# in the above linear rainbow test, pvalue < 0.05. Linearity check fails. \n",
    "# To make it statisfy transforming input and output variables."
   ]
  },
  {
   "cell_type": "code",
   "execution_count": 43,
   "metadata": {},
   "outputs": [],
   "source": [
    "# Tranform the input and output features:\n",
    "Length1_tr,lam=stats.boxcox(d1['Length1'])\n",
    "pd.DataFrame(Length1_tr).skew()\n",
    "d1['Length1'] = Length1_tr"
   ]
  },
  {
   "cell_type": "code",
   "execution_count": 44,
   "metadata": {},
   "outputs": [],
   "source": [
    "Height_tr,lam = stats.boxcox(d1['Height'])\n",
    "pd.DataFrame(Height_tr).skew()\n",
    "d1['Height'] = Height_tr"
   ]
  },
  {
   "cell_type": "code",
   "execution_count": 42,
   "metadata": {},
   "outputs": [],
   "source": [
    "d1['Weight'] = np.sqrt(d1['Weight'])"
   ]
  },
  {
   "cell_type": "code",
   "execution_count": 53,
   "metadata": {},
   "outputs": [],
   "source": [
    "d1['Species'] = np.sqrt(d1['Species']).skew()"
   ]
  },
  {
   "cell_type": "code",
   "execution_count": 46,
   "metadata": {},
   "outputs": [
    {
     "data": {
      "text/plain": [
       "Species    float64\n",
       "Weight     float64\n",
       "Length1    float64\n",
       "Length2    float64\n",
       "Length3    float64\n",
       "Height     float64\n",
       "Width      float64\n",
       "dtype: object"
      ]
     },
     "execution_count": 46,
     "metadata": {},
     "output_type": "execute_result"
    }
   ],
   "source": [
    "d1.dtypes"
   ]
  },
  {
   "cell_type": "code",
   "execution_count": 54,
   "metadata": {},
   "outputs": [
    {
     "data": {
      "text/html": [
       "<table class=\"simpletable\">\n",
       "<caption>OLS Regression Results</caption>\n",
       "<tr>\n",
       "  <th>Dep. Variable:</th>         <td>Weight</td>      <th>  R-squared:         </th> <td>   0.988</td> \n",
       "</tr>\n",
       "<tr>\n",
       "  <th>Model:</th>                   <td>OLS</td>       <th>  Adj. R-squared:    </th> <td>   0.988</td> \n",
       "</tr>\n",
       "<tr>\n",
       "  <th>Method:</th>             <td>Least Squares</td>  <th>  F-statistic:       </th> <td>   2559.</td> \n",
       "</tr>\n",
       "<tr>\n",
       "  <th>Date:</th>             <td>Wed, 06 Jan 2021</td> <th>  Prob (F-statistic):</th> <td>9.86e-145</td>\n",
       "</tr>\n",
       "<tr>\n",
       "  <th>Time:</th>                 <td>20:54:52</td>     <th>  Log-Likelihood:    </th> <td> -221.79</td> \n",
       "</tr>\n",
       "<tr>\n",
       "  <th>No. Observations:</th>      <td>   158</td>      <th>  AIC:               </th> <td>   455.6</td> \n",
       "</tr>\n",
       "<tr>\n",
       "  <th>Df Residuals:</th>          <td>   152</td>      <th>  BIC:               </th> <td>   474.0</td> \n",
       "</tr>\n",
       "<tr>\n",
       "  <th>Df Model:</th>              <td>     5</td>      <th>                     </th>     <td> </td>    \n",
       "</tr>\n",
       "<tr>\n",
       "  <th>Covariance Type:</th>      <td>nonrobust</td>    <th>                     </th>     <td> </td>    \n",
       "</tr>\n",
       "</table>\n",
       "<table class=\"simpletable\">\n",
       "<tr>\n",
       "     <td></td>        <th>coef</th>     <th>std err</th>      <th>t</th>      <th>P>|t|</th>  <th>[0.025</th>    <th>0.975]</th>  \n",
       "</tr>\n",
       "<tr>\n",
       "  <th>Species</th> <td>  -60.9820</td> <td>    9.757</td> <td>   -6.250</td> <td> 0.000</td> <td>  -80.259</td> <td>  -41.705</td>\n",
       "</tr>\n",
       "<tr>\n",
       "  <th>Length1</th> <td>   -5.9760</td> <td>    0.523</td> <td>  -11.437</td> <td> 0.000</td> <td>   -7.008</td> <td>   -4.944</td>\n",
       "</tr>\n",
       "<tr>\n",
       "  <th>Length2</th> <td>    1.1187</td> <td>    0.164</td> <td>    6.825</td> <td> 0.000</td> <td>    0.795</td> <td>    1.443</td>\n",
       "</tr>\n",
       "<tr>\n",
       "  <th>Length3</th> <td>    0.0319</td> <td>    0.132</td> <td>    0.241</td> <td> 0.810</td> <td>   -0.230</td> <td>    0.294</td>\n",
       "</tr>\n",
       "<tr>\n",
       "  <th>Height</th>  <td>    1.4517</td> <td>    0.182</td> <td>    7.986</td> <td> 0.000</td> <td>    1.093</td> <td>    1.811</td>\n",
       "</tr>\n",
       "<tr>\n",
       "  <th>Width</th>   <td>    2.1619</td> <td>    0.171</td> <td>   12.608</td> <td> 0.000</td> <td>    1.823</td> <td>    2.501</td>\n",
       "</tr>\n",
       "</table>\n",
       "<table class=\"simpletable\">\n",
       "<tr>\n",
       "  <th>Omnibus:</th>       <td>12.606</td> <th>  Durbin-Watson:     </th> <td>   1.712</td>\n",
       "</tr>\n",
       "<tr>\n",
       "  <th>Prob(Omnibus):</th> <td> 0.002</td> <th>  Jarque-Bera (JB):  </th> <td>  34.391</td>\n",
       "</tr>\n",
       "<tr>\n",
       "  <th>Skew:</th>          <td> 0.093</td> <th>  Prob(JB):          </th> <td>3.40e-08</td>\n",
       "</tr>\n",
       "<tr>\n",
       "  <th>Kurtosis:</th>      <td> 5.278</td> <th>  Cond. No.          </th> <td>5.63e+03</td>\n",
       "</tr>\n",
       "</table><br/><br/>Notes:<br/>[1] Standard Errors assume that the covariance matrix of the errors is correctly specified.<br/>[2] The condition number is large, 5.63e+03. This might indicate that there are<br/>strong multicollinearity or other numerical problems."
      ],
      "text/plain": [
       "<class 'statsmodels.iolib.summary.Summary'>\n",
       "\"\"\"\n",
       "                            OLS Regression Results                            \n",
       "==============================================================================\n",
       "Dep. Variable:                 Weight   R-squared:                       0.988\n",
       "Model:                            OLS   Adj. R-squared:                  0.988\n",
       "Method:                 Least Squares   F-statistic:                     2559.\n",
       "Date:                Wed, 06 Jan 2021   Prob (F-statistic):          9.86e-145\n",
       "Time:                        20:54:52   Log-Likelihood:                -221.79\n",
       "No. Observations:                 158   AIC:                             455.6\n",
       "Df Residuals:                     152   BIC:                             474.0\n",
       "Df Model:                           5                                         \n",
       "Covariance Type:            nonrobust                                         \n",
       "==============================================================================\n",
       "                 coef    std err          t      P>|t|      [0.025      0.975]\n",
       "------------------------------------------------------------------------------\n",
       "Species      -60.9820      9.757     -6.250      0.000     -80.259     -41.705\n",
       "Length1       -5.9760      0.523    -11.437      0.000      -7.008      -4.944\n",
       "Length2        1.1187      0.164      6.825      0.000       0.795       1.443\n",
       "Length3        0.0319      0.132      0.241      0.810      -0.230       0.294\n",
       "Height         1.4517      0.182      7.986      0.000       1.093       1.811\n",
       "Width          2.1619      0.171     12.608      0.000       1.823       2.501\n",
       "==============================================================================\n",
       "Omnibus:                       12.606   Durbin-Watson:                   1.712\n",
       "Prob(Omnibus):                  0.002   Jarque-Bera (JB):               34.391\n",
       "Skew:                           0.093   Prob(JB):                     3.40e-08\n",
       "Kurtosis:                       5.278   Cond. No.                     5.63e+03\n",
       "==============================================================================\n",
       "\n",
       "Notes:\n",
       "[1] Standard Errors assume that the covariance matrix of the errors is correctly specified.\n",
       "[2] The condition number is large, 5.63e+03. This might indicate that there are\n",
       "strong multicollinearity or other numerical problems.\n",
       "\"\"\""
      ]
     },
     "execution_count": 54,
     "metadata": {},
     "output_type": "execute_result"
    }
   ],
   "source": [
    "# building model with transformed input and output:\n",
    "inp = d1.drop('Weight',axis = 1)\n",
    "out = d1['Weight']\n",
    "\n",
    "inpc = sm.add_constant(inp)\n",
    "\n",
    "ols = sm.OLS(out,inpc)\n",
    "ols_mod = ols.fit()\n",
    "ols_mod.summary()"
   ]
  },
  {
   "cell_type": "code",
   "execution_count": 60,
   "metadata": {},
   "outputs": [
    {
     "name": "stderr",
     "output_type": "stream",
     "text": [
      "C:\\Users\\ELCOT\\anaconda3\\lib\\site-packages\\seaborn\\_decorators.py:36: FutureWarning: Pass the following variables as keyword args: x, y. From version 0.12, the only valid positional argument will be `data`, and passing other arguments without an explicit keyword will result in an error or misinterpretation.\n",
      "  warnings.warn(\n"
     ]
    },
    {
     "data": {
      "image/png": "[encoded data removed]",
      "text/plain": [
       "<Figure size 432x288 with 1 Axes>"
      ]
     },
     "metadata": {
      "needs_background": "light"
     },
     "output_type": "display_data"
    },
    {
     "data": {
      "image/png": "[encoded data removed]",
      "text/plain": [
       "<Figure size 432x288 with 1 Axes>"
      ]
     },
     "metadata": {
      "needs_background": "light"
     },
     "output_type": "display_data"
    },
    {
     "data": {
      "image/png": "[encoded data removed]",
      "text/plain": [
       "<Figure size 432x288 with 1 Axes>"
      ]
     },
     "metadata": {
      "needs_background": "light"
     },
     "output_type": "display_data"
    }
   ],
   "source": [
    "for i in inpv3.columns:\n",
    "    sns.residplot(inpv3[i],ols_mod.resid)\n",
    "    plt.show()"
   ]
  },
  {
   "cell_type": "code",
   "execution_count": null,
   "metadata": {},
   "outputs": [],
   "source": [
    "# No clear Pattern is formed. Linearity Assumption is statisfied."
   ]
  },
  {
   "cell_type": "code",
   "execution_count": 56,
   "metadata": {},
   "outputs": [],
   "source": [
    "# 4. Check for autocorrelation:\n",
    "# From the above ols model Durbin-watson test value is between 1.5 to 2.0. Therefore there is no autocorrelation. we can conclude that autocorrelation is statisfied."
   ]
  },
  {
   "cell_type": "code",
   "execution_count": 57,
   "metadata": {},
   "outputs": [],
   "source": [
    "# 5. Check for Homoscadacity:\n",
    "from statsmodels.stats.api import het_goldfeldquandt"
   ]
  },
  {
   "cell_type": "code",
   "execution_count": 58,
   "metadata": {},
   "outputs": [
    {
     "data": {
      "text/plain": [
       "(1.0037826556685872, 0.4934564200664434, 'increasing')"
      ]
     },
     "execution_count": 58,
     "metadata": {},
     "output_type": "execute_result"
    }
   ],
   "source": [
    "het_goldfeldquandt(ols_mod.resid,inpv3)\n",
    "\n",
    "# pvalue is > 0.05. so we can conclude that Homoscadacity assumtion is statisfied."
   ]
  },
  {
   "cell_type": "code",
   "execution_count": 61,
   "metadata": {},
   "outputs": [],
   "source": [
    "# All the five assumptions are statisfied. so we can proceed with feature selection technique."
   ]
  },
  {
   "cell_type": "code",
   "execution_count": 62,
   "metadata": {},
   "outputs": [],
   "source": [
    "# Feature Selection Method: Forward Selection, Backward Elimination, RFE.\n",
    "\n",
    "\n",
    "from mlxtend.feature_selection import SequentialFeatureSelector as sfs"
   ]
  },
  {
   "cell_type": "code",
   "execution_count": 63,
   "metadata": {},
   "outputs": [],
   "source": [
    "from sklearn.linear_model import LinearRegression"
   ]
  },
  {
   "cell_type": "code",
   "execution_count": 64,
   "metadata": {},
   "outputs": [
    {
     "name": "stdout",
     "output_type": "stream",
     "text": [
      "['Species', 'Length1', 'Height']\n"
     ]
    }
   ],
   "source": [
    "# Forward Selection:\n",
    "lr = LinearRegression()\n",
    "\n",
    "lr_forward = sfs(estimator = lr, k_features = 'best', forward = True, scoring = 'r2')\n",
    "sfs_forward = lr_forward.fit(inpv3,out)\n",
    "\n",
    "feat_forward = (sfs_forward.k_feature_names_)\n",
    "feat_forward = list(feat_forward)\n",
    "\n",
    "print(feat_forward)"
   ]
  },
  {
   "cell_type": "code",
   "execution_count": 65,
   "metadata": {},
   "outputs": [
    {
     "name": "stdout",
     "output_type": "stream",
     "text": [
      "['Species', 'Length1', 'Height']\n"
     ]
    }
   ],
   "source": [
    "# Backward Elimination:\n",
    "lr = LinearRegression()\n",
    "\n",
    "lr_backward = sfs(estimator = lr, k_features = 'best', forward = False, scoring = 'r2')\n",
    "sfs_backward = lr_backward.fit(inpv3,out)\n",
    "\n",
    "feat_backward = (sfs_backward.k_feature_names_)\n",
    "feat_backward = list(feat_backward)\n",
    "\n",
    "print(feat_backward)"
   ]
  },
  {
   "cell_type": "code",
   "execution_count": 66,
   "metadata": {},
   "outputs": [],
   "source": [
    "# RFE:\n",
    "from sklearn.feature_selection import RFECV"
   ]
  },
  {
   "cell_type": "code",
   "execution_count": 68,
   "metadata": {},
   "outputs": [
    {
     "data": {
      "text/html": [
       "<div>\n",
       "<style scoped>\n",
       "    .dataframe tbody tr th:only-of-type {\n",
       "        vertical-align: middle;\n",
       "    }\n",
       "\n",
       "    .dataframe tbody tr th {\n",
       "        vertical-align: top;\n",
       "    }\n",
       "\n",
       "    .dataframe thead th {\n",
       "        text-align: right;\n",
       "    }\n",
       "</style>\n",
       "<table border=\"1\" class=\"dataframe\">\n",
       "  <thead>\n",
       "    <tr style=\"text-align: right;\">\n",
       "      <th></th>\n",
       "      <th>Feature</th>\n",
       "      <th>Rank</th>\n",
       "    </tr>\n",
       "  </thead>\n",
       "  <tbody>\n",
       "    <tr>\n",
       "      <th>0</th>\n",
       "      <td>Species</td>\n",
       "      <td>1</td>\n",
       "    </tr>\n",
       "    <tr>\n",
       "      <th>1</th>\n",
       "      <td>Length1</td>\n",
       "      <td>1</td>\n",
       "    </tr>\n",
       "    <tr>\n",
       "      <th>2</th>\n",
       "      <td>Height</td>\n",
       "      <td>1</td>\n",
       "    </tr>\n",
       "  </tbody>\n",
       "</table>\n",
       "</div>"
      ],
      "text/plain": [
       "   Feature  Rank\n",
       "0  Species     1\n",
       "1  Length1     1\n",
       "2   Height     1"
      ]
     },
     "execution_count": 68,
     "metadata": {},
     "output_type": "execute_result"
    }
   ],
   "source": [
    "lr = LinearRegression()\n",
    "\n",
    "rfecv = RFECV(estimator = lr)\n",
    "rfe_mod = rfecv.fit(inpv3,out)\n",
    "rfe_mod.ranking_\n",
    "\n",
    "rank = pd.DataFrame()\n",
    "rank['Feature'] = inpv3.columns\n",
    "rank['Rank'] = rfe_mod.ranking_\n",
    "rank"
   ]
  },
  {
   "cell_type": "code",
   "execution_count": 70,
   "metadata": {},
   "outputs": [
    {
     "data": {
      "text/plain": [
       "['Species', 'Length1', 'Height']"
      ]
     },
     "execution_count": 70,
     "metadata": {},
     "output_type": "execute_result"
    }
   ],
   "source": [
    "feat_rfe = rank[rank['Rank'] == 1]['Feature']\n",
    "feat_rfe = list(feat_rfe)\n",
    "feat_rfe"
   ]
  },
  {
   "cell_type": "code",
   "execution_count": 72,
   "metadata": {},
   "outputs": [],
   "source": [
    "# Report card:\n",
    "\n",
    "from sklearn.model_selection import train_test_split\n",
    "from sklearn.metrics import r2_score,mean_squared_error"
   ]
  },
  {
   "cell_type": "code",
   "execution_count": 81,
   "metadata": {},
   "outputs": [
    {
     "data": {
      "text/plain": [
       "[0.9744863111207096, 0.9591945363546832, 1.4906913273279052, 1.677888735860096]"
      ]
     },
     "execution_count": 81,
     "metadata": {},
     "output_type": "execute_result"
    }
   ],
   "source": [
    "# forward selection:\n",
    "xtrain,xtest,ytrain,ytest = train_test_split(inpv3,out,test_size = 0.3, random_state = 10)\n",
    "\n",
    "lr = LinearRegression()\n",
    "lr.fit(xtrain[feat_forward],ytrain)\n",
    "\n",
    "ypred_train = lr.predict(xtrain[feat_forward])\n",
    "ypred_test = lr.predict(xtest[feat_forward])\n",
    "\n",
    "r2_train = r2_score(ytrain,ypred_train)\n",
    "r2_test = r2_score(ytest,ypred_test)\n",
    "\n",
    "mse_train = mean_squared_error(ytrain,ypred_train)\n",
    "mse_test = mean_squared_error(ytest,ypred_test)\n",
    "\n",
    "rmse_train = np.sqrt(mse_train)\n",
    "rmse_test = np.sqrt(mse_test)\n",
    "\n",
    "rse_forward = [r2_train,r2_test,rmse_train,rmse_test]\n",
    "rse_forward"
   ]
  },
  {
   "cell_type": "code",
   "execution_count": 82,
   "metadata": {},
   "outputs": [
    {
     "data": {
      "text/plain": [
       "[0.9744863111207096, 0.9591945363546832, 1.4906913273279052, 1.677888735860096]"
      ]
     },
     "execution_count": 82,
     "metadata": {},
     "output_type": "execute_result"
    }
   ],
   "source": [
    "# Backward Elimination:\n",
    "xtrain,xtest,ytrain,ytest = train_test_split(inpv3,out,test_size = 0.3, random_state = 10)\n",
    "\n",
    "lr = LinearRegression()\n",
    "lr.fit(xtrain[feat_backward],ytrain)\n",
    "\n",
    "ypred_train = lr.predict(xtrain[feat_backward])\n",
    "ypred_test = lr.predict(xtest[feat_backward])\n",
    "\n",
    "r2_train = r2_score(ytrain,ypred_train)\n",
    "r2_test = r2_score(ytest,ypred_test)\n",
    "\n",
    "mse_train = mean_squared_error(ytrain,ypred_train)\n",
    "mse_test = mean_squared_error(ytest,ypred_test)\n",
    "\n",
    "rmse_train = np.sqrt(mse_train)\n",
    "rmse_test = np.sqrt(mse_test)\n",
    "\n",
    "rse_backward = [r2_train,r2_test,rmse_train,rmse_test]\n",
    "rse_backward"
   ]
  },
  {
   "cell_type": "code",
   "execution_count": 83,
   "metadata": {},
   "outputs": [
    {
     "data": {
      "text/plain": [
       "[0.9744863111207096, 0.9591945363546832, 1.4906913273279052, 1.677888735860096]"
      ]
     },
     "execution_count": 83,
     "metadata": {},
     "output_type": "execute_result"
    }
   ],
   "source": [
    "# RFE:\n",
    "xtrain,xtest,ytrain,ytest = train_test_split(inpv3,out,test_size = 0.3, random_state = 10)\n",
    "\n",
    "lr = LinearRegression()\n",
    "lr.fit(xtrain[feat_rfe],ytrain)\n",
    "\n",
    "ypred_train = lr.predict(xtrain[feat_rfe])\n",
    "ypred_test = lr.predict(xtest[feat_rfe])\n",
    "\n",
    "r2_train = r2_score(ytrain,ypred_train)\n",
    "r2_test = r2_score(ytest,ypred_test)\n",
    "\n",
    "mse_train = mean_squared_error(ytrain,ypred_train)\n",
    "mse_test = mean_squared_error(ytest,ypred_test)\n",
    "\n",
    "rmse_train = np.sqrt(mse_train)\n",
    "rmse_test = np.sqrt(mse_test)\n",
    "\n",
    "rse_rfe = [r2_train,r2_test,rmse_train,rmse_test]\n",
    "rse_rfe"
   ]
  },
  {
   "cell_type": "code",
   "execution_count": 86,
   "metadata": {},
   "outputs": [
    {
     "data": {
      "text/html": [
       "<div>\n",
       "<style scoped>\n",
       "    .dataframe tbody tr th:only-of-type {\n",
       "        vertical-align: middle;\n",
       "    }\n",
       "\n",
       "    .dataframe tbody tr th {\n",
       "        vertical-align: top;\n",
       "    }\n",
       "\n",
       "    .dataframe thead th {\n",
       "        text-align: right;\n",
       "    }\n",
       "</style>\n",
       "<table border=\"1\" class=\"dataframe\">\n",
       "  <thead>\n",
       "    <tr style=\"text-align: right;\">\n",
       "      <th></th>\n",
       "      <th>Forward</th>\n",
       "      <th>Backward</th>\n",
       "      <th>RFE</th>\n",
       "    </tr>\n",
       "  </thead>\n",
       "  <tbody>\n",
       "    <tr>\n",
       "      <th>R2_train</th>\n",
       "      <td>0.974486</td>\n",
       "      <td>0.974486</td>\n",
       "      <td>0.974486</td>\n",
       "    </tr>\n",
       "    <tr>\n",
       "      <th>R2_test</th>\n",
       "      <td>0.959195</td>\n",
       "      <td>0.959195</td>\n",
       "      <td>0.959195</td>\n",
       "    </tr>\n",
       "    <tr>\n",
       "      <th>RMSE_train</th>\n",
       "      <td>1.490691</td>\n",
       "      <td>1.490691</td>\n",
       "      <td>1.490691</td>\n",
       "    </tr>\n",
       "    <tr>\n",
       "      <th>RMSE_test</th>\n",
       "      <td>1.677889</td>\n",
       "      <td>1.677889</td>\n",
       "      <td>1.677889</td>\n",
       "    </tr>\n",
       "  </tbody>\n",
       "</table>\n",
       "</div>"
      ],
      "text/plain": [
       "             Forward  Backward       RFE\n",
       "R2_train    0.974486  0.974486  0.974486\n",
       "R2_test     0.959195  0.959195  0.959195\n",
       "RMSE_train  1.490691  1.490691  1.490691\n",
       "RMSE_test   1.677889  1.677889  1.677889"
      ]
     },
     "execution_count": 86,
     "metadata": {},
     "output_type": "execute_result"
    }
   ],
   "source": [
    "# Scorecard:\n",
    "\n",
    "scorecard = pd.DataFrame()\n",
    "scorecard['Forward'] = rse_forward\n",
    "scorecard['Backward'] = rse_backward\n",
    "scorecard['RFE'] = rse_rfe\n",
    "scorecard.index = ['R2_train','R2_test','RMSE_train','RMSE_test']\n",
    "scorecard"
   ]
  },
  {
   "cell_type": "code",
   "execution_count": 89,
   "metadata": {},
   "outputs": [
    {
     "name": "stdout",
     "output_type": "stream",
     "text": [
      "Bias Error : 0.015290999999999944\n"
     ]
    }
   ],
   "source": [
    "# to find bias error: R2_train - R2_test. \n",
    "be = 0.974486 - 0.959195\n",
    "print('Bias Error :',be)"
   ]
  },
  {
   "cell_type": "code",
   "execution_count": 90,
   "metadata": {},
   "outputs": [
    {
     "name": "stdout",
     "output_type": "stream",
     "text": [
      "0.8445763711961745 0.09419643497265823 0.11153098545635098\n"
     ]
    }
   ],
   "source": [
    "# Cross Validation: to check overfitting nature of the model:\n",
    "from sklearn.model_selection import cross_val_score\n",
    "\n",
    "lr = LinearRegression()\n",
    "\n",
    "score = cross_val_score(lr, inpv3, out, cv = 5, scoring = 'r2')\n",
    "\n",
    "avg_score = np.mean(score)\n",
    "var_error = np.std(score)\n",
    "coeff_error = np.std(score) / np.mean(score)\n",
    "\n",
    "print(avg_score, var_error, coeff_error)\n"
   ]
  },
  {
   "cell_type": "code",
   "execution_count": null,
   "metadata": {},
   "outputs": [],
   "source": [
    "# from the above result, variance error is 11.1%. comparing with bias error, variance error is high.\n",
    "# Model is facing underfitting problem. To overcome this underfitting problem \"regularization\""
   ]
  },
  {
   "cell_type": "code",
   "execution_count": 92,
   "metadata": {},
   "outputs": [],
   "source": [
    "# Regularization by GridSearchCV:\n",
    "\n",
    "from sklearn.model_selection import GridSearchCV\n",
    "from sklearn.linear_model import Ridge,Lasso,ElasticNet"
   ]
  },
  {
   "cell_type": "code",
   "execution_count": 93,
   "metadata": {},
   "outputs": [],
   "source": [
    "# Ridge Method:\n",
    "para = {'alpha' : [0.00001,0.001,0.001,0.01,0.1,0.2,0.5,1,2,5,10,20,30,50,100]}\n",
    "\n",
    "rid = Ridge(normalize = True)\n",
    "grid = GridSearchCV(rid, param_grid = para, scoring = 'r2', cv = 5)\n",
    "mod_grid = grid.fit(xtrain,ytrain)"
   ]
  },
  {
   "cell_type": "code",
   "execution_count": 94,
   "metadata": {},
   "outputs": [
    {
     "data": {
      "text/plain": [
       "{'alpha': 0.001}"
      ]
     },
     "execution_count": 94,
     "metadata": {},
     "output_type": "execute_result"
    }
   ],
   "source": [
    "# To find the best Parameter:\n",
    "mod_grid.best_params_"
   ]
  },
  {
   "cell_type": "code",
   "execution_count": 95,
   "metadata": {},
   "outputs": [
    {
     "data": {
      "text/plain": [
       "0.9700073118459338"
      ]
     },
     "execution_count": 95,
     "metadata": {},
     "output_type": "execute_result"
    }
   ],
   "source": [
    "# To find best score:\n",
    "mod_grid.best_score_"
   ]
  },
  {
   "cell_type": "code",
   "execution_count": 96,
   "metadata": {},
   "outputs": [
    {
     "data": {
      "text/html": [
       "<div>\n",
       "<style scoped>\n",
       "    .dataframe tbody tr th:only-of-type {\n",
       "        vertical-align: middle;\n",
       "    }\n",
       "\n",
       "    .dataframe tbody tr th {\n",
       "        vertical-align: top;\n",
       "    }\n",
       "\n",
       "    .dataframe thead th {\n",
       "        text-align: right;\n",
       "    }\n",
       "</style>\n",
       "<table border=\"1\" class=\"dataframe\">\n",
       "  <thead>\n",
       "    <tr style=\"text-align: right;\">\n",
       "      <th></th>\n",
       "      <th>mean_fit_time</th>\n",
       "      <th>std_fit_time</th>\n",
       "      <th>mean_score_time</th>\n",
       "      <th>std_score_time</th>\n",
       "      <th>param_alpha</th>\n",
       "      <th>params</th>\n",
       "      <th>split0_test_score</th>\n",
       "      <th>split1_test_score</th>\n",
       "      <th>split2_test_score</th>\n",
       "      <th>split3_test_score</th>\n",
       "      <th>split4_test_score</th>\n",
       "      <th>mean_test_score</th>\n",
       "      <th>std_test_score</th>\n",
       "      <th>rank_test_score</th>\n",
       "    </tr>\n",
       "  </thead>\n",
       "  <tbody>\n",
       "    <tr>\n",
       "      <th>0</th>\n",
       "      <td>0.058180</td>\n",
       "      <td>0.116361</td>\n",
       "      <td>0.007083</td>\n",
       "      <td>0.007139</td>\n",
       "      <td>1e-05</td>\n",
       "      <td>{'alpha': 1e-05}</td>\n",
       "      <td>0.985976</td>\n",
       "      <td>0.946066</td>\n",
       "      <td>0.983979</td>\n",
       "      <td>0.959859</td>\n",
       "      <td>0.974136</td>\n",
       "      <td>0.970003</td>\n",
       "      <td>0.015122</td>\n",
       "      <td>3</td>\n",
       "    </tr>\n",
       "    <tr>\n",
       "      <th>1</th>\n",
       "      <td>0.006251</td>\n",
       "      <td>0.007656</td>\n",
       "      <td>0.000000</td>\n",
       "      <td>0.000000</td>\n",
       "      <td>0.001</td>\n",
       "      <td>{'alpha': 0.001}</td>\n",
       "      <td>0.986020</td>\n",
       "      <td>0.946141</td>\n",
       "      <td>0.983983</td>\n",
       "      <td>0.959795</td>\n",
       "      <td>0.974096</td>\n",
       "      <td>0.970007</td>\n",
       "      <td>0.015115</td>\n",
       "      <td>1</td>\n",
       "    </tr>\n",
       "    <tr>\n",
       "      <th>2</th>\n",
       "      <td>0.006250</td>\n",
       "      <td>0.007654</td>\n",
       "      <td>0.003126</td>\n",
       "      <td>0.006252</td>\n",
       "      <td>0.001</td>\n",
       "      <td>{'alpha': 0.001}</td>\n",
       "      <td>0.986020</td>\n",
       "      <td>0.946141</td>\n",
       "      <td>0.983983</td>\n",
       "      <td>0.959795</td>\n",
       "      <td>0.974096</td>\n",
       "      <td>0.970007</td>\n",
       "      <td>0.015115</td>\n",
       "      <td>1</td>\n",
       "    </tr>\n",
       "    <tr>\n",
       "      <th>3</th>\n",
       "      <td>0.003125</td>\n",
       "      <td>0.006250</td>\n",
       "      <td>0.006250</td>\n",
       "      <td>0.007655</td>\n",
       "      <td>0.01</td>\n",
       "      <td>{'alpha': 0.01}</td>\n",
       "      <td>0.986388</td>\n",
       "      <td>0.946743</td>\n",
       "      <td>0.983962</td>\n",
       "      <td>0.959185</td>\n",
       "      <td>0.973700</td>\n",
       "      <td>0.969996</td>\n",
       "      <td>0.015067</td>\n",
       "      <td>4</td>\n",
       "    </tr>\n",
       "    <tr>\n",
       "      <th>4</th>\n",
       "      <td>0.006251</td>\n",
       "      <td>0.007655</td>\n",
       "      <td>0.003125</td>\n",
       "      <td>0.006250</td>\n",
       "      <td>0.1</td>\n",
       "      <td>{'alpha': 0.1}</td>\n",
       "      <td>0.986661</td>\n",
       "      <td>0.946759</td>\n",
       "      <td>0.978840</td>\n",
       "      <td>0.950758</td>\n",
       "      <td>0.966586</td>\n",
       "      <td>0.965921</td>\n",
       "      <td>0.015457</td>\n",
       "      <td>5</td>\n",
       "    </tr>\n",
       "    <tr>\n",
       "      <th>5</th>\n",
       "      <td>0.006250</td>\n",
       "      <td>0.007655</td>\n",
       "      <td>0.006251</td>\n",
       "      <td>0.007655</td>\n",
       "      <td>0.2</td>\n",
       "      <td>{'alpha': 0.2}</td>\n",
       "      <td>0.981432</td>\n",
       "      <td>0.938770</td>\n",
       "      <td>0.966490</td>\n",
       "      <td>0.937940</td>\n",
       "      <td>0.954066</td>\n",
       "      <td>0.955740</td>\n",
       "      <td>0.016633</td>\n",
       "      <td>6</td>\n",
       "    </tr>\n",
       "    <tr>\n",
       "      <th>6</th>\n",
       "      <td>0.003125</td>\n",
       "      <td>0.006250</td>\n",
       "      <td>0.003125</td>\n",
       "      <td>0.006250</td>\n",
       "      <td>0.5</td>\n",
       "      <td>{'alpha': 0.5}</td>\n",
       "      <td>0.945486</td>\n",
       "      <td>0.894382</td>\n",
       "      <td>0.912595</td>\n",
       "      <td>0.887797</td>\n",
       "      <td>0.903017</td>\n",
       "      <td>0.908656</td>\n",
       "      <td>0.020212</td>\n",
       "      <td>7</td>\n",
       "    </tr>\n",
       "    <tr>\n",
       "      <th>7</th>\n",
       "      <td>0.006250</td>\n",
       "      <td>0.007655</td>\n",
       "      <td>0.003125</td>\n",
       "      <td>0.006250</td>\n",
       "      <td>1</td>\n",
       "      <td>{'alpha': 1}</td>\n",
       "      <td>0.860364</td>\n",
       "      <td>0.805245</td>\n",
       "      <td>0.813266</td>\n",
       "      <td>0.792905</td>\n",
       "      <td>0.808533</td>\n",
       "      <td>0.816062</td>\n",
       "      <td>0.023153</td>\n",
       "      <td>8</td>\n",
       "    </tr>\n",
       "    <tr>\n",
       "      <th>8</th>\n",
       "      <td>0.006250</td>\n",
       "      <td>0.007655</td>\n",
       "      <td>0.003125</td>\n",
       "      <td>0.006251</td>\n",
       "      <td>2</td>\n",
       "      <td>{'alpha': 2}</td>\n",
       "      <td>0.697797</td>\n",
       "      <td>0.652055</td>\n",
       "      <td>0.648836</td>\n",
       "      <td>0.626562</td>\n",
       "      <td>0.649432</td>\n",
       "      <td>0.654937</td>\n",
       "      <td>0.023315</td>\n",
       "      <td>9</td>\n",
       "    </tr>\n",
       "    <tr>\n",
       "      <th>9</th>\n",
       "      <td>0.005751</td>\n",
       "      <td>0.007712</td>\n",
       "      <td>0.005526</td>\n",
       "      <td>0.005282</td>\n",
       "      <td>5</td>\n",
       "      <td>{'alpha': 5}</td>\n",
       "      <td>0.413269</td>\n",
       "      <td>0.401697</td>\n",
       "      <td>0.385440</td>\n",
       "      <td>0.345371</td>\n",
       "      <td>0.391908</td>\n",
       "      <td>0.387537</td>\n",
       "      <td>0.023083</td>\n",
       "      <td>10</td>\n",
       "    </tr>\n",
       "    <tr>\n",
       "      <th>10</th>\n",
       "      <td>0.005526</td>\n",
       "      <td>0.005859</td>\n",
       "      <td>0.004766</td>\n",
       "      <td>0.005733</td>\n",
       "      <td>10</td>\n",
       "      <td>{'alpha': 10}</td>\n",
       "      <td>0.225497</td>\n",
       "      <td>0.241947</td>\n",
       "      <td>0.218587</td>\n",
       "      <td>0.161147</td>\n",
       "      <td>0.228567</td>\n",
       "      <td>0.215149</td>\n",
       "      <td>0.028047</td>\n",
       "      <td>11</td>\n",
       "    </tr>\n",
       "    <tr>\n",
       "      <th>11</th>\n",
       "      <td>0.006250</td>\n",
       "      <td>0.007655</td>\n",
       "      <td>0.003125</td>\n",
       "      <td>0.006249</td>\n",
       "      <td>20</td>\n",
       "      <td>{'alpha': 20}</td>\n",
       "      <td>0.096834</td>\n",
       "      <td>0.133934</td>\n",
       "      <td>0.105946</td>\n",
       "      <td>0.034779</td>\n",
       "      <td>0.118490</td>\n",
       "      <td>0.097997</td>\n",
       "      <td>0.033978</td>\n",
       "      <td>12</td>\n",
       "    </tr>\n",
       "    <tr>\n",
       "      <th>12</th>\n",
       "      <td>0.006251</td>\n",
       "      <td>0.007655</td>\n",
       "      <td>0.000000</td>\n",
       "      <td>0.000000</td>\n",
       "      <td>30</td>\n",
       "      <td>{'alpha': 30}</td>\n",
       "      <td>0.046928</td>\n",
       "      <td>0.092283</td>\n",
       "      <td>0.062522</td>\n",
       "      <td>-0.014314</td>\n",
       "      <td>0.076115</td>\n",
       "      <td>0.052707</td>\n",
       "      <td>0.036704</td>\n",
       "      <td>13</td>\n",
       "    </tr>\n",
       "    <tr>\n",
       "      <th>13</th>\n",
       "      <td>0.003125</td>\n",
       "      <td>0.006250</td>\n",
       "      <td>0.006251</td>\n",
       "      <td>0.007655</td>\n",
       "      <td>50</td>\n",
       "      <td>{'alpha': 50}</td>\n",
       "      <td>0.004037</td>\n",
       "      <td>0.056580</td>\n",
       "      <td>0.025300</td>\n",
       "      <td>-0.056552</td>\n",
       "      <td>0.039824</td>\n",
       "      <td>0.013838</td>\n",
       "      <td>0.039203</td>\n",
       "      <td>14</td>\n",
       "    </tr>\n",
       "    <tr>\n",
       "      <th>14</th>\n",
       "      <td>0.006250</td>\n",
       "      <td>0.007655</td>\n",
       "      <td>0.003125</td>\n",
       "      <td>0.006250</td>\n",
       "      <td>100</td>\n",
       "      <td>{'alpha': 100}</td>\n",
       "      <td>-0.030015</td>\n",
       "      <td>0.028293</td>\n",
       "      <td>-0.004192</td>\n",
       "      <td>-0.090115</td>\n",
       "      <td>0.011091</td>\n",
       "      <td>-0.016988</td>\n",
       "      <td>0.041279</td>\n",
       "      <td>15</td>\n",
       "    </tr>\n",
       "  </tbody>\n",
       "</table>\n",
       "</div>"
      ],
      "text/plain": [
       "    mean_fit_time  std_fit_time  mean_score_time  std_score_time param_alpha  \\\n",
       "0        0.058180      0.116361         0.007083        0.007139       1e-05   \n",
       "1        0.006251      0.007656         0.000000        0.000000       0.001   \n",
       "2        0.006250      0.007654         0.003126        0.006252       0.001   \n",
       "3        0.003125      0.006250         0.006250        0.007655        0.01   \n",
       "4        0.006251      0.007655         0.003125        0.006250         0.1   \n",
       "5        0.006250      0.007655         0.006251        0.007655         0.2   \n",
       "6        0.003125      0.006250         0.003125        0.006250         0.5   \n",
       "7        0.006250      0.007655         0.003125        0.006250           1   \n",
       "8        0.006250      0.007655         0.003125        0.006251           2   \n",
       "9        0.005751      0.007712         0.005526        0.005282           5   \n",
       "10       0.005526      0.005859         0.004766        0.005733          10   \n",
       "11       0.006250      0.007655         0.003125        0.006249          20   \n",
       "12       0.006251      0.007655         0.000000        0.000000          30   \n",
       "13       0.003125      0.006250         0.006251        0.007655          50   \n",
       "14       0.006250      0.007655         0.003125        0.006250         100   \n",
       "\n",
       "              params  split0_test_score  split1_test_score  split2_test_score  \\\n",
       "0   {'alpha': 1e-05}           0.985976           0.946066           0.983979   \n",
       "1   {'alpha': 0.001}           0.986020           0.946141           0.983983   \n",
       "2   {'alpha': 0.001}           0.986020           0.946141           0.983983   \n",
       "3    {'alpha': 0.01}           0.986388           0.946743           0.983962   \n",
       "4     {'alpha': 0.1}           0.986661           0.946759           0.978840   \n",
       "5     {'alpha': 0.2}           0.981432           0.938770           0.966490   \n",
       "6     {'alpha': 0.5}           0.945486           0.894382           0.912595   \n",
       "7       {'alpha': 1}           0.860364           0.805245           0.813266   \n",
       "8       {'alpha': 2}           0.697797           0.652055           0.648836   \n",
       "9       {'alpha': 5}           0.413269           0.401697           0.385440   \n",
       "10     {'alpha': 10}           0.225497           0.241947           0.218587   \n",
       "11     {'alpha': 20}           0.096834           0.133934           0.105946   \n",
       "12     {'alpha': 30}           0.046928           0.092283           0.062522   \n",
       "13     {'alpha': 50}           0.004037           0.056580           0.025300   \n",
       "14    {'alpha': 100}          -0.030015           0.028293          -0.004192   \n",
       "\n",
       "    split3_test_score  split4_test_score  mean_test_score  std_test_score  \\\n",
       "0            0.959859           0.974136         0.970003        0.015122   \n",
       "1            0.959795           0.974096         0.970007        0.015115   \n",
       "2            0.959795           0.974096         0.970007        0.015115   \n",
       "3            0.959185           0.973700         0.969996        0.015067   \n",
       "4            0.950758           0.966586         0.965921        0.015457   \n",
       "5            0.937940           0.954066         0.955740        0.016633   \n",
       "6            0.887797           0.903017         0.908656        0.020212   \n",
       "7            0.792905           0.808533         0.816062        0.023153   \n",
       "8            0.626562           0.649432         0.654937        0.023315   \n",
       "9            0.345371           0.391908         0.387537        0.023083   \n",
       "10           0.161147           0.228567         0.215149        0.028047   \n",
       "11           0.034779           0.118490         0.097997        0.033978   \n",
       "12          -0.014314           0.076115         0.052707        0.036704   \n",
       "13          -0.056552           0.039824         0.013838        0.039203   \n",
       "14          -0.090115           0.011091        -0.016988        0.041279   \n",
       "\n",
       "    rank_test_score  \n",
       "0                 3  \n",
       "1                 1  \n",
       "2                 1  \n",
       "3                 4  \n",
       "4                 5  \n",
       "5                 6  \n",
       "6                 7  \n",
       "7                 8  \n",
       "8                 9  \n",
       "9                10  \n",
       "10               11  \n",
       "11               12  \n",
       "12               13  \n",
       "13               14  \n",
       "14               15  "
      ]
     },
     "execution_count": 96,
     "metadata": {},
     "output_type": "execute_result"
    }
   ],
   "source": [
    "# To get result:\n",
    "pd.DataFrame(mod_grid.cv_results_)"
   ]
  },
  {
   "cell_type": "code",
   "execution_count": 97,
   "metadata": {},
   "outputs": [],
   "source": [
    "# Lasso Method:\n",
    "para = {'alpha' : [0.00001,0.001,0.001,0.01,0.1,0.2,0.5,1,2,5,10,20,30,50,100]}\n",
    "\n",
    "Las = Lasso(normalize = True)\n",
    "grid = GridSearchCV(Las, param_grid = para, scoring = 'r2', cv = 5)\n",
    "mod_grid = grid.fit(xtrain,ytrain)"
   ]
  },
  {
   "cell_type": "code",
   "execution_count": 98,
   "metadata": {},
   "outputs": [
    {
     "data": {
      "text/plain": [
       "{'alpha': 1e-05}"
      ]
     },
     "execution_count": 98,
     "metadata": {},
     "output_type": "execute_result"
    }
   ],
   "source": [
    "# To find the best Parameter:\n",
    "mod_grid.best_params_"
   ]
  },
  {
   "cell_type": "code",
   "execution_count": 99,
   "metadata": {},
   "outputs": [
    {
     "data": {
      "text/plain": [
       "0.9700032359571671"
      ]
     },
     "execution_count": 99,
     "metadata": {},
     "output_type": "execute_result"
    }
   ],
   "source": [
    "# To find best score:\n",
    "mod_grid.best_score_"
   ]
  },
  {
   "cell_type": "code",
   "execution_count": 100,
   "metadata": {},
   "outputs": [
    {
     "data": {
      "text/html": [
       "<div>\n",
       "<style scoped>\n",
       "    .dataframe tbody tr th:only-of-type {\n",
       "        vertical-align: middle;\n",
       "    }\n",
       "\n",
       "    .dataframe tbody tr th {\n",
       "        vertical-align: top;\n",
       "    }\n",
       "\n",
       "    .dataframe thead th {\n",
       "        text-align: right;\n",
       "    }\n",
       "</style>\n",
       "<table border=\"1\" class=\"dataframe\">\n",
       "  <thead>\n",
       "    <tr style=\"text-align: right;\">\n",
       "      <th></th>\n",
       "      <th>mean_fit_time</th>\n",
       "      <th>std_fit_time</th>\n",
       "      <th>mean_score_time</th>\n",
       "      <th>std_score_time</th>\n",
       "      <th>param_alpha</th>\n",
       "      <th>params</th>\n",
       "      <th>split0_test_score</th>\n",
       "      <th>split1_test_score</th>\n",
       "      <th>split2_test_score</th>\n",
       "      <th>split3_test_score</th>\n",
       "      <th>split4_test_score</th>\n",
       "      <th>mean_test_score</th>\n",
       "      <th>std_test_score</th>\n",
       "      <th>rank_test_score</th>\n",
       "    </tr>\n",
       "  </thead>\n",
       "  <tbody>\n",
       "    <tr>\n",
       "      <th>0</th>\n",
       "      <td>0.043683</td>\n",
       "      <td>0.072082</td>\n",
       "      <td>0.006229</td>\n",
       "      <td>0.007629</td>\n",
       "      <td>1e-05</td>\n",
       "      <td>{'alpha': 1e-05}</td>\n",
       "      <td>0.985976</td>\n",
       "      <td>0.946060</td>\n",
       "      <td>0.983979</td>\n",
       "      <td>0.959864</td>\n",
       "      <td>0.974137</td>\n",
       "      <td>0.970003</td>\n",
       "      <td>0.015124</td>\n",
       "      <td>1</td>\n",
       "    </tr>\n",
       "    <tr>\n",
       "      <th>1</th>\n",
       "      <td>0.006250</td>\n",
       "      <td>0.007655</td>\n",
       "      <td>0.000000</td>\n",
       "      <td>0.000000</td>\n",
       "      <td>0.001</td>\n",
       "      <td>{'alpha': 0.001}</td>\n",
       "      <td>0.986169</td>\n",
       "      <td>0.945765</td>\n",
       "      <td>0.983989</td>\n",
       "      <td>0.959971</td>\n",
       "      <td>0.974070</td>\n",
       "      <td>0.969993</td>\n",
       "      <td>0.015242</td>\n",
       "      <td>2</td>\n",
       "    </tr>\n",
       "    <tr>\n",
       "      <th>2</th>\n",
       "      <td>0.006250</td>\n",
       "      <td>0.007655</td>\n",
       "      <td>0.006250</td>\n",
       "      <td>0.007655</td>\n",
       "      <td>0.001</td>\n",
       "      <td>{'alpha': 0.001}</td>\n",
       "      <td>0.986169</td>\n",
       "      <td>0.945765</td>\n",
       "      <td>0.983989</td>\n",
       "      <td>0.959971</td>\n",
       "      <td>0.974070</td>\n",
       "      <td>0.969993</td>\n",
       "      <td>0.015242</td>\n",
       "      <td>2</td>\n",
       "    </tr>\n",
       "    <tr>\n",
       "      <th>3</th>\n",
       "      <td>0.006251</td>\n",
       "      <td>0.007655</td>\n",
       "      <td>0.003125</td>\n",
       "      <td>0.006250</td>\n",
       "      <td>0.01</td>\n",
       "      <td>{'alpha': 0.01}</td>\n",
       "      <td>0.987676</td>\n",
       "      <td>0.942846</td>\n",
       "      <td>0.983961</td>\n",
       "      <td>0.960831</td>\n",
       "      <td>0.973196</td>\n",
       "      <td>0.969702</td>\n",
       "      <td>0.016362</td>\n",
       "      <td>4</td>\n",
       "    </tr>\n",
       "    <tr>\n",
       "      <th>4</th>\n",
       "      <td>0.003125</td>\n",
       "      <td>0.006251</td>\n",
       "      <td>0.003125</td>\n",
       "      <td>0.006250</td>\n",
       "      <td>0.1</td>\n",
       "      <td>{'alpha': 0.1}</td>\n",
       "      <td>0.978975</td>\n",
       "      <td>0.917395</td>\n",
       "      <td>0.972672</td>\n",
       "      <td>0.957597</td>\n",
       "      <td>0.951036</td>\n",
       "      <td>0.955535</td>\n",
       "      <td>0.021551</td>\n",
       "      <td>5</td>\n",
       "    </tr>\n",
       "    <tr>\n",
       "      <th>5</th>\n",
       "      <td>0.006250</td>\n",
       "      <td>0.007654</td>\n",
       "      <td>0.003125</td>\n",
       "      <td>0.006250</td>\n",
       "      <td>0.2</td>\n",
       "      <td>{'alpha': 0.2}</td>\n",
       "      <td>0.935240</td>\n",
       "      <td>0.878165</td>\n",
       "      <td>0.938219</td>\n",
       "      <td>0.922296</td>\n",
       "      <td>0.909355</td>\n",
       "      <td>0.916655</td>\n",
       "      <td>0.021804</td>\n",
       "      <td>6</td>\n",
       "    </tr>\n",
       "    <tr>\n",
       "      <th>6</th>\n",
       "      <td>0.006250</td>\n",
       "      <td>0.007655</td>\n",
       "      <td>0.003125</td>\n",
       "      <td>0.006250</td>\n",
       "      <td>0.5</td>\n",
       "      <td>{'alpha': 0.5}</td>\n",
       "      <td>0.613679</td>\n",
       "      <td>0.633038</td>\n",
       "      <td>0.680660</td>\n",
       "      <td>0.625834</td>\n",
       "      <td>0.640380</td>\n",
       "      <td>0.638718</td>\n",
       "      <td>0.022747</td>\n",
       "      <td>7</td>\n",
       "    </tr>\n",
       "    <tr>\n",
       "      <th>7</th>\n",
       "      <td>0.006250</td>\n",
       "      <td>0.007655</td>\n",
       "      <td>0.003125</td>\n",
       "      <td>0.006250</td>\n",
       "      <td>1</td>\n",
       "      <td>{'alpha': 1}</td>\n",
       "      <td>-0.065801</td>\n",
       "      <td>-0.001383</td>\n",
       "      <td>-0.035135</td>\n",
       "      <td>-0.125421</td>\n",
       "      <td>-0.019034</td>\n",
       "      <td>-0.049355</td>\n",
       "      <td>0.043542</td>\n",
       "      <td>8</td>\n",
       "    </tr>\n",
       "    <tr>\n",
       "      <th>8</th>\n",
       "      <td>0.004726</td>\n",
       "      <td>0.006269</td>\n",
       "      <td>0.007200</td>\n",
       "      <td>0.007335</td>\n",
       "      <td>2</td>\n",
       "      <td>{'alpha': 2}</td>\n",
       "      <td>-0.065801</td>\n",
       "      <td>-0.001383</td>\n",
       "      <td>-0.035135</td>\n",
       "      <td>-0.125421</td>\n",
       "      <td>-0.019034</td>\n",
       "      <td>-0.049355</td>\n",
       "      <td>0.043542</td>\n",
       "      <td>8</td>\n",
       "    </tr>\n",
       "    <tr>\n",
       "      <th>9</th>\n",
       "      <td>0.004823</td>\n",
       "      <td>0.002989</td>\n",
       "      <td>0.005527</td>\n",
       "      <td>0.005286</td>\n",
       "      <td>5</td>\n",
       "      <td>{'alpha': 5}</td>\n",
       "      <td>-0.065801</td>\n",
       "      <td>-0.001383</td>\n",
       "      <td>-0.035135</td>\n",
       "      <td>-0.125421</td>\n",
       "      <td>-0.019034</td>\n",
       "      <td>-0.049355</td>\n",
       "      <td>0.043542</td>\n",
       "      <td>8</td>\n",
       "    </tr>\n",
       "    <tr>\n",
       "      <th>10</th>\n",
       "      <td>0.006250</td>\n",
       "      <td>0.007655</td>\n",
       "      <td>0.003125</td>\n",
       "      <td>0.006250</td>\n",
       "      <td>10</td>\n",
       "      <td>{'alpha': 10}</td>\n",
       "      <td>-0.065801</td>\n",
       "      <td>-0.001383</td>\n",
       "      <td>-0.035135</td>\n",
       "      <td>-0.125421</td>\n",
       "      <td>-0.019034</td>\n",
       "      <td>-0.049355</td>\n",
       "      <td>0.043542</td>\n",
       "      <td>8</td>\n",
       "    </tr>\n",
       "    <tr>\n",
       "      <th>11</th>\n",
       "      <td>0.003125</td>\n",
       "      <td>0.006250</td>\n",
       "      <td>0.006251</td>\n",
       "      <td>0.007656</td>\n",
       "      <td>20</td>\n",
       "      <td>{'alpha': 20}</td>\n",
       "      <td>-0.065801</td>\n",
       "      <td>-0.001383</td>\n",
       "      <td>-0.035135</td>\n",
       "      <td>-0.125421</td>\n",
       "      <td>-0.019034</td>\n",
       "      <td>-0.049355</td>\n",
       "      <td>0.043542</td>\n",
       "      <td>8</td>\n",
       "    </tr>\n",
       "    <tr>\n",
       "      <th>12</th>\n",
       "      <td>0.006250</td>\n",
       "      <td>0.007655</td>\n",
       "      <td>0.003125</td>\n",
       "      <td>0.006250</td>\n",
       "      <td>30</td>\n",
       "      <td>{'alpha': 30}</td>\n",
       "      <td>-0.065801</td>\n",
       "      <td>-0.001383</td>\n",
       "      <td>-0.035135</td>\n",
       "      <td>-0.125421</td>\n",
       "      <td>-0.019034</td>\n",
       "      <td>-0.049355</td>\n",
       "      <td>0.043542</td>\n",
       "      <td>8</td>\n",
       "    </tr>\n",
       "    <tr>\n",
       "      <th>13</th>\n",
       "      <td>0.006251</td>\n",
       "      <td>0.007656</td>\n",
       "      <td>0.003125</td>\n",
       "      <td>0.006250</td>\n",
       "      <td>50</td>\n",
       "      <td>{'alpha': 50}</td>\n",
       "      <td>-0.065801</td>\n",
       "      <td>-0.001383</td>\n",
       "      <td>-0.035135</td>\n",
       "      <td>-0.125421</td>\n",
       "      <td>-0.019034</td>\n",
       "      <td>-0.049355</td>\n",
       "      <td>0.043542</td>\n",
       "      <td>8</td>\n",
       "    </tr>\n",
       "    <tr>\n",
       "      <th>14</th>\n",
       "      <td>0.006250</td>\n",
       "      <td>0.007655</td>\n",
       "      <td>0.003125</td>\n",
       "      <td>0.006250</td>\n",
       "      <td>100</td>\n",
       "      <td>{'alpha': 100}</td>\n",
       "      <td>-0.065801</td>\n",
       "      <td>-0.001383</td>\n",
       "      <td>-0.035135</td>\n",
       "      <td>-0.125421</td>\n",
       "      <td>-0.019034</td>\n",
       "      <td>-0.049355</td>\n",
       "      <td>0.043542</td>\n",
       "      <td>8</td>\n",
       "    </tr>\n",
       "  </tbody>\n",
       "</table>\n",
       "</div>"
      ],
      "text/plain": [
       "    mean_fit_time  std_fit_time  mean_score_time  std_score_time param_alpha  \\\n",
       "0        0.043683      0.072082         0.006229        0.007629       1e-05   \n",
       "1        0.006250      0.007655         0.000000        0.000000       0.001   \n",
       "2        0.006250      0.007655         0.006250        0.007655       0.001   \n",
       "3        0.006251      0.007655         0.003125        0.006250        0.01   \n",
       "4        0.003125      0.006251         0.003125        0.006250         0.1   \n",
       "5        0.006250      0.007654         0.003125        0.006250         0.2   \n",
       "6        0.006250      0.007655         0.003125        0.006250         0.5   \n",
       "7        0.006250      0.007655         0.003125        0.006250           1   \n",
       "8        0.004726      0.006269         0.007200        0.007335           2   \n",
       "9        0.004823      0.002989         0.005527        0.005286           5   \n",
       "10       0.006250      0.007655         0.003125        0.006250          10   \n",
       "11       0.003125      0.006250         0.006251        0.007656          20   \n",
       "12       0.006250      0.007655         0.003125        0.006250          30   \n",
       "13       0.006251      0.007656         0.003125        0.006250          50   \n",
       "14       0.006250      0.007655         0.003125        0.006250         100   \n",
       "\n",
       "              params  split0_test_score  split1_test_score  split2_test_score  \\\n",
       "0   {'alpha': 1e-05}           0.985976           0.946060           0.983979   \n",
       "1   {'alpha': 0.001}           0.986169           0.945765           0.983989   \n",
       "2   {'alpha': 0.001}           0.986169           0.945765           0.983989   \n",
       "3    {'alpha': 0.01}           0.987676           0.942846           0.983961   \n",
       "4     {'alpha': 0.1}           0.978975           0.917395           0.972672   \n",
       "5     {'alpha': 0.2}           0.935240           0.878165           0.938219   \n",
       "6     {'alpha': 0.5}           0.613679           0.633038           0.680660   \n",
       "7       {'alpha': 1}          -0.065801          -0.001383          -0.035135   \n",
       "8       {'alpha': 2}          -0.065801          -0.001383          -0.035135   \n",
       "9       {'alpha': 5}          -0.065801          -0.001383          -0.035135   \n",
       "10     {'alpha': 10}          -0.065801          -0.001383          -0.035135   \n",
       "11     {'alpha': 20}          -0.065801          -0.001383          -0.035135   \n",
       "12     {'alpha': 30}          -0.065801          -0.001383          -0.035135   \n",
       "13     {'alpha': 50}          -0.065801          -0.001383          -0.035135   \n",
       "14    {'alpha': 100}          -0.065801          -0.001383          -0.035135   \n",
       "\n",
       "    split3_test_score  split4_test_score  mean_test_score  std_test_score  \\\n",
       "0            0.959864           0.974137         0.970003        0.015124   \n",
       "1            0.959971           0.974070         0.969993        0.015242   \n",
       "2            0.959971           0.974070         0.969993        0.015242   \n",
       "3            0.960831           0.973196         0.969702        0.016362   \n",
       "4            0.957597           0.951036         0.955535        0.021551   \n",
       "5            0.922296           0.909355         0.916655        0.021804   \n",
       "6            0.625834           0.640380         0.638718        0.022747   \n",
       "7           -0.125421          -0.019034        -0.049355        0.043542   \n",
       "8           -0.125421          -0.019034        -0.049355        0.043542   \n",
       "9           -0.125421          -0.019034        -0.049355        0.043542   \n",
       "10          -0.125421          -0.019034        -0.049355        0.043542   \n",
       "11          -0.125421          -0.019034        -0.049355        0.043542   \n",
       "12          -0.125421          -0.019034        -0.049355        0.043542   \n",
       "13          -0.125421          -0.019034        -0.049355        0.043542   \n",
       "14          -0.125421          -0.019034        -0.049355        0.043542   \n",
       "\n",
       "    rank_test_score  \n",
       "0                 1  \n",
       "1                 2  \n",
       "2                 2  \n",
       "3                 4  \n",
       "4                 5  \n",
       "5                 6  \n",
       "6                 7  \n",
       "7                 8  \n",
       "8                 8  \n",
       "9                 8  \n",
       "10                8  \n",
       "11                8  \n",
       "12                8  \n",
       "13                8  \n",
       "14                8  "
      ]
     },
     "execution_count": 100,
     "metadata": {},
     "output_type": "execute_result"
    }
   ],
   "source": [
    "# To get result:\n",
    "pd.DataFrame(mod_grid.cv_results_)"
   ]
  },
  {
   "cell_type": "code",
   "execution_count": 101,
   "metadata": {},
   "outputs": [],
   "source": [
    "# Ridge Method:\n",
    "para = {'alpha' : [0.00001,0.001,0.001,0.01,0.1,0.2,0.5,1,2,5,10,20,30,50,100],\n",
    "       'l1_ratio' : [0.1,0.2,0.3,0.4,0.5,0.6,0.7,0.8,0.9]}\n",
    "\n",
    "Ela = ElasticNet(normalize = True)\n",
    "grid = GridSearchCV(Ela, param_grid = para, scoring = 'r2', cv = 5)\n",
    "mod_grid = grid.fit(xtrain,ytrain)"
   ]
  },
  {
   "cell_type": "code",
   "execution_count": 102,
   "metadata": {},
   "outputs": [
    {
     "data": {
      "text/plain": [
       "{'alpha': 1e-05, 'l1_ratio': 0.1}"
      ]
     },
     "execution_count": 102,
     "metadata": {},
     "output_type": "execute_result"
    }
   ],
   "source": [
    "# To find the best Parameter:\n",
    "mod_grid.best_params_"
   ]
  },
  {
   "cell_type": "code",
   "execution_count": 103,
   "metadata": {},
   "outputs": [
    {
     "data": {
      "text/plain": [
       "0.9700064973170033"
      ]
     },
     "execution_count": 103,
     "metadata": {},
     "output_type": "execute_result"
    }
   ],
   "source": [
    "# To find best score:\n",
    "mod_grid.best_score_"
   ]
  },
  {
   "cell_type": "code",
   "execution_count": 104,
   "metadata": {},
   "outputs": [
    {
     "data": {
      "text/html": [
       "<div>\n",
       "<style scoped>\n",
       "    .dataframe tbody tr th:only-of-type {\n",
       "        vertical-align: middle;\n",
       "    }\n",
       "\n",
       "    .dataframe tbody tr th {\n",
       "        vertical-align: top;\n",
       "    }\n",
       "\n",
       "    .dataframe thead th {\n",
       "        text-align: right;\n",
       "    }\n",
       "</style>\n",
       "<table border=\"1\" class=\"dataframe\">\n",
       "  <thead>\n",
       "    <tr style=\"text-align: right;\">\n",
       "      <th></th>\n",
       "      <th>mean_fit_time</th>\n",
       "      <th>std_fit_time</th>\n",
       "      <th>mean_score_time</th>\n",
       "      <th>std_score_time</th>\n",
       "      <th>param_alpha</th>\n",
       "      <th>param_l1_ratio</th>\n",
       "      <th>params</th>\n",
       "      <th>split0_test_score</th>\n",
       "      <th>split1_test_score</th>\n",
       "      <th>split2_test_score</th>\n",
       "      <th>split3_test_score</th>\n",
       "      <th>split4_test_score</th>\n",
       "      <th>mean_test_score</th>\n",
       "      <th>std_test_score</th>\n",
       "      <th>rank_test_score</th>\n",
       "    </tr>\n",
       "  </thead>\n",
       "  <tbody>\n",
       "    <tr>\n",
       "      <th>0</th>\n",
       "      <td>0.009602</td>\n",
       "      <td>0.007839</td>\n",
       "      <td>0.007201</td>\n",
       "      <td>0.003919</td>\n",
       "      <td>1e-05</td>\n",
       "      <td>0.1</td>\n",
       "      <td>{'alpha': 1e-05, 'l1_ratio': 0.1}</td>\n",
       "      <td>0.986011</td>\n",
       "      <td>0.946125</td>\n",
       "      <td>0.983983</td>\n",
       "      <td>0.959809</td>\n",
       "      <td>0.974105</td>\n",
       "      <td>0.970006</td>\n",
       "      <td>0.015117</td>\n",
       "      <td>1</td>\n",
       "    </tr>\n",
       "    <tr>\n",
       "      <th>1</th>\n",
       "      <td>0.010401</td>\n",
       "      <td>0.003199</td>\n",
       "      <td>0.010600</td>\n",
       "      <td>0.007889</td>\n",
       "      <td>1e-05</td>\n",
       "      <td>0.2</td>\n",
       "      <td>{'alpha': 1e-05, 'l1_ratio': 0.2}</td>\n",
       "      <td>0.986007</td>\n",
       "      <td>0.946118</td>\n",
       "      <td>0.983982</td>\n",
       "      <td>0.959815</td>\n",
       "      <td>0.974108</td>\n",
       "      <td>0.970006</td>\n",
       "      <td>0.015118</td>\n",
       "      <td>2</td>\n",
       "    </tr>\n",
       "    <tr>\n",
       "      <th>2</th>\n",
       "      <td>0.006356</td>\n",
       "      <td>0.005877</td>\n",
       "      <td>0.003126</td>\n",
       "      <td>0.006253</td>\n",
       "      <td>1e-05</td>\n",
       "      <td>0.3</td>\n",
       "      <td>{'alpha': 1e-05, 'l1_ratio': 0.3}</td>\n",
       "      <td>0.986003</td>\n",
       "      <td>0.946110</td>\n",
       "      <td>0.983982</td>\n",
       "      <td>0.959821</td>\n",
       "      <td>0.974112</td>\n",
       "      <td>0.970006</td>\n",
       "      <td>0.015118</td>\n",
       "      <td>3</td>\n",
       "    </tr>\n",
       "    <tr>\n",
       "      <th>3</th>\n",
       "      <td>0.003125</td>\n",
       "      <td>0.006250</td>\n",
       "      <td>0.006251</td>\n",
       "      <td>0.007656</td>\n",
       "      <td>1e-05</td>\n",
       "      <td>0.4</td>\n",
       "      <td>{'alpha': 1e-05, 'l1_ratio': 0.4}</td>\n",
       "      <td>0.985999</td>\n",
       "      <td>0.946103</td>\n",
       "      <td>0.983981</td>\n",
       "      <td>0.959828</td>\n",
       "      <td>0.974116</td>\n",
       "      <td>0.970005</td>\n",
       "      <td>0.015119</td>\n",
       "      <td>4</td>\n",
       "    </tr>\n",
       "    <tr>\n",
       "      <th>4</th>\n",
       "      <td>0.006250</td>\n",
       "      <td>0.007654</td>\n",
       "      <td>0.006252</td>\n",
       "      <td>0.007657</td>\n",
       "      <td>1e-05</td>\n",
       "      <td>0.5</td>\n",
       "      <td>{'alpha': 1e-05, 'l1_ratio': 0.5}</td>\n",
       "      <td>0.985995</td>\n",
       "      <td>0.946095</td>\n",
       "      <td>0.983981</td>\n",
       "      <td>0.959834</td>\n",
       "      <td>0.974119</td>\n",
       "      <td>0.970005</td>\n",
       "      <td>0.015120</td>\n",
       "      <td>5</td>\n",
       "    </tr>\n",
       "    <tr>\n",
       "      <th>...</th>\n",
       "      <td>...</td>\n",
       "      <td>...</td>\n",
       "      <td>...</td>\n",
       "      <td>...</td>\n",
       "      <td>...</td>\n",
       "      <td>...</td>\n",
       "      <td>...</td>\n",
       "      <td>...</td>\n",
       "      <td>...</td>\n",
       "      <td>...</td>\n",
       "      <td>...</td>\n",
       "      <td>...</td>\n",
       "      <td>...</td>\n",
       "      <td>...</td>\n",
       "      <td>...</td>\n",
       "    </tr>\n",
       "    <tr>\n",
       "      <th>130</th>\n",
       "      <td>0.006251</td>\n",
       "      <td>0.007655</td>\n",
       "      <td>0.003125</td>\n",
       "      <td>0.006250</td>\n",
       "      <td>100</td>\n",
       "      <td>0.5</td>\n",
       "      <td>{'alpha': 100, 'l1_ratio': 0.5}</td>\n",
       "      <td>-0.065801</td>\n",
       "      <td>-0.001383</td>\n",
       "      <td>-0.035135</td>\n",
       "      <td>-0.125421</td>\n",
       "      <td>-0.019034</td>\n",
       "      <td>-0.049355</td>\n",
       "      <td>0.043542</td>\n",
       "      <td>78</td>\n",
       "    </tr>\n",
       "    <tr>\n",
       "      <th>131</th>\n",
       "      <td>0.003125</td>\n",
       "      <td>0.006250</td>\n",
       "      <td>0.006250</td>\n",
       "      <td>0.007655</td>\n",
       "      <td>100</td>\n",
       "      <td>0.6</td>\n",
       "      <td>{'alpha': 100, 'l1_ratio': 0.6}</td>\n",
       "      <td>-0.065801</td>\n",
       "      <td>-0.001383</td>\n",
       "      <td>-0.035135</td>\n",
       "      <td>-0.125421</td>\n",
       "      <td>-0.019034</td>\n",
       "      <td>-0.049355</td>\n",
       "      <td>0.043542</td>\n",
       "      <td>78</td>\n",
       "    </tr>\n",
       "    <tr>\n",
       "      <th>132</th>\n",
       "      <td>0.006251</td>\n",
       "      <td>0.007655</td>\n",
       "      <td>0.003125</td>\n",
       "      <td>0.006250</td>\n",
       "      <td>100</td>\n",
       "      <td>0.7</td>\n",
       "      <td>{'alpha': 100, 'l1_ratio': 0.7}</td>\n",
       "      <td>-0.065801</td>\n",
       "      <td>-0.001383</td>\n",
       "      <td>-0.035135</td>\n",
       "      <td>-0.125421</td>\n",
       "      <td>-0.019034</td>\n",
       "      <td>-0.049355</td>\n",
       "      <td>0.043542</td>\n",
       "      <td>78</td>\n",
       "    </tr>\n",
       "    <tr>\n",
       "      <th>133</th>\n",
       "      <td>0.003125</td>\n",
       "      <td>0.006251</td>\n",
       "      <td>0.003125</td>\n",
       "      <td>0.006251</td>\n",
       "      <td>100</td>\n",
       "      <td>0.8</td>\n",
       "      <td>{'alpha': 100, 'l1_ratio': 0.8}</td>\n",
       "      <td>-0.065801</td>\n",
       "      <td>-0.001383</td>\n",
       "      <td>-0.035135</td>\n",
       "      <td>-0.125421</td>\n",
       "      <td>-0.019034</td>\n",
       "      <td>-0.049355</td>\n",
       "      <td>0.043542</td>\n",
       "      <td>78</td>\n",
       "    </tr>\n",
       "    <tr>\n",
       "      <th>134</th>\n",
       "      <td>0.006250</td>\n",
       "      <td>0.007655</td>\n",
       "      <td>0.003125</td>\n",
       "      <td>0.006250</td>\n",
       "      <td>100</td>\n",
       "      <td>0.9</td>\n",
       "      <td>{'alpha': 100, 'l1_ratio': 0.9}</td>\n",
       "      <td>-0.065801</td>\n",
       "      <td>-0.001383</td>\n",
       "      <td>-0.035135</td>\n",
       "      <td>-0.125421</td>\n",
       "      <td>-0.019034</td>\n",
       "      <td>-0.049355</td>\n",
       "      <td>0.043542</td>\n",
       "      <td>78</td>\n",
       "    </tr>\n",
       "  </tbody>\n",
       "</table>\n",
       "<p>135 rows × 15 columns</p>\n",
       "</div>"
      ],
      "text/plain": [
       "     mean_fit_time  std_fit_time  mean_score_time  std_score_time param_alpha  \\\n",
       "0         0.009602      0.007839         0.007201        0.003919       1e-05   \n",
       "1         0.010401      0.003199         0.010600        0.007889       1e-05   \n",
       "2         0.006356      0.005877         0.003126        0.006253       1e-05   \n",
       "3         0.003125      0.006250         0.006251        0.007656       1e-05   \n",
       "4         0.006250      0.007654         0.006252        0.007657       1e-05   \n",
       "..             ...           ...              ...             ...         ...   \n",
       "130       0.006251      0.007655         0.003125        0.006250         100   \n",
       "131       0.003125      0.006250         0.006250        0.007655         100   \n",
       "132       0.006251      0.007655         0.003125        0.006250         100   \n",
       "133       0.003125      0.006251         0.003125        0.006251         100   \n",
       "134       0.006250      0.007655         0.003125        0.006250         100   \n",
       "\n",
       "    param_l1_ratio                             params  split0_test_score  \\\n",
       "0              0.1  {'alpha': 1e-05, 'l1_ratio': 0.1}           0.986011   \n",
       "1              0.2  {'alpha': 1e-05, 'l1_ratio': 0.2}           0.986007   \n",
       "2              0.3  {'alpha': 1e-05, 'l1_ratio': 0.3}           0.986003   \n",
       "3              0.4  {'alpha': 1e-05, 'l1_ratio': 0.4}           0.985999   \n",
       "4              0.5  {'alpha': 1e-05, 'l1_ratio': 0.5}           0.985995   \n",
       "..             ...                                ...                ...   \n",
       "130            0.5    {'alpha': 100, 'l1_ratio': 0.5}          -0.065801   \n",
       "131            0.6    {'alpha': 100, 'l1_ratio': 0.6}          -0.065801   \n",
       "132            0.7    {'alpha': 100, 'l1_ratio': 0.7}          -0.065801   \n",
       "133            0.8    {'alpha': 100, 'l1_ratio': 0.8}          -0.065801   \n",
       "134            0.9    {'alpha': 100, 'l1_ratio': 0.9}          -0.065801   \n",
       "\n",
       "     split1_test_score  split2_test_score  split3_test_score  \\\n",
       "0             0.946125           0.983983           0.959809   \n",
       "1             0.946118           0.983982           0.959815   \n",
       "2             0.946110           0.983982           0.959821   \n",
       "3             0.946103           0.983981           0.959828   \n",
       "4             0.946095           0.983981           0.959834   \n",
       "..                 ...                ...                ...   \n",
       "130          -0.001383          -0.035135          -0.125421   \n",
       "131          -0.001383          -0.035135          -0.125421   \n",
       "132          -0.001383          -0.035135          -0.125421   \n",
       "133          -0.001383          -0.035135          -0.125421   \n",
       "134          -0.001383          -0.035135          -0.125421   \n",
       "\n",
       "     split4_test_score  mean_test_score  std_test_score  rank_test_score  \n",
       "0             0.974105         0.970006        0.015117                1  \n",
       "1             0.974108         0.970006        0.015118                2  \n",
       "2             0.974112         0.970006        0.015118                3  \n",
       "3             0.974116         0.970005        0.015119                4  \n",
       "4             0.974119         0.970005        0.015120                5  \n",
       "..                 ...              ...             ...              ...  \n",
       "130          -0.019034        -0.049355        0.043542               78  \n",
       "131          -0.019034        -0.049355        0.043542               78  \n",
       "132          -0.019034        -0.049355        0.043542               78  \n",
       "133          -0.019034        -0.049355        0.043542               78  \n",
       "134          -0.019034        -0.049355        0.043542               78  \n",
       "\n",
       "[135 rows x 15 columns]"
      ]
     },
     "execution_count": 104,
     "metadata": {},
     "output_type": "execute_result"
    }
   ],
   "source": [
    "# To get result:\n",
    "pd.DataFrame(mod_grid.cv_results_)"
   ]
  },
  {
   "cell_type": "code",
   "execution_count": null,
   "metadata": {},
   "outputs": [],
   "source": [
    "# By comparing above three methods, Ridge GridSearchCV have slightly best mean Score of 0.9700073118459338 compared with others."
   ]
  },
  {
   "cell_type": "code",
   "execution_count": 105,
   "metadata": {},
   "outputs": [
    {
     "data": {
      "text/html": [
       "<div>\n",
       "<style scoped>\n",
       "    .dataframe tbody tr th:only-of-type {\n",
       "        vertical-align: middle;\n",
       "    }\n",
       "\n",
       "    .dataframe tbody tr th {\n",
       "        vertical-align: top;\n",
       "    }\n",
       "\n",
       "    .dataframe thead th {\n",
       "        text-align: right;\n",
       "    }\n",
       "</style>\n",
       "<table border=\"1\" class=\"dataframe\">\n",
       "  <thead>\n",
       "    <tr style=\"text-align: right;\">\n",
       "      <th></th>\n",
       "      <th>Species</th>\n",
       "      <th>Length1</th>\n",
       "      <th>Height</th>\n",
       "    </tr>\n",
       "  </thead>\n",
       "  <tbody>\n",
       "    <tr>\n",
       "      <th>0</th>\n",
       "      <td>0.00665</td>\n",
       "      <td>-3.090494</td>\n",
       "      <td>2.531462</td>\n",
       "    </tr>\n",
       "    <tr>\n",
       "      <th>1</th>\n",
       "      <td>0.00665</td>\n",
       "      <td>-2.290494</td>\n",
       "      <td>3.491462</td>\n",
       "    </tr>\n",
       "    <tr>\n",
       "      <th>2</th>\n",
       "      <td>0.00665</td>\n",
       "      <td>-2.390494</td>\n",
       "      <td>3.389262</td>\n",
       "    </tr>\n",
       "    <tr>\n",
       "      <th>3</th>\n",
       "      <td>0.00665</td>\n",
       "      <td>0.009506</td>\n",
       "      <td>3.741462</td>\n",
       "    </tr>\n",
       "    <tr>\n",
       "      <th>4</th>\n",
       "      <td>0.00665</td>\n",
       "      <td>0.209506</td>\n",
       "      <td>3.455462</td>\n",
       "    </tr>\n",
       "  </tbody>\n",
       "</table>\n",
       "</div>"
      ],
      "text/plain": [
       "   Species   Length1    Height\n",
       "0  0.00665 -3.090494  2.531462\n",
       "1  0.00665 -2.290494  3.491462\n",
       "2  0.00665 -2.390494  3.389262\n",
       "3  0.00665  0.009506  3.741462\n",
       "4  0.00665  0.209506  3.455462"
      ]
     },
     "execution_count": 105,
     "metadata": {},
     "output_type": "execute_result"
    }
   ],
   "source": [
    "# Bias error and R2 value is same for all three feature selection method. \n",
    "# so to build the final model we can take any one feature selected input.\n",
    "\n",
    "final_inp = inpv3[feat_forward]\n",
    "final_inp.head()"
   ]
  },
  {
   "cell_type": "code",
   "execution_count": 106,
   "metadata": {},
   "outputs": [
    {
     "data": {
      "text/html": [
       "<table class=\"simpletable\">\n",
       "<caption>OLS Regression Results</caption>\n",
       "<tr>\n",
       "  <th>Dep. Variable:</th>            <td>y</td>        <th>  R-squared:         </th> <td>   0.971</td> \n",
       "</tr>\n",
       "<tr>\n",
       "  <th>Model:</th>                   <td>OLS</td>       <th>  Adj. R-squared:    </th> <td>   0.971</td> \n",
       "</tr>\n",
       "<tr>\n",
       "  <th>Method:</th>             <td>Least Squares</td>  <th>  F-statistic:       </th> <td>   1725.</td> \n",
       "</tr>\n",
       "<tr>\n",
       "  <th>Date:</th>             <td>Wed, 06 Jan 2021</td> <th>  Prob (F-statistic):</th> <td>2.99e-118</td>\n",
       "</tr>\n",
       "<tr>\n",
       "  <th>Time:</th>                 <td>22:59:08</td>     <th>  Log-Likelihood:    </th> <td> -292.95</td> \n",
       "</tr>\n",
       "<tr>\n",
       "  <th>No. Observations:</th>      <td>   158</td>      <th>  AIC:               </th> <td>   593.9</td> \n",
       "</tr>\n",
       "<tr>\n",
       "  <th>Df Residuals:</th>          <td>   154</td>      <th>  BIC:               </th> <td>   606.2</td> \n",
       "</tr>\n",
       "<tr>\n",
       "  <th>Df Model:</th>              <td>     3</td>      <th>                     </th>     <td> </td>    \n",
       "</tr>\n",
       "<tr>\n",
       "  <th>Covariance Type:</th>      <td>nonrobust</td>    <th>                     </th>     <td> </td>    \n",
       "</tr>\n",
       "</table>\n",
       "<table class=\"simpletable\">\n",
       "<tr>\n",
       "     <td></td>        <th>coef</th>     <th>std err</th>      <th>t</th>      <th>P>|t|</th>  <th>[0.025</th>    <th>0.975]</th>  \n",
       "</tr>\n",
       "<tr>\n",
       "  <th>const</th>   <td>   17.8235</td> <td>    0.125</td> <td>  143.139</td> <td> 0.000</td> <td>   17.578</td> <td>   18.070</td>\n",
       "</tr>\n",
       "<tr>\n",
       "  <th>Species</th> <td>    4.3232</td> <td>    1.089</td> <td>    3.971</td> <td> 0.000</td> <td>    2.172</td> <td>    6.474</td>\n",
       "</tr>\n",
       "<tr>\n",
       "  <th>Length1</th> <td>    0.6548</td> <td>    0.016</td> <td>   40.553</td> <td> 0.000</td> <td>    0.623</td> <td>    0.687</td>\n",
       "</tr>\n",
       "<tr>\n",
       "  <th>Height</th>  <td>    0.7630</td> <td>    0.038</td> <td>   20.331</td> <td> 0.000</td> <td>    0.689</td> <td>    0.837</td>\n",
       "</tr>\n",
       "</table>\n",
       "<table class=\"simpletable\">\n",
       "<tr>\n",
       "  <th>Omnibus:</th>       <td> 8.618</td> <th>  Durbin-Watson:     </th> <td>   0.796</td>\n",
       "</tr>\n",
       "<tr>\n",
       "  <th>Prob(Omnibus):</th> <td> 0.013</td> <th>  Jarque-Bera (JB):  </th> <td>  16.018</td>\n",
       "</tr>\n",
       "<tr>\n",
       "  <th>Skew:</th>          <td> 0.149</td> <th>  Prob(JB):          </th> <td>0.000332</td>\n",
       "</tr>\n",
       "<tr>\n",
       "  <th>Kurtosis:</th>      <td> 4.531</td> <th>  Cond. No.          </th> <td>    90.0</td>\n",
       "</tr>\n",
       "</table><br/><br/>Notes:<br/>[1] Standard Errors assume that the covariance matrix of the errors is correctly specified."
      ],
      "text/plain": [
       "<class 'statsmodels.iolib.summary.Summary'>\n",
       "\"\"\"\n",
       "                            OLS Regression Results                            \n",
       "==============================================================================\n",
       "Dep. Variable:                      y   R-squared:                       0.971\n",
       "Model:                            OLS   Adj. R-squared:                  0.971\n",
       "Method:                 Least Squares   F-statistic:                     1725.\n",
       "Date:                Wed, 06 Jan 2021   Prob (F-statistic):          2.99e-118\n",
       "Time:                        22:59:08   Log-Likelihood:                -292.95\n",
       "No. Observations:                 158   AIC:                             593.9\n",
       "Df Residuals:                     154   BIC:                             606.2\n",
       "Df Model:                           3                                         \n",
       "Covariance Type:            nonrobust                                         \n",
       "==============================================================================\n",
       "                 coef    std err          t      P>|t|      [0.025      0.975]\n",
       "------------------------------------------------------------------------------\n",
       "const         17.8235      0.125    143.139      0.000      17.578      18.070\n",
       "Species        4.3232      1.089      3.971      0.000       2.172       6.474\n",
       "Length1        0.6548      0.016     40.553      0.000       0.623       0.687\n",
       "Height         0.7630      0.038     20.331      0.000       0.689       0.837\n",
       "==============================================================================\n",
       "Omnibus:                        8.618   Durbin-Watson:                   0.796\n",
       "Prob(Omnibus):                  0.013   Jarque-Bera (JB):               16.018\n",
       "Skew:                           0.149   Prob(JB):                     0.000332\n",
       "Kurtosis:                       4.531   Cond. No.                         90.0\n",
       "==============================================================================\n",
       "\n",
       "Notes:\n",
       "[1] Standard Errors assume that the covariance matrix of the errors is correctly specified.\n",
       "\"\"\""
      ]
     },
     "execution_count": 106,
     "metadata": {},
     "output_type": "execute_result"
    }
   ],
   "source": [
    "inpc = sm.add_constant(final_inp)\n",
    "\n",
    "ols = sm.OLS(out.values,inpc)\n",
    "ols_mod = ols.fit()\n",
    "ols_mod.summary()"
   ]
  },
  {
   "cell_type": "code",
   "execution_count": null,
   "metadata": {},
   "outputs": [],
   "source": [
    "# Overall OLS model performance is 97.1% with the input features of Species, Length1, Height for the dependent variable \"Weight\"\n",
    "\n",
    "# For every one unit increase in Length of the fish weight is increase by 0.6548 units provided all other inputs are constant.\n",
    "# similary for every one unit increase in height of the fish, weight is increased by 0.7630 units provided all other inputs are constant\n",
    "# Depending on Species also Weight of fish varies by 4.3232 units for evrey Species."
   ]
  }
 ],
 "metadata": {
  "kernelspec": {
   "display_name": "Python 3",
   "language": "python",
   "name": "python3"
  },
  "language_info": {
   "codemirror_mode": {
    "name": "ipython",
    "version": 3
   },
   "file_extension": ".py",
   "mimetype": "text/x-python",
   "name": "python",
   "nbconvert_exporter": "python",
   "pygments_lexer": "ipython3",
   "version": "3.8.5"
  }
 },
 "nbformat": 4,
 "nbformat_minor": 4
}
